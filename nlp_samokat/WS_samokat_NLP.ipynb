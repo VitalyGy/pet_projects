{
 "cells": [
  {
   "cell_type": "markdown",
   "id": "c8233f12-6649-4d7f-8427-c8bd76f7c4e0",
   "metadata": {},
   "source": [
    "# Проект: Samokat.Tech NLP"
   ]
  },
  {
   "cell_type": "markdown",
   "id": "d44eb4f8-4ef6-42a0-ad47-3321a86fbea0",
   "metadata": {},
   "source": [
    "Вам предлагается решить задачу множественной классификации текстов для определения всех классов, к которым можно отнести каждый экземпляр. В задании представлены ответы на опрос, состоящий из части с выбором ответа из списка и расширенного комментария с произвольным текстом. Необходимо для каждого ответа из 50 различных меток классов выбрать все затронутые."
   ]
  },
  {
   "cell_type": "markdown",
   "id": "5a67d9ae-133a-4e4c-84b6-d9a29a2484df",
   "metadata": {},
   "source": [
    "Метрикой в данной задаче является Accuracy, которая в множественной классификации считается через полное совпадение списка выбранных классов для каждого экземпляра."
   ]
  },
  {
   "cell_type": "code",
   "execution_count": 37,
   "id": "16e4ccaf-3ad5-426f-9365-ca9db811f4f1",
   "metadata": {},
   "outputs": [
    {
     "name": "stderr",
     "output_type": "stream",
     "text": [
      "[nltk_data] Downloading package stopwords to\n",
      "[nltk_data]     C:\\Users\\Виталик\\AppData\\Roaming\\nltk_data...\n",
      "[nltk_data]   Package stopwords is already up-to-date!\n",
      "[nltk_data] Downloading package punkt to\n",
      "[nltk_data]     C:\\Users\\Виталик\\AppData\\Roaming\\nltk_data...\n",
      "[nltk_data]   Package punkt is already up-to-date!\n"
     ]
    }
   ],
   "source": [
    "import pandas as pd\n",
    "import warnings\n",
    "import numpy as np\n",
    "import seaborn as sns\n",
    "import copy\n",
    "import matplotlib.pyplot as plt\n",
    "from datetime import datetime, timedelta, date\n",
    "\n",
    "import nltk\n",
    "nltk.download('stopwords')\n",
    "nltk.download('punkt')\n",
    "from nltk.corpus import stopwords\n",
    "from nltk.tokenize import word_tokenize\n",
    "import re\n",
    "import tqdm\n",
    "from tqdm import notebook\n",
    "from tqdm import tqdm\n",
    "from sklearn.model_selection import train_test_split\n",
    "\n",
    "from nltk.stem.lancaster import LancasterStemmer\n",
    "from nltk.stem import WordNetLemmatizer\n",
    "from nltk.stem.porter import PorterStemmer\n",
    "from sklearn.feature_extraction.text import CountVectorizer\n",
    "from sklearn.feature_extraction.text import TfidfVectorizer\n",
    "\n",
    "from sklearn.linear_model import LogisticRegression\n",
    "from sklearn.multioutput import MultiOutputClassifier\n",
    "from sklearn.pipeline import Pipeline\n",
    "from sklearn.compose import ColumnTransformer\n",
    "from sklearn.feature_extraction.text import TfidfVectorizer\n",
    "from sklearn.model_selection import train_test_split, cross_validate, cross_val_predict\n",
    "from sklearn.metrics import (\n",
    "    f1_score, \n",
    "    accuracy_score,\n",
    "    classification_report, \n",
    ")\n",
    "\n",
    "import torch\n",
    "import transformers\n",
    "from transformers import AutoTokenizer, AutoModelForSequenceClassification, AutoModel, BertConfig\n",
    "from sklearn.metrics import confusion_matrix\n",
    "from sklearn.preprocessing import label_binarize\n",
    "from sklearn.metrics import roc_auc_score\n",
    "from sklearn.metrics import roc_curve, auc\n",
    "\n",
    "import torch.nn as nn\n",
    "from torch.utils.data import DataLoader, Dataset\n",
    "import torch.optim as optim\n",
    "from torch.optim.lr_scheduler import StepLR"
   ]
  },
  {
   "cell_type": "code",
   "execution_count": 3,
   "id": "f8cad529-6a4b-4b9b-937e-06373c6c5b70",
   "metadata": {},
   "outputs": [],
   "source": [
    "RANDOM_STATE = 32\n",
    "pd.options.mode.chained_assignment = None\n",
    "pd.set_option('display.max_columns', None)\n",
    "warnings.simplefilter('ignore')\n",
    "\n",
    "sns.set(style='darkgrid', font_scale=1.2)"
   ]
  },
  {
   "cell_type": "markdown",
   "id": "cbc37088-0c74-4e78-90d1-55e934d78607",
   "metadata": {},
   "source": [
    "# Анализ данных"
   ]
  },
  {
   "cell_type": "markdown",
   "id": "7ad7ef9f-0d4c-474b-8fc7-98318b6c4ae2",
   "metadata": {},
   "source": [
    "Проанализируем данные. Поищем дупликаты"
   ]
  },
  {
   "cell_type": "code",
   "execution_count": 4,
   "id": "b623c972-c3bd-4f32-a89a-b21bee8786cc",
   "metadata": {},
   "outputs": [],
   "source": [
    "trends_description = pd.read_csv(\"trends_description.csv\")"
   ]
  },
  {
   "cell_type": "code",
   "execution_count": 5,
   "id": "09f1ee84-019a-4835-9dff-70a07688bd17",
   "metadata": {},
   "outputs": [
    {
     "data": {
      "text/plain": [
       "0    - долго везёте\\n- очень долго везёте\\n- сюда о...\n",
       "1    - клиент делает акцент на то, что раньше мы до...\n",
       "2    - клиент акцентирует внимание, что SLA не соот...\n",
       "3    - клиент акцентриет внимание, что мы часто/каж...\n",
       "4    - клиент говорит о том, что невозможно понять,...\n",
       "Name: explanation, dtype: object"
      ]
     },
     "execution_count": 5,
     "metadata": {},
     "output_type": "execute_result"
    }
   ],
   "source": [
    "trends_description['explanation'].head()"
   ]
  },
  {
   "cell_type": "code",
   "execution_count": 6,
   "id": "1ae04340-3981-4479-b260-084c5e9dd57f",
   "metadata": {},
   "outputs": [],
   "source": [
    "df = pd.read_csv(\"train.csv\")"
   ]
  },
  {
   "cell_type": "code",
   "execution_count": 7,
   "id": "7116ce94-ae1c-4bc9-aa89-3b22cc91bbe5",
   "metadata": {
    "scrolled": true
   },
   "outputs": [
    {
     "data": {
      "text/html": [
       "<div>\n",
       "<style scoped>\n",
       "    .dataframe tbody tr th:only-of-type {\n",
       "        vertical-align: middle;\n",
       "    }\n",
       "\n",
       "    .dataframe tbody tr th {\n",
       "        vertical-align: top;\n",
       "    }\n",
       "\n",
       "    .dataframe thead th {\n",
       "        text-align: right;\n",
       "    }\n",
       "</style>\n",
       "<table border=\"1\" class=\"dataframe\">\n",
       "  <thead>\n",
       "    <tr style=\"text-align: right;\">\n",
       "      <th></th>\n",
       "      <th>index</th>\n",
       "      <th>assessment</th>\n",
       "      <th>tags</th>\n",
       "      <th>text</th>\n",
       "      <th>trend_id_res0</th>\n",
       "      <th>trend_id_res1</th>\n",
       "      <th>trend_id_res2</th>\n",
       "      <th>trend_id_res3</th>\n",
       "      <th>trend_id_res4</th>\n",
       "      <th>trend_id_res5</th>\n",
       "      <th>trend_id_res6</th>\n",
       "      <th>trend_id_res7</th>\n",
       "      <th>trend_id_res8</th>\n",
       "      <th>trend_id_res9</th>\n",
       "      <th>trend_id_res10</th>\n",
       "      <th>trend_id_res11</th>\n",
       "      <th>trend_id_res12</th>\n",
       "      <th>trend_id_res13</th>\n",
       "      <th>trend_id_res14</th>\n",
       "      <th>trend_id_res15</th>\n",
       "      <th>trend_id_res16</th>\n",
       "      <th>trend_id_res17</th>\n",
       "      <th>trend_id_res18</th>\n",
       "      <th>trend_id_res19</th>\n",
       "      <th>trend_id_res20</th>\n",
       "      <th>trend_id_res21</th>\n",
       "      <th>trend_id_res22</th>\n",
       "      <th>trend_id_res23</th>\n",
       "      <th>trend_id_res24</th>\n",
       "      <th>trend_id_res25</th>\n",
       "      <th>trend_id_res26</th>\n",
       "      <th>trend_id_res27</th>\n",
       "      <th>trend_id_res28</th>\n",
       "      <th>trend_id_res29</th>\n",
       "      <th>trend_id_res30</th>\n",
       "      <th>trend_id_res31</th>\n",
       "      <th>trend_id_res32</th>\n",
       "      <th>trend_id_res33</th>\n",
       "      <th>trend_id_res34</th>\n",
       "      <th>trend_id_res35</th>\n",
       "      <th>trend_id_res36</th>\n",
       "      <th>trend_id_res37</th>\n",
       "      <th>trend_id_res38</th>\n",
       "      <th>trend_id_res39</th>\n",
       "      <th>trend_id_res40</th>\n",
       "      <th>trend_id_res41</th>\n",
       "      <th>trend_id_res42</th>\n",
       "      <th>trend_id_res43</th>\n",
       "      <th>trend_id_res44</th>\n",
       "      <th>trend_id_res45</th>\n",
       "      <th>trend_id_res46</th>\n",
       "      <th>trend_id_res47</th>\n",
       "      <th>trend_id_res48</th>\n",
       "      <th>trend_id_res49</th>\n",
       "    </tr>\n",
       "  </thead>\n",
       "  <tbody>\n",
       "    <tr>\n",
       "      <th>0</th>\n",
       "      <td>5652</td>\n",
       "      <td>6.0</td>\n",
       "      <td>{ASSORTMENT,PROMOTIONS,DELIVERY}</td>\n",
       "      <td>Маленький выбор товаров, хотелось бы ассортиме...</td>\n",
       "      <td>0</td>\n",
       "      <td>0</td>\n",
       "      <td>0</td>\n",
       "      <td>0</td>\n",
       "      <td>0</td>\n",
       "      <td>0</td>\n",
       "      <td>0</td>\n",
       "      <td>0</td>\n",
       "      <td>0</td>\n",
       "      <td>0</td>\n",
       "      <td>0</td>\n",
       "      <td>0</td>\n",
       "      <td>0</td>\n",
       "      <td>0</td>\n",
       "      <td>0</td>\n",
       "      <td>0</td>\n",
       "      <td>0</td>\n",
       "      <td>0</td>\n",
       "      <td>0</td>\n",
       "      <td>0</td>\n",
       "      <td>0</td>\n",
       "      <td>0</td>\n",
       "      <td>0</td>\n",
       "      <td>0</td>\n",
       "      <td>0</td>\n",
       "      <td>0</td>\n",
       "      <td>0</td>\n",
       "      <td>0</td>\n",
       "      <td>1</td>\n",
       "      <td>0</td>\n",
       "      <td>0</td>\n",
       "      <td>0</td>\n",
       "      <td>0</td>\n",
       "      <td>0</td>\n",
       "      <td>0</td>\n",
       "      <td>0</td>\n",
       "      <td>0</td>\n",
       "      <td>0</td>\n",
       "      <td>0</td>\n",
       "      <td>0</td>\n",
       "      <td>0</td>\n",
       "      <td>0</td>\n",
       "      <td>0</td>\n",
       "      <td>0</td>\n",
       "      <td>0</td>\n",
       "      <td>0</td>\n",
       "      <td>0</td>\n",
       "      <td>0</td>\n",
       "      <td>0</td>\n",
       "      <td>0</td>\n",
       "    </tr>\n",
       "    <tr>\n",
       "      <th>1</th>\n",
       "      <td>18092</td>\n",
       "      <td>4.0</td>\n",
       "      <td>{ASSORTMENT,PRICE,PRODUCTS_QUALITY,DELIVERY}</td>\n",
       "      <td>Быстро</td>\n",
       "      <td>0</td>\n",
       "      <td>0</td>\n",
       "      <td>0</td>\n",
       "      <td>0</td>\n",
       "      <td>0</td>\n",
       "      <td>0</td>\n",
       "      <td>0</td>\n",
       "      <td>0</td>\n",
       "      <td>0</td>\n",
       "      <td>0</td>\n",
       "      <td>0</td>\n",
       "      <td>0</td>\n",
       "      <td>0</td>\n",
       "      <td>0</td>\n",
       "      <td>0</td>\n",
       "      <td>0</td>\n",
       "      <td>0</td>\n",
       "      <td>0</td>\n",
       "      <td>1</td>\n",
       "      <td>0</td>\n",
       "      <td>0</td>\n",
       "      <td>0</td>\n",
       "      <td>0</td>\n",
       "      <td>0</td>\n",
       "      <td>0</td>\n",
       "      <td>0</td>\n",
       "      <td>0</td>\n",
       "      <td>0</td>\n",
       "      <td>0</td>\n",
       "      <td>0</td>\n",
       "      <td>0</td>\n",
       "      <td>0</td>\n",
       "      <td>0</td>\n",
       "      <td>0</td>\n",
       "      <td>0</td>\n",
       "      <td>0</td>\n",
       "      <td>0</td>\n",
       "      <td>0</td>\n",
       "      <td>0</td>\n",
       "      <td>0</td>\n",
       "      <td>0</td>\n",
       "      <td>0</td>\n",
       "      <td>0</td>\n",
       "      <td>0</td>\n",
       "      <td>0</td>\n",
       "      <td>0</td>\n",
       "      <td>0</td>\n",
       "      <td>0</td>\n",
       "      <td>0</td>\n",
       "      <td>0</td>\n",
       "    </tr>\n",
       "    <tr>\n",
       "      <th>2</th>\n",
       "      <td>13845</td>\n",
       "      <td>6.0</td>\n",
       "      <td>{DELIVERY,PROMOTIONS,PRICE,ASSORTMENT,SUPPORT}</td>\n",
       "      <td>Доставка постоянно задерживается</td>\n",
       "      <td>0</td>\n",
       "      <td>0</td>\n",
       "      <td>0</td>\n",
       "      <td>1</td>\n",
       "      <td>0</td>\n",
       "      <td>0</td>\n",
       "      <td>0</td>\n",
       "      <td>0</td>\n",
       "      <td>0</td>\n",
       "      <td>0</td>\n",
       "      <td>0</td>\n",
       "      <td>0</td>\n",
       "      <td>0</td>\n",
       "      <td>0</td>\n",
       "      <td>0</td>\n",
       "      <td>0</td>\n",
       "      <td>0</td>\n",
       "      <td>0</td>\n",
       "      <td>0</td>\n",
       "      <td>0</td>\n",
       "      <td>0</td>\n",
       "      <td>0</td>\n",
       "      <td>0</td>\n",
       "      <td>0</td>\n",
       "      <td>0</td>\n",
       "      <td>0</td>\n",
       "      <td>0</td>\n",
       "      <td>0</td>\n",
       "      <td>0</td>\n",
       "      <td>0</td>\n",
       "      <td>0</td>\n",
       "      <td>0</td>\n",
       "      <td>0</td>\n",
       "      <td>0</td>\n",
       "      <td>0</td>\n",
       "      <td>0</td>\n",
       "      <td>0</td>\n",
       "      <td>0</td>\n",
       "      <td>0</td>\n",
       "      <td>0</td>\n",
       "      <td>0</td>\n",
       "      <td>0</td>\n",
       "      <td>0</td>\n",
       "      <td>0</td>\n",
       "      <td>0</td>\n",
       "      <td>0</td>\n",
       "      <td>0</td>\n",
       "      <td>0</td>\n",
       "      <td>0</td>\n",
       "      <td>0</td>\n",
       "    </tr>\n",
       "    <tr>\n",
       "      <th>3</th>\n",
       "      <td>25060</td>\n",
       "      <td>6.0</td>\n",
       "      <td>{PRICE,PROMOTIONS,ASSORTMENT}</td>\n",
       "      <td>Наценка и ассортимент расстраивают</td>\n",
       "      <td>0</td>\n",
       "      <td>0</td>\n",
       "      <td>0</td>\n",
       "      <td>0</td>\n",
       "      <td>0</td>\n",
       "      <td>0</td>\n",
       "      <td>0</td>\n",
       "      <td>0</td>\n",
       "      <td>0</td>\n",
       "      <td>0</td>\n",
       "      <td>0</td>\n",
       "      <td>0</td>\n",
       "      <td>1</td>\n",
       "      <td>0</td>\n",
       "      <td>0</td>\n",
       "      <td>0</td>\n",
       "      <td>0</td>\n",
       "      <td>0</td>\n",
       "      <td>0</td>\n",
       "      <td>0</td>\n",
       "      <td>0</td>\n",
       "      <td>0</td>\n",
       "      <td>0</td>\n",
       "      <td>0</td>\n",
       "      <td>0</td>\n",
       "      <td>0</td>\n",
       "      <td>0</td>\n",
       "      <td>0</td>\n",
       "      <td>1</td>\n",
       "      <td>0</td>\n",
       "      <td>0</td>\n",
       "      <td>0</td>\n",
       "      <td>0</td>\n",
       "      <td>0</td>\n",
       "      <td>0</td>\n",
       "      <td>0</td>\n",
       "      <td>0</td>\n",
       "      <td>0</td>\n",
       "      <td>0</td>\n",
       "      <td>0</td>\n",
       "      <td>0</td>\n",
       "      <td>0</td>\n",
       "      <td>0</td>\n",
       "      <td>0</td>\n",
       "      <td>0</td>\n",
       "      <td>0</td>\n",
       "      <td>0</td>\n",
       "      <td>0</td>\n",
       "      <td>0</td>\n",
       "      <td>0</td>\n",
       "    </tr>\n",
       "    <tr>\n",
       "      <th>4</th>\n",
       "      <td>15237</td>\n",
       "      <td>5.0</td>\n",
       "      <td>{ASSORTMENT,PRODUCTS_QUALITY,PROMOTIONS,CATALO...</td>\n",
       "      <td>Доставка просто 👍</td>\n",
       "      <td>0</td>\n",
       "      <td>0</td>\n",
       "      <td>0</td>\n",
       "      <td>0</td>\n",
       "      <td>0</td>\n",
       "      <td>0</td>\n",
       "      <td>0</td>\n",
       "      <td>0</td>\n",
       "      <td>0</td>\n",
       "      <td>0</td>\n",
       "      <td>0</td>\n",
       "      <td>0</td>\n",
       "      <td>0</td>\n",
       "      <td>0</td>\n",
       "      <td>0</td>\n",
       "      <td>0</td>\n",
       "      <td>0</td>\n",
       "      <td>0</td>\n",
       "      <td>0</td>\n",
       "      <td>0</td>\n",
       "      <td>0</td>\n",
       "      <td>0</td>\n",
       "      <td>0</td>\n",
       "      <td>0</td>\n",
       "      <td>0</td>\n",
       "      <td>0</td>\n",
       "      <td>0</td>\n",
       "      <td>0</td>\n",
       "      <td>0</td>\n",
       "      <td>0</td>\n",
       "      <td>0</td>\n",
       "      <td>0</td>\n",
       "      <td>0</td>\n",
       "      <td>0</td>\n",
       "      <td>0</td>\n",
       "      <td>0</td>\n",
       "      <td>0</td>\n",
       "      <td>0</td>\n",
       "      <td>0</td>\n",
       "      <td>0</td>\n",
       "      <td>0</td>\n",
       "      <td>0</td>\n",
       "      <td>0</td>\n",
       "      <td>0</td>\n",
       "      <td>0</td>\n",
       "      <td>0</td>\n",
       "      <td>0</td>\n",
       "      <td>0</td>\n",
       "      <td>0</td>\n",
       "      <td>0</td>\n",
       "    </tr>\n",
       "  </tbody>\n",
       "</table>\n",
       "</div>"
      ],
      "text/plain": [
       "   index  assessment                                               tags  \\\n",
       "0   5652         6.0                   {ASSORTMENT,PROMOTIONS,DELIVERY}   \n",
       "1  18092         4.0       {ASSORTMENT,PRICE,PRODUCTS_QUALITY,DELIVERY}   \n",
       "2  13845         6.0     {DELIVERY,PROMOTIONS,PRICE,ASSORTMENT,SUPPORT}   \n",
       "3  25060         6.0                      {PRICE,PROMOTIONS,ASSORTMENT}   \n",
       "4  15237         5.0  {ASSORTMENT,PRODUCTS_QUALITY,PROMOTIONS,CATALO...   \n",
       "\n",
       "                                                text  trend_id_res0  \\\n",
       "0  Маленький выбор товаров, хотелось бы ассортиме...              0   \n",
       "1                                             Быстро              0   \n",
       "2                   Доставка постоянно задерживается              0   \n",
       "3                 Наценка и ассортимент расстраивают              0   \n",
       "4                                  Доставка просто 👍              0   \n",
       "\n",
       "   trend_id_res1  trend_id_res2  trend_id_res3  trend_id_res4  trend_id_res5  \\\n",
       "0              0              0              0              0              0   \n",
       "1              0              0              0              0              0   \n",
       "2              0              0              1              0              0   \n",
       "3              0              0              0              0              0   \n",
       "4              0              0              0              0              0   \n",
       "\n",
       "   trend_id_res6  trend_id_res7  trend_id_res8  trend_id_res9  trend_id_res10  \\\n",
       "0              0              0              0              0               0   \n",
       "1              0              0              0              0               0   \n",
       "2              0              0              0              0               0   \n",
       "3              0              0              0              0               0   \n",
       "4              0              0              0              0               0   \n",
       "\n",
       "   trend_id_res11  trend_id_res12  trend_id_res13  trend_id_res14  \\\n",
       "0               0               0               0               0   \n",
       "1               0               0               0               0   \n",
       "2               0               0               0               0   \n",
       "3               0               1               0               0   \n",
       "4               0               0               0               0   \n",
       "\n",
       "   trend_id_res15  trend_id_res16  trend_id_res17  trend_id_res18  \\\n",
       "0               0               0               0               0   \n",
       "1               0               0               0               1   \n",
       "2               0               0               0               0   \n",
       "3               0               0               0               0   \n",
       "4               0               0               0               0   \n",
       "\n",
       "   trend_id_res19  trend_id_res20  trend_id_res21  trend_id_res22  \\\n",
       "0               0               0               0               0   \n",
       "1               0               0               0               0   \n",
       "2               0               0               0               0   \n",
       "3               0               0               0               0   \n",
       "4               0               0               0               0   \n",
       "\n",
       "   trend_id_res23  trend_id_res24  trend_id_res25  trend_id_res26  \\\n",
       "0               0               0               0               0   \n",
       "1               0               0               0               0   \n",
       "2               0               0               0               0   \n",
       "3               0               0               0               0   \n",
       "4               0               0               0               0   \n",
       "\n",
       "   trend_id_res27  trend_id_res28  trend_id_res29  trend_id_res30  \\\n",
       "0               0               1               0               0   \n",
       "1               0               0               0               0   \n",
       "2               0               0               0               0   \n",
       "3               0               1               0               0   \n",
       "4               0               0               0               0   \n",
       "\n",
       "   trend_id_res31  trend_id_res32  trend_id_res33  trend_id_res34  \\\n",
       "0               0               0               0               0   \n",
       "1               0               0               0               0   \n",
       "2               0               0               0               0   \n",
       "3               0               0               0               0   \n",
       "4               0               0               0               0   \n",
       "\n",
       "   trend_id_res35  trend_id_res36  trend_id_res37  trend_id_res38  \\\n",
       "0               0               0               0               0   \n",
       "1               0               0               0               0   \n",
       "2               0               0               0               0   \n",
       "3               0               0               0               0   \n",
       "4               0               0               0               0   \n",
       "\n",
       "   trend_id_res39  trend_id_res40  trend_id_res41  trend_id_res42  \\\n",
       "0               0               0               0               0   \n",
       "1               0               0               0               0   \n",
       "2               0               0               0               0   \n",
       "3               0               0               0               0   \n",
       "4               0               0               0               0   \n",
       "\n",
       "   trend_id_res43  trend_id_res44  trend_id_res45  trend_id_res46  \\\n",
       "0               0               0               0               0   \n",
       "1               0               0               0               0   \n",
       "2               0               0               0               0   \n",
       "3               0               0               0               0   \n",
       "4               0               0               0               0   \n",
       "\n",
       "   trend_id_res47  trend_id_res48  trend_id_res49  \n",
       "0               0               0               0  \n",
       "1               0               0               0  \n",
       "2               0               0               0  \n",
       "3               0               0               0  \n",
       "4               0               0               0  "
      ]
     },
     "execution_count": 7,
     "metadata": {},
     "output_type": "execute_result"
    }
   ],
   "source": [
    "df.head()"
   ]
  },
  {
   "cell_type": "code",
   "execution_count": 8,
   "id": "7244e4cf-7ff4-45f4-a285-dd0c7fcbacce",
   "metadata": {},
   "outputs": [
    {
     "data": {
      "text/plain": [
       "(8708, 54)"
      ]
     },
     "execution_count": 8,
     "metadata": {},
     "output_type": "execute_result"
    }
   ],
   "source": [
    "df.shape"
   ]
  },
  {
   "cell_type": "code",
   "execution_count": 9,
   "id": "cb49162f-8925-46ce-8c12-e63d00d067b6",
   "metadata": {},
   "outputs": [
    {
     "name": "stdout",
     "output_type": "stream",
     "text": [
      "<class 'pandas.core.frame.DataFrame'>\n",
      "RangeIndex: 8708 entries, 0 to 8707\n",
      "Data columns (total 54 columns):\n",
      " #   Column          Non-Null Count  Dtype  \n",
      "---  ------          --------------  -----  \n",
      " 0   index           8708 non-null   int64  \n",
      " 1   assessment      8478 non-null   float64\n",
      " 2   tags            8697 non-null   object \n",
      " 3   text            8708 non-null   object \n",
      " 4   trend_id_res0   8708 non-null   int64  \n",
      " 5   trend_id_res1   8708 non-null   int64  \n",
      " 6   trend_id_res2   8708 non-null   int64  \n",
      " 7   trend_id_res3   8708 non-null   int64  \n",
      " 8   trend_id_res4   8708 non-null   int64  \n",
      " 9   trend_id_res5   8708 non-null   int64  \n",
      " 10  trend_id_res6   8708 non-null   int64  \n",
      " 11  trend_id_res7   8708 non-null   int64  \n",
      " 12  trend_id_res8   8708 non-null   int64  \n",
      " 13  trend_id_res9   8708 non-null   int64  \n",
      " 14  trend_id_res10  8708 non-null   int64  \n",
      " 15  trend_id_res11  8708 non-null   int64  \n",
      " 16  trend_id_res12  8708 non-null   int64  \n",
      " 17  trend_id_res13  8708 non-null   int64  \n",
      " 18  trend_id_res14  8708 non-null   int64  \n",
      " 19  trend_id_res15  8708 non-null   int64  \n",
      " 20  trend_id_res16  8708 non-null   int64  \n",
      " 21  trend_id_res17  8708 non-null   int64  \n",
      " 22  trend_id_res18  8708 non-null   int64  \n",
      " 23  trend_id_res19  8708 non-null   int64  \n",
      " 24  trend_id_res20  8708 non-null   int64  \n",
      " 25  trend_id_res21  8708 non-null   int64  \n",
      " 26  trend_id_res22  8708 non-null   int64  \n",
      " 27  trend_id_res23  8708 non-null   int64  \n",
      " 28  trend_id_res24  8708 non-null   int64  \n",
      " 29  trend_id_res25  8708 non-null   int64  \n",
      " 30  trend_id_res26  8708 non-null   int64  \n",
      " 31  trend_id_res27  8708 non-null   int64  \n",
      " 32  trend_id_res28  8708 non-null   int64  \n",
      " 33  trend_id_res29  8708 non-null   int64  \n",
      " 34  trend_id_res30  8708 non-null   int64  \n",
      " 35  trend_id_res31  8708 non-null   int64  \n",
      " 36  trend_id_res32  8708 non-null   int64  \n",
      " 37  trend_id_res33  8708 non-null   int64  \n",
      " 38  trend_id_res34  8708 non-null   int64  \n",
      " 39  trend_id_res35  8708 non-null   int64  \n",
      " 40  trend_id_res36  8708 non-null   int64  \n",
      " 41  trend_id_res37  8708 non-null   int64  \n",
      " 42  trend_id_res38  8708 non-null   int64  \n",
      " 43  trend_id_res39  8708 non-null   int64  \n",
      " 44  trend_id_res40  8708 non-null   int64  \n",
      " 45  trend_id_res41  8708 non-null   int64  \n",
      " 46  trend_id_res42  8708 non-null   int64  \n",
      " 47  trend_id_res43  8708 non-null   int64  \n",
      " 48  trend_id_res44  8708 non-null   int64  \n",
      " 49  trend_id_res45  8708 non-null   int64  \n",
      " 50  trend_id_res46  8708 non-null   int64  \n",
      " 51  trend_id_res47  8708 non-null   int64  \n",
      " 52  trend_id_res48  8708 non-null   int64  \n",
      " 53  trend_id_res49  8708 non-null   int64  \n",
      "dtypes: float64(1), int64(51), object(2)\n",
      "memory usage: 3.6+ MB\n"
     ]
    }
   ],
   "source": [
    "df.info()"
   ]
  },
  {
   "cell_type": "code",
   "execution_count": 10,
   "id": "c05c20bc-c2dc-4bf0-9bcf-cf8419d48f85",
   "metadata": {},
   "outputs": [
    {
     "data": {
      "text/plain": [
       "array([0, 1], dtype=int64)"
      ]
     },
     "execution_count": 10,
     "metadata": {},
     "output_type": "execute_result"
    }
   ],
   "source": [
    "np.unique(df['trend_id_res0'])"
   ]
  },
  {
   "cell_type": "code",
   "execution_count": 11,
   "id": "af54b8cd-05b7-4857-993c-bc6a0f3354fc",
   "metadata": {},
   "outputs": [],
   "source": [
    "df['sum'] = df[[f\"trend_id_res{i}\" for i in range(50)]].sum(axis=1)"
   ]
  },
  {
   "cell_type": "code",
   "execution_count": 12,
   "id": "1f0a632f-2926-4928-9c57-c61fcc14a5b4",
   "metadata": {},
   "outputs": [
    {
     "data": {
      "text/plain": [
       "0    4085\n",
       "1    3012\n",
       "2    1173\n",
       "3     354\n",
       "4      84\n",
       "Name: sum, dtype: int64"
      ]
     },
     "execution_count": 12,
     "metadata": {},
     "output_type": "execute_result"
    }
   ],
   "source": [
    "df['sum'].value_counts()"
   ]
  },
  {
   "cell_type": "code",
   "execution_count": 13,
   "id": "37904a84-403b-4e06-92da-abbb657c1764",
   "metadata": {},
   "outputs": [
    {
     "data": {
      "text/plain": [
       "0.46910886541111624"
      ]
     },
     "execution_count": 13,
     "metadata": {},
     "output_type": "execute_result"
    }
   ],
   "source": [
    "a = 4085 / 8708\n",
    "a"
   ]
  },
  {
   "cell_type": "code",
   "execution_count": 14,
   "id": "e894ddcd-a3db-4809-a4a1-fb1ea6be50db",
   "metadata": {},
   "outputs": [
    {
     "name": "stdout",
     "output_type": "stream",
     "text": [
      "Тематика trend_id_res0 837\n",
      "Тематика trend_id_res1 347\n",
      "Тематика trend_id_res2 597\n",
      "Тематика trend_id_res3 361\n",
      "Тематика trend_id_res4 126\n",
      "Тематика trend_id_res5 52\n",
      "Тематика trend_id_res6 21\n",
      "Тематика trend_id_res7 35\n",
      "Тематика trend_id_res8 140\n",
      "Тематика trend_id_res9 10\n",
      "Тематика trend_id_res10 96\n",
      "Тематика trend_id_res11 108\n",
      "Тематика trend_id_res12 624\n",
      "Тематика trend_id_res13 34\n",
      "Тематика trend_id_res14 73\n",
      "Тематика trend_id_res15 81\n",
      "Тематика trend_id_res16 191\n",
      "Тематика trend_id_res17 9\n",
      "Тематика trend_id_res18 231\n",
      "Тематика trend_id_res19 360\n",
      "Тематика trend_id_res20 132\n",
      "Тематика trend_id_res21 99\n",
      "Тематика trend_id_res22 25\n",
      "Тематика trend_id_res23 65\n",
      "Тематика trend_id_res24 10\n",
      "Тематика trend_id_res25 13\n",
      "Тематика trend_id_res26 27\n",
      "Тематика trend_id_res27 530\n",
      "Тематика trend_id_res28 420\n",
      "Тематика trend_id_res29 61\n",
      "Тематика trend_id_res30 306\n",
      "Тематика trend_id_res31 50\n",
      "Тематика trend_id_res32 13\n",
      "Тематика trend_id_res33 28\n",
      "Тематика trend_id_res34 11\n",
      "Тематика trend_id_res35 58\n",
      "Тематика trend_id_res36 167\n",
      "Тематика trend_id_res37 46\n",
      "Тематика trend_id_res38 28\n",
      "Тематика trend_id_res39 44\n",
      "Тематика trend_id_res40 72\n",
      "Тематика trend_id_res41 21\n",
      "Тематика trend_id_res42 35\n",
      "Тематика trend_id_res43 44\n",
      "Тематика trend_id_res44 27\n",
      "Тематика trend_id_res45 12\n",
      "Тематика trend_id_res46 7\n",
      "Тематика trend_id_res47 31\n",
      "Тематика trend_id_res48 29\n",
      "Тематика trend_id_res49 12\n"
     ]
    }
   ],
   "source": [
    "for i in df.columns[4:54]:\n",
    "    print('Тематика', i, df[i].value_counts()[1])"
   ]
  },
  {
   "cell_type": "code",
   "execution_count": 15,
   "id": "811d4176-ff3e-4b30-801b-679c32bd7d07",
   "metadata": {},
   "outputs": [
    {
     "name": "stdout",
     "output_type": "stream",
     "text": [
      "Видимо везёт сильно мне) но курьеры все какие то странные, все написано в комментариях подробно, они все равно стоят и ждут, а потом ругаются что они долго ждут) научите читать курьеров комментарии\n",
      "__________________________________________________\n",
      "Постоянные опозд-я,отсутсв.клиент-ти.На замеч.не класть карт-ку с землей в общий пакет с прод. не реагируют.Кл-ты моют прод-ты от земли. Всем плевать на жалобы,отписки по шаблону.Вкусвилл везёт прод. столько же,цены адекватнее,клиент-ть на высоте.👎🏻👎🏻\n",
      "__________________________________________________\n",
      "Я думаю вы компания обманщиков, так как регулярная цена ничем не отличается от цены со скидкой. Вы кого обмануть пытаетесь???? А ещё мне ни разу не привезли сегодняшний хлеб, он всегда вчерашний или позавчерашний даже если я в комментариях прошу об этом.\n",
      "__________________________________________________\n",
      "Неудобно следить за доставкой. Время трекера не соответствует реальности. На карте видеть курьера удобнее. Курьеры игнорируют комментарий «оставить у двери»- моя собака заходится лаем от стука каждый раз\n",
      "__________________________________________________\n",
      "Я думаю что вы там все порядочные ребята , ещё бы научились комментарии читать , были бы друзьями на всю жизнь\n",
      "__________________________________________________\n",
      "Пользуюсь самокатом с [NUM] года могу сказать что основная проблема самоката - это доставка и поддержка. неоднократно сталкивалась с тем, что курьеры не читают комментарии, грубят, отменяют заказ самовольно. Поддержка не помогла ни разу.\n",
      "__________________________________________________\n",
      "Который раз уже привозят йогурты подходящие к концу срока. Сегодня написал, что надо свежие и все равно привезли йогурт, который через три дня умрет. Это издевательство что ли?? Я уже пару раз после вашего такого йогурта проводил день на унитазе.\n",
      "__________________________________________________\n",
      "Несколько раз не получали заказ из-за того, что курьеры не могли найти вход в дом и не звонили. Вход с улицы, единственная дверь, в комментариях это дополнительно описано.Поддержка равнодушна. Делаю заказы режетолько потому что ребёнок любит ваши продукты\n",
      "__________________________________________________\n",
      "Сборщикам все равно на комментарии\n",
      "__________________________________________________\n"
     ]
    }
   ],
   "source": [
    "for i in range(len(df['trend_id_res17'])):\n",
    "    if df.loc[i, 'trend_id_res17'] == 1:\n",
    "        print(df.loc[i, 'text'])\n",
    "        print('_'*50)"
   ]
  },
  {
   "cell_type": "code",
   "execution_count": 16,
   "id": "f053b967-5be6-44fd-ab6d-18730cd3e358",
   "metadata": {},
   "outputs": [
    {
     "data": {
      "text/plain": [
       "'- клиент жалуется на то, что мы не выполнили комментарий (без кпоминания курьера)\\n- если говорят, о том, что курьер не прочитал комментарий —\\xa0относим к категории \"заменчания по работе курьера\"'"
      ]
     },
     "execution_count": 16,
     "metadata": {},
     "output_type": "execute_result"
    }
   ],
   "source": [
    "trends_description['explanation'][17]"
   ]
  },
  {
   "cell_type": "code",
   "execution_count": 19,
   "id": "87485527-bd60-4d0d-a7b2-172ea75869c5",
   "metadata": {},
   "outputs": [
    {
     "data": {
      "text/plain": [
       "0"
      ]
     },
     "execution_count": 19,
     "metadata": {},
     "output_type": "execute_result"
    }
   ],
   "source": [
    "df['index'].duplicated().sum()"
   ]
  },
  {
   "cell_type": "code",
   "execution_count": 91,
   "id": "1a425bcf-bc65-4a70-86a9-50145ca3b047",
   "metadata": {},
   "outputs": [],
   "source": [
    "df_zero = df[(df['sum'] == 0)]"
   ]
  },
  {
   "cell_type": "code",
   "execution_count": 92,
   "id": "ef50b7a7-b27f-4c7b-ae9c-b776c3d50377",
   "metadata": {
    "scrolled": true
   },
   "outputs": [
    {
     "data": {
      "text/plain": [
       "4                                    Доставка просто 👍\n",
       "6    Некоторые продукты не очень хорошего качества,...\n",
       "7                            Слишком часто опаздываете\n",
       "8                                          Все отлично\n",
       "9                                 Спасибо, что Вы есть\n",
       "Name: text, dtype: object"
      ]
     },
     "execution_count": 92,
     "metadata": {},
     "output_type": "execute_result"
    }
   ],
   "source": [
    "df_zero['text'].head()"
   ]
  },
  {
   "cell_type": "markdown",
   "id": "51b88edc-9218-4897-9c9b-f19bae7d219c",
   "metadata": {},
   "source": [
    "Вывод: На входе имеем датасет из 8708 наблюдений. Внутри есть непосредственно комментарии текстом. Теги отмеченые пользователем при комментировании - их можно будет попробывать использовать при обучении. Разметка состоит из 50 котегорий 0 и 1. Полностью нулевых разметок 4085 из 8708. Эти наблюдения будут сильно мешать обучению, но и убирать их нельзя, так как \"пустые\" комментарии - неотемлимая часть подобных сервисов. Некоторые тематики имеют очень мало меток: большенство до 50 шт. 46я тематека всего 7 шт. При таком соотношении я считаю, что модели при обучении мудут стремится отметить 'нули' - это видно метрике в baseline (0,500) против полностью нулевых значений (0.4691). В ходе поверхностной проверке разметка сделано адекватна. Однако мною замечены среди \"нулевых\" разметок информативные комментарие, которые остались без меток. Дупликатов и пропусков нет."
   ]
  },
  {
   "cell_type": "markdown",
   "id": "5cc81a4c-4afd-48f1-a625-8ff2c285dfad",
   "metadata": {},
   "source": [
    "# Обучение моделей и проверка их качества"
   ]
  },
  {
   "cell_type": "markdown",
   "id": "c1ed59a4-6d0b-41fb-b84b-06fdcabb4ca5",
   "metadata": {},
   "source": [
    "В этом разделе буду обучать различные модели с разной предобработкой данных. Сравнивать метрику буду с метрикой полученной на baseline (0.50071)."
   ]
  },
  {
   "cell_type": "code",
   "execution_count": 333,
   "id": "0090d1c1-dab2-4517-879e-8888d707ef08",
   "metadata": {},
   "outputs": [],
   "source": [
    "df = pd.read_csv(\"train.csv\")"
   ]
  },
  {
   "cell_type": "code",
   "execution_count": 158,
   "id": "9e836ece-21e5-4f64-9b0b-a7dc64ace253",
   "metadata": {},
   "outputs": [],
   "source": [
    "X, y = df[[\"text\"]], df[[f\"trend_id_res{i}\" for i in range(50)]]"
   ]
  },
  {
   "cell_type": "markdown",
   "id": "04e7bc5c-7b26-4b0b-8d2e-5cf399d2fe6c",
   "metadata": {},
   "source": [
    "## Обработка текста 0.49698"
   ]
  },
  {
   "cell_type": "markdown",
   "id": "4518da24-c57e-477e-896b-018c4a4b7edb",
   "metadata": {},
   "source": [
    "Суть гепотезы: попробую улучшить качество с помощью обработки текста: нижний регистр, оставляем только крилицу, удаляем стоп-слова."
   ]
  },
  {
   "cell_type": "code",
   "execution_count": 32,
   "id": "36fb3020-6458-4521-b433-464c99a9fbc6",
   "metadata": {},
   "outputs": [],
   "source": [
    "corpus = df['text'].values.astype('U')"
   ]
  },
  {
   "cell_type": "code",
   "execution_count": 33,
   "id": "3ebda597-ad25-4876-ba10-00e2561d8032",
   "metadata": {},
   "outputs": [
    {
     "data": {
      "text/plain": [
       "8708"
      ]
     },
     "execution_count": 33,
     "metadata": {},
     "output_type": "execute_result"
    }
   ],
   "source": [
    "corpus\n",
    "len(corpus)"
   ]
  },
  {
   "cell_type": "code",
   "execution_count": 34,
   "id": "1ffe0cf3-1941-42f3-87c0-9812cd9f6db1",
   "metadata": {},
   "outputs": [],
   "source": [
    "# Функция для предобработки текста.\n",
    "# 1. Нижней регистр\n",
    "# 2. Удаляем символы кроме кирилицы\n",
    "# 3. Удаляем стоп-слова\n",
    "def preprocess_text(texts):\n",
    "    stop_words = set(stopwords.words('russian'))\n",
    "    regex = re.compile('[^а-яА-ЯёЁ ]')\n",
    "    preprocess_texts = []\n",
    "    for i in tqdm.tqdm(range(len(texts))):\n",
    "        text = texts[i].lower()\n",
    "        text = regex.sub(' ', text)\n",
    "        word_tokens = word_tokenize(text)\n",
    "        filtered_sentence = [w for w in word_tokens if not w in stop_words]\n",
    "        preprocess_texts.append(' '.join(filtered_sentence))\n",
    "    return preprocess_texts"
   ]
  },
  {
   "cell_type": "code",
   "execution_count": 44,
   "id": "e5544ab3-8523-4fda-b76e-0c42dda7a6ef",
   "metadata": {},
   "outputs": [
    {
     "name": "stderr",
     "output_type": "stream",
     "text": [
      "100%|████████████████████████████████████████████████████████████████████████████| 8708/8708 [00:00<00:00, 8819.18it/s]\n"
     ]
    }
   ],
   "source": [
    "import tqdm\n",
    "df['preprocess_data'] = preprocess_text(corpus)"
   ]
  },
  {
   "cell_type": "code",
   "execution_count": 45,
   "id": "ff66208e-9568-46c9-be9b-c80cb2c2c585",
   "metadata": {},
   "outputs": [
    {
     "data": {
      "text/plain": [
       "0    маленький выбор товаров хотелось ассортимент в...\n",
       "1                                               быстро\n",
       "2                     доставка постоянно задерживается\n",
       "3                     наценка ассортимент расстраивают\n",
       "4                                      доставка просто\n",
       "Name: preprocess_data, dtype: object"
      ]
     },
     "execution_count": 45,
     "metadata": {},
     "output_type": "execute_result"
    }
   ],
   "source": [
    "df['preprocess_data'].head()"
   ]
  },
  {
   "cell_type": "code",
   "execution_count": 159,
   "id": "f6ba5301-cb90-4c57-9311-4ac2127deb7f",
   "metadata": {},
   "outputs": [],
   "source": [
    "X = X.astype(\"str\").copy()"
   ]
  },
  {
   "cell_type": "code",
   "execution_count": 160,
   "id": "18762ae2-3604-487c-bf90-bd902c49310f",
   "metadata": {},
   "outputs": [
    {
     "name": "stdout",
     "output_type": "stream",
     "text": [
      "X_train.shape is (6966, 1)\n",
      "y_train.shape is (6966, 50)\n",
      "X_test.shape is (1742, 1)\n",
      "y_test.shape is (1742, 50)\n"
     ]
    }
   ],
   "source": [
    "X_train, X_test, y_train, y_test = train_test_split(X, y, test_size = 0.2, random_state = RANDOM_STATE)\n",
    "print(f\"X_train.shape is {X_train.shape}\")\n",
    "print(f\"y_train.shape is {y_train.shape}\")\n",
    "print(f\"X_test.shape is {X_test.shape}\")\n",
    "print(f\"y_test.shape is {y_test.shape}\")"
   ]
  },
  {
   "cell_type": "code",
   "execution_count": 161,
   "id": "54cafd40-087a-4311-a40c-0c34487793ba",
   "metadata": {},
   "outputs": [
    {
     "data": {
      "text/plain": [
       "Pipeline(steps=[('preprocessor',\n",
       "                 ColumnTransformer(remainder='passthrough',\n",
       "                                   transformers=[('vetorizer',\n",
       "                                                  TfidfVectorizer(analyzer='char_wb',\n",
       "                                                                  ngram_range=(1,\n",
       "                                                                               3)),\n",
       "                                                  'text')])),\n",
       "                ('clf',\n",
       "                 MultiOutputClassifier(estimator=LogisticRegression(max_iter=10000)))])"
      ]
     },
     "metadata": {},
     "output_type": "display_data"
    }
   ],
   "source": [
    "preprocessor = ColumnTransformer(\n",
    "    [\n",
    "        (\"vetorizer\", TfidfVectorizer(analyzer=\"char_wb\", ngram_range = (1,3)), \"text\")\n",
    "    ],                         \n",
    "    remainder = \"passthrough\"\n",
    ")\n",
    "\n",
    "pipeline_multiout = Pipeline(\n",
    "    [\n",
    "        (\"preprocessor\", preprocessor),\n",
    "        (\"clf\", MultiOutputClassifier(LogisticRegression(max_iter = 10_000))),\n",
    "    ]\n",
    ")\n",
    "display(pipeline_multiout)"
   ]
  },
  {
   "cell_type": "code",
   "execution_count": 162,
   "id": "e5145f23-672d-4204-8b46-40752cb999cd",
   "metadata": {},
   "outputs": [],
   "source": [
    "cross_valid = cross_validate(pipeline_multiout, \n",
    "                             X_train, y_train, \n",
    "                             cv = 5, scoring = [\"accuracy\"], n_jobs = -1)"
   ]
  },
  {
   "cell_type": "code",
   "execution_count": 163,
   "id": "5192fe29-d4cb-489d-8b22-23582178c978",
   "metadata": {},
   "outputs": [
    {
     "data": {
      "text/plain": [
       "{'fit_time': array([8.19608283, 8.18710303, 8.25392413, 8.37160969, 8.32573128]),\n",
       " 'score_time': array([0.22439575, 0.22739148, 0.20944047, 0.19946694, 0.19846988]),\n",
       " 'test_accuracy': array([0.4892396 , 0.47666906, 0.51256281, 0.51184494, 0.52692032])}"
      ]
     },
     "execution_count": 163,
     "metadata": {},
     "output_type": "execute_result"
    }
   ],
   "source": [
    "cross_valid"
   ]
  },
  {
   "cell_type": "code",
   "execution_count": 164,
   "id": "ad09d337-5d0e-4b3d-982b-803a3e55bd69",
   "metadata": {
    "jupyter": {
     "source_hidden": true
    }
   },
   "outputs": [
    {
     "name": "stdout",
     "output_type": "stream",
     "text": [
      "test_accuracy: 0.5034473453555954\n"
     ]
    }
   ],
   "source": [
    "print(\"test_accuracy:\", cross_valid[\"test_accuracy\"].mean())"
   ]
  },
  {
   "cell_type": "code",
   "execution_count": 165,
   "id": "52851fb5-0fb8-47d2-b667-c0b3dc25a81a",
   "metadata": {},
   "outputs": [
    {
     "data": {
      "text/plain": [
       "0.4982773471145564"
      ]
     },
     "execution_count": 165,
     "metadata": {},
     "output_type": "execute_result"
    }
   ],
   "source": [
    "y_pred = cross_val_predict(pipeline_multiout, X_train, y_train, cv = 2)\n",
    "accuracy_score(y_train, y_pred)\n",
    "# print(classification_report(y_train, y_pred, zero_division = 0))"
   ]
  },
  {
   "cell_type": "code",
   "execution_count": 46,
   "id": "420eabd5-6db3-4ef3-b067-e498c7ccccd8",
   "metadata": {},
   "outputs": [],
   "source": [
    "X, y = df[[\"preprocess_data\"]], df[[f\"trend_id_res{i}\" for i in range(50)]]"
   ]
  },
  {
   "cell_type": "code",
   "execution_count": 47,
   "id": "704fc290-981b-41e7-b9f8-53299e3beef4",
   "metadata": {},
   "outputs": [],
   "source": [
    "X = X.astype(\"str\").copy()"
   ]
  },
  {
   "cell_type": "code",
   "execution_count": 48,
   "id": "7bba9d5d-2df2-4e3f-93bd-a541cf70ebe2",
   "metadata": {},
   "outputs": [
    {
     "name": "stdout",
     "output_type": "stream",
     "text": [
      "X_train.shape is (6966, 1)\n",
      "y_train.shape is (6966, 50)\n",
      "X_test.shape is (1742, 1)\n",
      "y_test.shape is (1742, 50)\n"
     ]
    }
   ],
   "source": [
    "X_train, X_test, y_train, y_test = train_test_split(X, y, test_size = 0.2, random_state = RANDOM_STATE)\n",
    "print(f\"X_train.shape is {X_train.shape}\")\n",
    "print(f\"y_train.shape is {y_train.shape}\")\n",
    "print(f\"X_test.shape is {X_test.shape}\")\n",
    "print(f\"y_test.shape is {y_test.shape}\")"
   ]
  },
  {
   "cell_type": "code",
   "execution_count": 49,
   "id": "247ca4a9-13ce-4f32-9240-004dbbf2c2ce",
   "metadata": {},
   "outputs": [
    {
     "data": {
      "text/plain": [
       "Pipeline(steps=[('preprocessor',\n",
       "                 ColumnTransformer(remainder='passthrough',\n",
       "                                   transformers=[('vetorizer',\n",
       "                                                  TfidfVectorizer(analyzer='char_wb',\n",
       "                                                                  ngram_range=(1,\n",
       "                                                                               3)),\n",
       "                                                  'preprocess_data')])),\n",
       "                ('clf',\n",
       "                 MultiOutputClassifier(estimator=LogisticRegression(max_iter=10000)))])"
      ]
     },
     "metadata": {},
     "output_type": "display_data"
    }
   ],
   "source": [
    "preprocessor = ColumnTransformer(\n",
    "    [\n",
    "        (\"vetorizer\", TfidfVectorizer(analyzer=\"char_wb\", ngram_range = (1,3)), \"preprocess_data\")\n",
    "    ],                         \n",
    "    remainder = \"passthrough\"\n",
    ")\n",
    "\n",
    "pipeline_multiout = Pipeline(\n",
    "    [\n",
    "        (\"preprocessor\", preprocessor),\n",
    "        (\"clf\", MultiOutputClassifier(LogisticRegression(max_iter = 10_000))),\n",
    "    ]\n",
    ")\n",
    "display(pipeline_multiout)"
   ]
  },
  {
   "cell_type": "code",
   "execution_count": 50,
   "id": "da62eaa6-2b32-4f00-a2a6-ef3d4fd0546c",
   "metadata": {},
   "outputs": [],
   "source": [
    "cross_valid = cross_validate(pipeline_multiout, \n",
    "                             X_train, y_train, \n",
    "                             cv = 5, scoring = [\"accuracy\"], n_jobs = -1)"
   ]
  },
  {
   "cell_type": "code",
   "execution_count": 51,
   "id": "c1e8a832-7e09-491a-8b94-2f2d4403a8df",
   "metadata": {},
   "outputs": [
    {
     "name": "stdout",
     "output_type": "stream",
     "text": [
      "test_accuracy: 0.5014380160692785\n"
     ]
    }
   ],
   "source": [
    "print(\"test_accuracy:\", cross_valid[\"test_accuracy\"].mean())"
   ]
  },
  {
   "cell_type": "code",
   "execution_count": 52,
   "id": "6227bb53-8024-47f7-8ba8-cedb0fe1ee4d",
   "metadata": {},
   "outputs": [
    {
     "data": {
      "text/plain": [
       "0.49698535745047373"
      ]
     },
     "execution_count": 52,
     "metadata": {},
     "output_type": "execute_result"
    }
   ],
   "source": [
    "y_pred = cross_val_predict(pipeline_multiout, X_train, y_train, cv = 2)\n",
    "accuracy_score(y_train, y_pred)\n",
    "# print(classification_report(y_train, y_pred, zero_division = 0))"
   ]
  },
  {
   "cell_type": "markdown",
   "id": "65a23df5-bc88-4ac6-bd3c-1750749eea19",
   "metadata": {},
   "source": [
    "Вывод: Метрика:0.49698. Метрика слегка ухудшилась. Подобная оброботка не принесла результата."
   ]
  },
  {
   "cell_type": "markdown",
   "id": "c64c250a-4ee1-40e0-a4ca-53887014fe05",
   "metadata": {},
   "source": [
    "## Учим 50 моделей по отдельности 0.48692"
   ]
  },
  {
   "cell_type": "markdown",
   "id": "35666675-9573-4911-a45d-f021dc0a318e",
   "metadata": {},
   "source": [
    "Суть гепотезы: Учим 50 моделей по отдельности для каждой тематике и использованием мешка слов Tfidf"
   ]
  },
  {
   "cell_type": "code",
   "execution_count": 53,
   "id": "1f8c37eb-ac17-42c7-bcab-5dd88c6da899",
   "metadata": {},
   "outputs": [],
   "source": [
    "vectorizer_tf_idf = TfidfVectorizer()"
   ]
  },
  {
   "cell_type": "code",
   "execution_count": 54,
   "id": "4df350d0-7197-4766-9047-e9fb7967066b",
   "metadata": {},
   "outputs": [],
   "source": [
    "def bow(vectorizer, train, test):\n",
    "    train_bow = vectorizer.fit_transform(train)\n",
    "    test_bow = vectorizer.transform(test)\n",
    "    return train_bow, test_bow"
   ]
  },
  {
   "cell_type": "code",
   "execution_count": 57,
   "id": "37e98373-56b0-4e5f-9cde-077809c5b99b",
   "metadata": {},
   "outputs": [
    {
     "name": "stdout",
     "output_type": "stream",
     "text": [
      "Тематика trend_id_res0 0.903881488286633\n",
      "Тематика trend_id_res1 0.9601515847496555\n",
      "Тематика trend_id_res2 0.9314423518603583\n",
      "Тематика trend_id_res3 0.9585438677078548\n",
      "Тематика trend_id_res4 0.9855305466237942\n",
      "Тематика trend_id_res5 0.9940284795590262\n",
      "Тематика trend_id_res6 0.997588424437299\n",
      "Тематика trend_id_res7 0.9959807073954984\n",
      "Тематика trend_id_res8 0.9839228295819936\n",
      "Тематика trend_id_res9 0.9988516306844281\n",
      "Тематика trend_id_res10 0.9889756545705098\n",
      "Тематика trend_id_res11 0.9875976113918236\n",
      "Тематика trend_id_res12 0.9283417547083141\n",
      "Тематика trend_id_res13 0.9960955443270556\n",
      "Тематика trend_id_res14 0.9916169039963252\n",
      "Тематика trend_id_res15 0.9906982085438677\n",
      "Тематика trend_id_res16 0.9780661460725769\n",
      "Тематика trend_id_res17 0.9989664676159853\n",
      "Тематика trend_id_res18 0.9734726688102894\n",
      "Тематика trend_id_res19 0.958658704639412\n",
      "Тематика trend_id_res20 0.9848415250344511\n",
      "Тематика trend_id_res21 0.9886311437758383\n",
      "Тематика trend_id_res22 0.9971290767110703\n",
      "Тематика trend_id_res23 0.9925355994487828\n",
      "Тематика trend_id_res24 0.9988516306844281\n",
      "Тематика trend_id_res25 0.9985071198897566\n",
      "Тематика trend_id_res26 0.9968994028479559\n",
      "Тематика trend_id_res27 0.93913642627469\n",
      "Тематика trend_id_res28 0.9517684887459807\n",
      "Тематика trend_id_res29 0.9929949471750115\n",
      "Тематика trend_id_res30 0.9648598989435002\n",
      "Тематика trend_id_res31 0.9942581534221405\n",
      "Тематика trend_id_res32 0.9985071198897566\n",
      "Тематика trend_id_res33 0.9967845659163987\n",
      "Тематика trend_id_res34 0.9987367937528709\n",
      "Тематика trend_id_res35 0.993339457969683\n",
      "Тематика trend_id_res36 0.9808222324299495\n",
      "Тематика trend_id_res37 0.9947175011483693\n",
      "Тематика trend_id_res38 0.9967845659163987\n",
      "Тематика trend_id_res39 0.9949471750114837\n",
      "Тематика trend_id_res40 0.9917317409278824\n",
      "Тематика trend_id_res41 0.997588424437299\n",
      "Тематика trend_id_res42 0.9959807073954984\n",
      "Тематика trend_id_res43 0.9949471750114837\n",
      "Тематика trend_id_res44 0.9968994028479559\n",
      "Тематика trend_id_res45 0.9986219568213137\n",
      "Тематика trend_id_res46 0.9991961414790996\n",
      "Тематика trend_id_res47 0.9964400551217272\n",
      "Тематика trend_id_res48 0.9966697289848415\n",
      "Тематика trend_id_res49 0.9986219568213137\n"
     ]
    },
    {
     "data": {
      "text/plain": [
       "0.4869277691170037"
      ]
     },
     "execution_count": 57,
     "metadata": {},
     "output_type": "execute_result"
    }
   ],
   "source": [
    "clf = LogisticRegression()\n",
    "acc = 1\n",
    "for i in df.columns[4:54]:\n",
    "    print('Тематика', i, df[df[i] == 0][i].count()/df.shape[0])\n",
    "    train, test_valid = train_test_split(df,\n",
    "                                     stratify=df[i],\n",
    "                                     test_size=0.4,\n",
    "                                     random_state=RANDOM_STATE)\n",
    "    valid, test = train_test_split(test_valid,\n",
    "                               test_size=0.5,\n",
    "                               random_state=RANDOM_STATE)\n",
    "    X_train_tfidf, X_valid_tfidf = bow(vectorizer_tf_idf,\n",
    "                                                         train.text,\n",
    "                                                         valid.text)\n",
    "    clf.fit(X_train_tfidf, train[i])\n",
    "    metr = accuracy_score(valid[i], clf.predict(X_valid_tfidf))\n",
    "    #print('LogisticRegression: ', metr)\n",
    "    acc = acc * metr\n",
    "acc"
   ]
  },
  {
   "cell_type": "markdown",
   "id": "9ce01313-0ee5-411a-a500-7a442176a62b",
   "metadata": {},
   "source": [
    "Вывод: Общая метрика найденная просто умножением второстепенных: 0.48692"
   ]
  },
  {
   "cell_type": "markdown",
   "id": "08a76cb2-2b95-49ea-a577-4971e434737d",
   "metadata": {},
   "source": [
    "## Используем теги 0.49971"
   ]
  },
  {
   "cell_type": "markdown",
   "id": "65b45ae5-8e3c-40a3-a6bd-cbf97a1186b2",
   "metadata": {},
   "source": [
    "Суть гепотезы: попробую использовать теги отмеченные пользователями. Добавлю в коменнтарий одним словом."
   ]
  },
  {
   "cell_type": "code",
   "execution_count": 58,
   "id": "b73d0eb9-8aac-48c1-8331-0a585b42dce5",
   "metadata": {},
   "outputs": [
    {
     "data": {
      "text/plain": [
       "1136"
      ]
     },
     "execution_count": 58,
     "metadata": {},
     "output_type": "execute_result"
    }
   ],
   "source": [
    "a = df['tags'].unique()\n",
    "len(a)"
   ]
  },
  {
   "cell_type": "code",
   "execution_count": 59,
   "id": "57666768-8b47-49a7-9bfb-0a71c9fe3222",
   "metadata": {
    "scrolled": true
   },
   "outputs": [],
   "source": [
    "ans = []\n",
    "for i in a:\n",
    "    ans.append(str(i))"
   ]
  },
  {
   "cell_type": "code",
   "execution_count": 60,
   "id": "a812abfc-ca46-4111-b58a-ee761cdc0926",
   "metadata": {
    "scrolled": true
   },
   "outputs": [],
   "source": [
    "char1 = '{'\n",
    "res1 = [ele.replace(char1, '') for ele in ans]\n",
    "char2 = '}'\n",
    "res2 = [ele.replace(char2, '') for ele in res1]"
   ]
  },
  {
   "cell_type": "code",
   "execution_count": 61,
   "id": "0d799e89-9fe3-403b-a742-65919706323e",
   "metadata": {},
   "outputs": [],
   "source": [
    "res3 = []\n",
    "res3 = ','.join(res2).split(',')"
   ]
  },
  {
   "cell_type": "code",
   "execution_count": 62,
   "id": "3475a3e5-a7e1-4eeb-aede-b8bf7b0644f1",
   "metadata": {
    "scrolled": true
   },
   "outputs": [
    {
     "data": {
      "text/plain": [
       "['PROMOTIONS',\n",
       " 'nan',\n",
       " 'ASSORTMENT',\n",
       " 'PRODUCTS_QUALITY',\n",
       " 'PRICE',\n",
       " 'DELIVERY',\n",
       " 'SUPPORT',\n",
       " 'CATALOG_NAVIGATION',\n",
       " 'PAYMENT']"
      ]
     },
     "execution_count": 62,
     "metadata": {},
     "output_type": "execute_result"
    }
   ],
   "source": [
    "unique_w = list(set(res3))\n",
    "unique_w"
   ]
  },
  {
   "cell_type": "code",
   "execution_count": 63,
   "id": "e8ff5f31-cb2e-4d20-8874-d8bbfb3c3645",
   "metadata": {},
   "outputs": [],
   "source": [
    "df['text'] = df['text'].astype(\"str\").copy()\n",
    "df['tags'] = df['tags'].astype(\"str\").copy()"
   ]
  },
  {
   "cell_type": "code",
   "execution_count": 64,
   "id": "8bf95e7b-50aa-4235-ab72-e47e12e2dc27",
   "metadata": {},
   "outputs": [],
   "source": [
    "df['text_tags'] = df['text']"
   ]
  },
  {
   "cell_type": "code",
   "execution_count": 65,
   "id": "7a63f3a1-139e-4e0b-a883-8301333b5a64",
   "metadata": {},
   "outputs": [],
   "source": [
    "for i in range(len(df['tags'])):\n",
    "    if 'PRICE' in df.loc[i, 'tags']:\n",
    "        df.loc[i, 'text_tags'] = df.loc[i, 'text_tags'] + ' цена'"
   ]
  },
  {
   "cell_type": "code",
   "execution_count": 66,
   "id": "3402ef51-02b0-4b7b-a650-a46b8caafa0e",
   "metadata": {},
   "outputs": [],
   "source": [
    "for i in range(len(df['tags'])):\n",
    "    if 'ASSORTMENT' in df.loc[i, 'tags']:\n",
    "        df.loc[i, 'text_tags'] = df.loc[i, 'text_tags'] + ' ассортимент'"
   ]
  },
  {
   "cell_type": "code",
   "execution_count": 67,
   "id": "78cb8057-b51d-4631-8300-9fa649ff9706",
   "metadata": {},
   "outputs": [],
   "source": [
    "for i in range(len(df['tags'])):\n",
    "    if 'CATALOG_NAVIGATION' in df.loc[i, 'tags']:\n",
    "        df.loc[i, 'text_tags'] = df.loc[i, 'text_tags'] + ' каталог'"
   ]
  },
  {
   "cell_type": "code",
   "execution_count": 68,
   "id": "b8975286-88f1-4838-a17b-444b6aaa32d0",
   "metadata": {},
   "outputs": [],
   "source": [
    "for i in range(len(df['tags'])):\n",
    "    if 'PAYMENT' in df.loc[i, 'tags']:\n",
    "        df.loc[i, 'text_tags'] = df.loc[i, 'text_tags'] + ' оплата'"
   ]
  },
  {
   "cell_type": "code",
   "execution_count": 69,
   "id": "26b95b2b-233a-4848-86f2-4b6509267101",
   "metadata": {},
   "outputs": [],
   "source": [
    "for i in range(len(df['tags'])):\n",
    "    if 'SUPPORT' in df.loc[i, 'tags']:\n",
    "        df.loc[i, 'text_tags'] = df.loc[i, 'text_tags'] + ' поддержка'"
   ]
  },
  {
   "cell_type": "code",
   "execution_count": 70,
   "id": "d79c5a68-831e-4412-8456-0344800923ea",
   "metadata": {},
   "outputs": [],
   "source": [
    "for i in range(len(df['tags'])):\n",
    "    if 'PROMOTIONS' in df.loc[i, 'tags']:\n",
    "        df.loc[i, 'text_tags'] = df.loc[i, 'text_tags'] + ' акции'"
   ]
  },
  {
   "cell_type": "code",
   "execution_count": 71,
   "id": "dca91611-6564-4677-919d-931bcda27c2e",
   "metadata": {},
   "outputs": [],
   "source": [
    "for i in range(len(df['tags'])):\n",
    "    if 'DELIVERY' in df.loc[i, 'tags']:\n",
    "        df.loc[i, 'text_tags'] = df.loc[i, 'text_tags'] + ' доставка'"
   ]
  },
  {
   "cell_type": "code",
   "execution_count": 72,
   "id": "39bc6f61-ac8c-460c-b5ac-25d3036c5f46",
   "metadata": {},
   "outputs": [],
   "source": [
    "for i in range(len(df['tags'])):\n",
    "    if 'PRODUCTS_QUALITY' in df.loc[i, 'tags']:\n",
    "        df.loc[i, 'text_tags'] = df.loc[i, 'text_tags'] + ' качество'"
   ]
  },
  {
   "cell_type": "code",
   "execution_count": 73,
   "id": "bbb81638-03de-44b6-847d-47961d34b8c0",
   "metadata": {},
   "outputs": [],
   "source": [
    "X, y = df[[\"text_tags\"]], df[[f\"trend_id_res{i}\" for i in range(50)]]"
   ]
  },
  {
   "cell_type": "code",
   "execution_count": 74,
   "id": "28ffca99-fda3-4d42-8452-a9483c1b04e3",
   "metadata": {},
   "outputs": [],
   "source": [
    "X = X.astype(\"str\").copy()"
   ]
  },
  {
   "cell_type": "code",
   "execution_count": 75,
   "id": "018d975c-86f0-440b-b8f6-76cf337e3345",
   "metadata": {},
   "outputs": [
    {
     "name": "stdout",
     "output_type": "stream",
     "text": [
      "X_train.shape is (6966, 1)\n",
      "y_train.shape is (6966, 50)\n",
      "X_test.shape is (1742, 1)\n",
      "y_test.shape is (1742, 50)\n"
     ]
    }
   ],
   "source": [
    "X_train, X_test, y_train, y_test = train_test_split(X, y, test_size = 0.2, random_state = RANDOM_STATE)\n",
    "print(f\"X_train.shape is {X_train.shape}\")\n",
    "print(f\"y_train.shape is {y_train.shape}\")\n",
    "print(f\"X_test.shape is {X_test.shape}\")\n",
    "print(f\"y_test.shape is {y_test.shape}\")"
   ]
  },
  {
   "cell_type": "code",
   "execution_count": 76,
   "id": "d221a378-293d-4934-bfb5-f12ecbd4812c",
   "metadata": {},
   "outputs": [
    {
     "data": {
      "text/plain": [
       "Pipeline(steps=[('preprocessor',\n",
       "                 ColumnTransformer(remainder='passthrough',\n",
       "                                   transformers=[('vetorizer',\n",
       "                                                  TfidfVectorizer(analyzer='char_wb',\n",
       "                                                                  ngram_range=(1,\n",
       "                                                                               3)),\n",
       "                                                  'text_tags')])),\n",
       "                ('clf',\n",
       "                 MultiOutputClassifier(estimator=LogisticRegression(max_iter=10000)))])"
      ]
     },
     "metadata": {},
     "output_type": "display_data"
    }
   ],
   "source": [
    "preprocessor = ColumnTransformer(\n",
    "    [\n",
    "        (\"vetorizer\", TfidfVectorizer(analyzer=\"char_wb\", ngram_range = (1,3)), \"text_tags\")\n",
    "    ],                         \n",
    "    remainder = \"passthrough\"\n",
    ")\n",
    "\n",
    "pipeline_multiout = Pipeline(\n",
    "    [\n",
    "        (\"preprocessor\", preprocessor),\n",
    "        (\"clf\", MultiOutputClassifier(LogisticRegression(max_iter = 10_000))),\n",
    "    ]\n",
    ")\n",
    "display(pipeline_multiout)"
   ]
  },
  {
   "cell_type": "code",
   "execution_count": 77,
   "id": "ed779c51-4a3e-4502-a2fe-f9ccb641ade2",
   "metadata": {},
   "outputs": [],
   "source": [
    "cross_valid = cross_validate(pipeline_multiout, \n",
    "                             X_train, y_train, \n",
    "                             cv = 5, scoring = [\"accuracy\"], n_jobs = -1)"
   ]
  },
  {
   "cell_type": "code",
   "execution_count": 78,
   "id": "3923d711-470c-48f0-a37f-3b3ae1b62942",
   "metadata": {},
   "outputs": [
    {
     "name": "stdout",
     "output_type": "stream",
     "text": [
      "test_accuracy: 0.5037354223464113\n"
     ]
    }
   ],
   "source": [
    "print(\"test_accuracy:\", cross_valid[\"test_accuracy\"].mean())"
   ]
  },
  {
   "cell_type": "code",
   "execution_count": 79,
   "id": "e73fe467-69bd-42fc-a26a-5dc74b7d5b50",
   "metadata": {},
   "outputs": [
    {
     "data": {
      "text/plain": [
       "0.4997128911857594"
      ]
     },
     "execution_count": 79,
     "metadata": {},
     "output_type": "execute_result"
    }
   ],
   "source": [
    "y_pred = cross_val_predict(pipeline_multiout, X_train, y_train, cv = 2)\n",
    "accuracy_score(y_train, y_pred)\n",
    "# print(classification_report(y_train, y_pred, zero_division = 0))"
   ]
  },
  {
   "cell_type": "markdown",
   "id": "d5a74f1a-7466-493d-8d74-db83eedd643a",
   "metadata": {},
   "source": [
    "Вывод: Метрика: 0.49971. "
   ]
  },
  {
   "cell_type": "markdown",
   "id": "6765e14b-2042-443a-8d26-6bf9b8bdf227",
   "metadata": {},
   "source": [
    "## Убераем \"нулевые\" 0.20118"
   ]
  },
  {
   "cell_type": "markdown",
   "id": "466149a2-cdfc-4e73-988d-e22234f057e8",
   "metadata": {},
   "source": [
    "Суть гепотезы: попробую обучить модель на данных без \"нулевых\" разметок"
   ]
  },
  {
   "cell_type": "code",
   "execution_count": 80,
   "id": "9f891736-8bff-4c51-9de9-69295da6cfae",
   "metadata": {},
   "outputs": [],
   "source": [
    "df = pd.read_csv(\"train.csv\")"
   ]
  },
  {
   "cell_type": "code",
   "execution_count": 81,
   "id": "410316e8-9480-4691-a0ad-f753fceec4c8",
   "metadata": {},
   "outputs": [],
   "source": [
    "df['sum'] = df[[f\"trend_id_res{i}\" for i in range(50)]].sum(axis=1)"
   ]
  },
  {
   "cell_type": "code",
   "execution_count": 82,
   "id": "ddafd13a-c2e6-49ff-b1d4-6a987e88d6ba",
   "metadata": {},
   "outputs": [
    {
     "data": {
      "text/plain": [
       "0    4085\n",
       "1    3012\n",
       "2    1173\n",
       "3     354\n",
       "4      84\n",
       "Name: sum, dtype: int64"
      ]
     },
     "execution_count": 82,
     "metadata": {},
     "output_type": "execute_result"
    }
   ],
   "source": [
    "df['sum'].value_counts()"
   ]
  },
  {
   "cell_type": "code",
   "execution_count": 83,
   "id": "c28982c7-b096-464c-9b9f-21ef135d1e59",
   "metadata": {},
   "outputs": [],
   "source": [
    "df_filtred = df[(df['sum'] > 0)]"
   ]
  },
  {
   "cell_type": "code",
   "execution_count": 84,
   "id": "adc256c7-bbda-4c0d-b2d8-eb3cbba2a4d5",
   "metadata": {},
   "outputs": [],
   "source": [
    "X, y = df_filtred[['text']], df_filtred[[f\"trend_id_res{i}\" for i in range(50)]]"
   ]
  },
  {
   "cell_type": "code",
   "execution_count": 85,
   "id": "e643d7d9-96a1-47ea-b8ad-b4abc94f1967",
   "metadata": {},
   "outputs": [],
   "source": [
    "X = X.astype('str').copy()"
   ]
  },
  {
   "cell_type": "code",
   "execution_count": 86,
   "id": "90e1b6ae-a8ac-42f9-8647-eb99c0b5091d",
   "metadata": {},
   "outputs": [
    {
     "name": "stdout",
     "output_type": "stream",
     "text": [
      "X_train.shape is (3698, 1)\n",
      "y_train.shape is (3698, 50)\n",
      "X_test.shape is (925, 1)\n",
      "y_test.shape is (925, 50)\n"
     ]
    }
   ],
   "source": [
    "X_train, X_test, y_train, y_test = train_test_split(X, y, test_size = 0.2, random_state = RANDOM_STATE)\n",
    "print(f\"X_train.shape is {X_train.shape}\")\n",
    "print(f\"y_train.shape is {y_train.shape}\")\n",
    "print(f\"X_test.shape is {X_test.shape}\")\n",
    "print(f\"y_test.shape is {y_test.shape}\")"
   ]
  },
  {
   "cell_type": "code",
   "execution_count": 87,
   "id": "66d37655-6a16-42c5-9b56-1743b4781ce7",
   "metadata": {},
   "outputs": [
    {
     "data": {
      "text/plain": [
       "Pipeline(steps=[('preprocessor',\n",
       "                 ColumnTransformer(remainder='passthrough',\n",
       "                                   transformers=[('vetorizer',\n",
       "                                                  TfidfVectorizer(analyzer='char_wb',\n",
       "                                                                  ngram_range=(1,\n",
       "                                                                               3)),\n",
       "                                                  'text')])),\n",
       "                ('clf',\n",
       "                 MultiOutputClassifier(estimator=LogisticRegression(max_iter=10000)))])"
      ]
     },
     "metadata": {},
     "output_type": "display_data"
    }
   ],
   "source": [
    "preprocessor = ColumnTransformer(\n",
    "    [\n",
    "        (\"vetorizer\", TfidfVectorizer(analyzer=\"char_wb\", ngram_range = (1,3)), \"text\")\n",
    "    ],                         \n",
    "    remainder = \"passthrough\"\n",
    ")\n",
    "\n",
    "pipeline_multiout = Pipeline(\n",
    "    [\n",
    "        (\"preprocessor\", preprocessor),\n",
    "        (\"clf\", MultiOutputClassifier(LogisticRegression(max_iter = 10_000))),\n",
    "    ]\n",
    ")\n",
    "display(pipeline_multiout)"
   ]
  },
  {
   "cell_type": "code",
   "execution_count": 88,
   "id": "1b3814da-3996-4fef-b807-3f4d7f7ef2bc",
   "metadata": {},
   "outputs": [],
   "source": [
    "cross_valid = cross_validate(pipeline_multiout, \n",
    "                             X_train, y_train, \n",
    "                             cv = 5, scoring = [\"accuracy\"], n_jobs = -1)"
   ]
  },
  {
   "cell_type": "code",
   "execution_count": 89,
   "id": "14451deb-22a9-4519-8083-1592f74e267d",
   "metadata": {},
   "outputs": [
    {
     "name": "stdout",
     "output_type": "stream",
     "text": [
      "test_accuracy: 0.24202538126760045\n"
     ]
    }
   ],
   "source": [
    "print(\"test_accuracy:\", cross_valid[\"test_accuracy\"].mean())"
   ]
  },
  {
   "cell_type": "code",
   "execution_count": 90,
   "id": "d1d1e54f-4daf-4713-8660-27e16ae7d8f7",
   "metadata": {},
   "outputs": [
    {
     "data": {
      "text/plain": [
       "0.20118983234180637"
      ]
     },
     "execution_count": 90,
     "metadata": {},
     "output_type": "execute_result"
    }
   ],
   "source": [
    "y_pred = cross_val_predict(pipeline_multiout, X_train, y_train, cv = 2)\n",
    "accuracy_score(y_train, y_pred)\n",
    "# print(classification_report(y_train, y_pred, zero_division = 0))"
   ]
  },
  {
   "cell_type": "markdown",
   "id": "0de93459-2c6f-4454-8606-b4149540767e",
   "metadata": {},
   "source": [
    "## 51я тематека 0.35041"
   ]
  },
  {
   "cell_type": "markdown",
   "id": "746fb368-725e-4c01-b008-8fd957295b5f",
   "metadata": {},
   "source": [
    "Суть гепотезы: добавим 51ю тематека: выделим полностью \"нолевую\" разметку в одну категорию"
   ]
  },
  {
   "cell_type": "code",
   "execution_count": 93,
   "id": "41fb2f86-8a50-4a99-87d5-8e3b0421fd0b",
   "metadata": {},
   "outputs": [],
   "source": [
    "df = pd.read_csv(\"train.csv\")"
   ]
  },
  {
   "cell_type": "code",
   "execution_count": 94,
   "id": "616ad02b-e3cd-40a5-8862-35ba60ad258c",
   "metadata": {},
   "outputs": [],
   "source": [
    "df['sum'] = df[[f\"trend_id_res{i}\" for i in range(50)]].sum(axis=1)"
   ]
  },
  {
   "cell_type": "code",
   "execution_count": 95,
   "id": "c167d435-bb29-4c9e-ad83-8da6ae35cb53",
   "metadata": {},
   "outputs": [],
   "source": [
    "df['trend_id_res50'] = 0"
   ]
  },
  {
   "cell_type": "code",
   "execution_count": 96,
   "id": "d93d1187-8b21-4927-955e-d037c07b98e6",
   "metadata": {},
   "outputs": [],
   "source": [
    "for i in range(len(df)):\n",
    "    if df.loc[i, 'sum'] == 0:\n",
    "        df.loc[i, 'trend_id_res50'] = 1"
   ]
  },
  {
   "cell_type": "code",
   "execution_count": 97,
   "id": "91ac0f17-166f-4f6c-9ca2-50c637405955",
   "metadata": {},
   "outputs": [],
   "source": [
    "X, y = df[[\"text\"]], df[[f\"trend_id_res{i}\" for i in range(51)]]"
   ]
  },
  {
   "cell_type": "code",
   "execution_count": 98,
   "id": "0771d469-745b-422c-badd-16b2b2efb0d6",
   "metadata": {},
   "outputs": [],
   "source": [
    "X = X.astype(\"str\").copy()"
   ]
  },
  {
   "cell_type": "code",
   "execution_count": 99,
   "id": "6ae3968e-bb66-4c9f-8752-f4261afae4db",
   "metadata": {},
   "outputs": [
    {
     "name": "stdout",
     "output_type": "stream",
     "text": [
      "X_train.shape is (6966, 1)\n",
      "y_train.shape is (6966, 51)\n",
      "X_test.shape is (1742, 1)\n",
      "y_test.shape is (1742, 51)\n"
     ]
    }
   ],
   "source": [
    "X_train, X_test, y_train, y_test = train_test_split(X, y, test_size = 0.2, random_state = RANDOM_STATE)\n",
    "print(f\"X_train.shape is {X_train.shape}\")\n",
    "print(f\"y_train.shape is {y_train.shape}\")\n",
    "print(f\"X_test.shape is {X_test.shape}\")\n",
    "print(f\"y_test.shape is {y_test.shape}\")"
   ]
  },
  {
   "cell_type": "code",
   "execution_count": 100,
   "id": "67f5dfb7-d2fc-4b44-8f25-22c35942af11",
   "metadata": {},
   "outputs": [
    {
     "data": {
      "text/plain": [
       "Pipeline(steps=[('preprocessor',\n",
       "                 ColumnTransformer(remainder='passthrough',\n",
       "                                   transformers=[('vetorizer',\n",
       "                                                  TfidfVectorizer(analyzer='char_wb',\n",
       "                                                                  ngram_range=(1,\n",
       "                                                                               3)),\n",
       "                                                  'text')])),\n",
       "                ('clf',\n",
       "                 MultiOutputClassifier(estimator=LogisticRegression(max_iter=10000)))])"
      ]
     },
     "metadata": {},
     "output_type": "display_data"
    }
   ],
   "source": [
    "preprocessor = ColumnTransformer(\n",
    "    [\n",
    "        (\"vetorizer\", TfidfVectorizer(analyzer=\"char_wb\", ngram_range = (1,3)), \"text\")\n",
    "    ],                         \n",
    "    remainder = \"passthrough\"\n",
    ")\n",
    "\n",
    "pipeline_multiout = Pipeline(\n",
    "    [\n",
    "        (\"preprocessor\", preprocessor),\n",
    "        (\"clf\", MultiOutputClassifier(LogisticRegression(max_iter = 10_000))),\n",
    "    ]\n",
    ")\n",
    "display(pipeline_multiout)"
   ]
  },
  {
   "cell_type": "code",
   "execution_count": 101,
   "id": "47fa923e-e9ae-4126-9870-053488473003",
   "metadata": {},
   "outputs": [],
   "source": [
    "cross_valid = cross_validate(pipeline_multiout, \n",
    "                             X_train, y_train, \n",
    "                             cv = 5, scoring = [\"accuracy\"], n_jobs = -1)"
   ]
  },
  {
   "cell_type": "code",
   "execution_count": 102,
   "id": "778a799e-1197-4deb-bf3d-349051c4f9b9",
   "metadata": {},
   "outputs": [
    {
     "name": "stdout",
     "output_type": "stream",
     "text": [
      "test_accuracy: 0.36764268153639695\n"
     ]
    }
   ],
   "source": [
    "print(\"test_accuracy:\", cross_valid[\"test_accuracy\"].mean())"
   ]
  },
  {
   "cell_type": "code",
   "execution_count": 103,
   "id": "ced75c6b-a82f-4089-b71d-b21681b27142",
   "metadata": {},
   "outputs": [
    {
     "data": {
      "text/plain": [
       "0.35041630778064886"
      ]
     },
     "execution_count": 103,
     "metadata": {},
     "output_type": "execute_result"
    }
   ],
   "source": [
    "y_pred = cross_val_predict(pipeline_multiout, X_train, y_train, cv = 2)\n",
    "accuracy_score(y_train, y_pred)\n",
    "# print(classification_report(y_train, y_pred, zero_division = 0))"
   ]
  },
  {
   "cell_type": "markdown",
   "id": "e331efbe-4d8e-4765-82e8-834b5a31be8d",
   "metadata": {},
   "source": [
    "Вывод: Метрика 0.35041"
   ]
  },
  {
   "cell_type": "markdown",
   "id": "b29353a0-7c12-4695-92bb-232dbe3803d6",
   "metadata": {},
   "source": [
    "## Ансамбль 0.50344"
   ]
  },
  {
   "cell_type": "markdown",
   "id": "ae203064-8728-44dc-af81-3d97591fbea4",
   "metadata": {},
   "source": [
    "Суть гепотезы: попробую проредить основной датасет с помощью модели логистической регресии для нахождение \"нулевых\" ноблюдение. Потом учимся класически на прореженных данных. Основную метрику считаю с учетом принудительно \"обнуленных\" наблюдений выделенных в первом этапе."
   ]
  },
  {
   "cell_type": "code",
   "execution_count": 104,
   "id": "9c3ae0b6-c346-409c-9fb7-e3e023670b18",
   "metadata": {},
   "outputs": [],
   "source": [
    "df = pd.read_csv(\"train.csv\")"
   ]
  },
  {
   "cell_type": "code",
   "execution_count": 105,
   "id": "88fbe016-f4d2-49e4-8321-bc5a24ea4c3c",
   "metadata": {},
   "outputs": [],
   "source": [
    "df['sum'] = df[[f\"trend_id_res{i}\" for i in range(50)]].sum(axis=1)"
   ]
  },
  {
   "cell_type": "code",
   "execution_count": 106,
   "id": "37697098-60c7-46e7-bdcf-6498c8e40813",
   "metadata": {},
   "outputs": [
    {
     "data": {
      "text/plain": [
       "0    4085\n",
       "1    3012\n",
       "2    1173\n",
       "3     354\n",
       "4      84\n",
       "Name: sum, dtype: int64"
      ]
     },
     "execution_count": 106,
     "metadata": {},
     "output_type": "execute_result"
    }
   ],
   "source": [
    "df['sum'].value_counts()"
   ]
  },
  {
   "cell_type": "code",
   "execution_count": 107,
   "id": "d8e55a64-9800-49e3-9283-86ce232419fc",
   "metadata": {},
   "outputs": [],
   "source": [
    "df['trend_id_res50'] = 0"
   ]
  },
  {
   "cell_type": "code",
   "execution_count": 108,
   "id": "58bdf134-467f-4125-940a-8dae7a0713d1",
   "metadata": {},
   "outputs": [],
   "source": [
    "for i in range(len(df)):\n",
    "    if df.loc[i, 'sum'] == 0:\n",
    "        df.loc[i, 'trend_id_res50'] = 1"
   ]
  },
  {
   "cell_type": "code",
   "execution_count": 109,
   "id": "ea6aa24f-591d-4408-884a-9428cab19fbc",
   "metadata": {},
   "outputs": [],
   "source": [
    "X, y = df[[\"text\"]], df[[f\"trend_id_res{i}\" for i in range(51)]]"
   ]
  },
  {
   "cell_type": "code",
   "execution_count": 110,
   "id": "8f72ad50-3438-45e3-84e1-d908aff4b342",
   "metadata": {},
   "outputs": [],
   "source": [
    "X = X.astype(\"str\").copy()"
   ]
  },
  {
   "cell_type": "code",
   "execution_count": 111,
   "id": "9b3c32dd-0b3a-44f6-b3d8-a76137d530aa",
   "metadata": {},
   "outputs": [
    {
     "name": "stdout",
     "output_type": "stream",
     "text": [
      "X_train.shape is (6966, 1)\n",
      "y_train.shape is (6966, 51)\n",
      "X_test.shape is (1742, 1)\n",
      "y_test.shape is (1742, 51)\n"
     ]
    }
   ],
   "source": [
    "X_train, X_test, y_train, y_test = train_test_split(X, y, test_size = 0.2, random_state = RANDOM_STATE)\n",
    "print(f\"X_train.shape is {X_train.shape}\")\n",
    "print(f\"y_train.shape is {y_train.shape}\")\n",
    "print(f\"X_test.shape is {X_test.shape}\")\n",
    "print(f\"y_test.shape is {y_test.shape}\")"
   ]
  },
  {
   "cell_type": "code",
   "execution_count": 112,
   "id": "aae66bb5-4487-42c3-bff1-d4720732e79f",
   "metadata": {},
   "outputs": [],
   "source": [
    "y_train_lr = y_train['trend_id_res50']\n",
    "y_test_lr = y_test['trend_id_res50']"
   ]
  },
  {
   "cell_type": "code",
   "execution_count": 113,
   "id": "325208bb-4b20-4fa5-8956-b1b4b2014f46",
   "metadata": {},
   "outputs": [
    {
     "data": {
      "text/plain": [
       "Pipeline(steps=[('preprocessor',\n",
       "                 ColumnTransformer(remainder='passthrough',\n",
       "                                   transformers=[('vetorizer',\n",
       "                                                  TfidfVectorizer(analyzer='char_wb',\n",
       "                                                                  ngram_range=(1,\n",
       "                                                                               3)),\n",
       "                                                  'text')])),\n",
       "                ('clf', LogisticRegression(max_iter=10000))])"
      ]
     },
     "metadata": {},
     "output_type": "display_data"
    }
   ],
   "source": [
    "preprocessor = ColumnTransformer(\n",
    "    [\n",
    "        (\"vetorizer\", TfidfVectorizer(analyzer=\"char_wb\", ngram_range = (1,3)), \"text\")\n",
    "    ],                         \n",
    "    remainder = \"passthrough\"\n",
    ")\n",
    "\n",
    "pipeline_lr = Pipeline(\n",
    "    [\n",
    "        (\"preprocessor\", preprocessor),\n",
    "        (\"clf\", LogisticRegression(max_iter = 10_000)),\n",
    "    ]\n",
    ")\n",
    "display(pipeline_lr)"
   ]
  },
  {
   "cell_type": "code",
   "execution_count": 114,
   "id": "7cf20782-5f64-4fd6-b5f1-3c9f02b82220",
   "metadata": {},
   "outputs": [],
   "source": [
    "cross_valid = cross_validate(pipeline_lr, \n",
    "                             X_train, y_train_lr, \n",
    "                             cv = 5, scoring = [\"accuracy\"], n_jobs = -1)"
   ]
  },
  {
   "cell_type": "code",
   "execution_count": 115,
   "id": "f2bfbf43-9fbd-4d13-9f5c-ad59427414f6",
   "metadata": {},
   "outputs": [
    {
     "name": "stdout",
     "output_type": "stream",
     "text": [
      "test_accuracy: 0.7479170807923611\n"
     ]
    }
   ],
   "source": [
    "print(\"test_accuracy:\", cross_valid[\"test_accuracy\"].mean())"
   ]
  },
  {
   "cell_type": "code",
   "execution_count": 120,
   "id": "e9683676-ce0a-43ac-8e25-c8bdbdcbec37",
   "metadata": {},
   "outputs": [
    {
     "data": {
      "text/plain": [
       "0.7469135802469136"
      ]
     },
     "execution_count": 120,
     "metadata": {},
     "output_type": "execute_result"
    }
   ],
   "source": [
    "y_pred_lr = cross_val_predict(pipeline_lr, X_train, y_train_lr, cv = 2)\n",
    "accuracy_score(y_train_lr, y_pred_lr)\n",
    "# print(classification_report(y_train, y_pred, zero_division = 0))"
   ]
  },
  {
   "cell_type": "code",
   "execution_count": 122,
   "id": "70ccec7b-3da7-4561-8e71-113452511987",
   "metadata": {},
   "outputs": [
    {
     "data": {
      "text/plain": [
       "[3589, 395, 4476, 2006, 7053]"
      ]
     },
     "execution_count": 122,
     "metadata": {},
     "output_type": "execute_result"
    }
   ],
   "source": [
    "index_del = []\n",
    "for i in range(len(y_pred_lr)):\n",
    "    if y_pred_lr[i] == 1:\n",
    "        index_del.append(y_train.index[i])\n",
    "index_del[:5]"
   ]
  },
  {
   "cell_type": "code",
   "execution_count": 123,
   "id": "5c330af5-05d5-4afe-8788-eaf59059e774",
   "metadata": {},
   "outputs": [
    {
     "data": {
      "text/plain": [
       "2664"
      ]
     },
     "execution_count": 123,
     "metadata": {},
     "output_type": "execute_result"
    }
   ],
   "source": [
    "len(index_del)"
   ]
  },
  {
   "cell_type": "code",
   "execution_count": 124,
   "id": "40dbbd29-20d2-471d-8cba-c871cc153969",
   "metadata": {},
   "outputs": [
    {
     "data": {
      "text/plain": [
       "8706"
      ]
     },
     "execution_count": 124,
     "metadata": {},
     "output_type": "execute_result"
    }
   ],
   "source": [
    "max(index_del)"
   ]
  },
  {
   "cell_type": "code",
   "execution_count": 126,
   "id": "56732d91-b8c4-47bc-914b-fd266a9122a4",
   "metadata": {},
   "outputs": [
    {
     "data": {
      "text/plain": [
       "1    2510\n",
       "0    2005\n",
       "2    1103\n",
       "3     342\n",
       "4      84\n",
       "Name: sum, dtype: int64"
      ]
     },
     "execution_count": 126,
     "metadata": {},
     "output_type": "execute_result"
    }
   ],
   "source": [
    "df_tin = df.drop(index_del)\n",
    "df_tin['sum'].value_counts()"
   ]
  },
  {
   "cell_type": "code",
   "execution_count": 122,
   "id": "7d33a064-c30e-41fc-a61f-15bc6c58e59a",
   "metadata": {},
   "outputs": [
    {
     "data": {
      "text/plain": [
       "0    4085\n",
       "1    3012\n",
       "2    1173\n",
       "3     354\n",
       "4      84\n",
       "Name: sum, dtype: int64"
      ]
     },
     "execution_count": 122,
     "metadata": {},
     "output_type": "execute_result"
    }
   ],
   "source": [
    "df['sum'].value_counts()"
   ]
  },
  {
   "cell_type": "code",
   "execution_count": 127,
   "id": "c9501085-30a9-4745-a2fc-1bed4d4ba5f6",
   "metadata": {},
   "outputs": [],
   "source": [
    "X_train_multi = X_train.drop(index_del)\n",
    "y_train_multi = y_train.drop(index_del)"
   ]
  },
  {
   "cell_type": "code",
   "execution_count": 128,
   "id": "2de803ed-1df6-4505-82fd-27cb6d0923e6",
   "metadata": {},
   "outputs": [],
   "source": [
    "y_train_multi = y_train_multi.drop('trend_id_res50', axis=1)"
   ]
  },
  {
   "cell_type": "code",
   "execution_count": 129,
   "id": "9da4a87c-0d41-475a-b56c-19225b734119",
   "metadata": {},
   "outputs": [
    {
     "name": "stdout",
     "output_type": "stream",
     "text": [
      "X_train.shape is (4302, 1)\n",
      "y_train.shape is (4302, 50)\n",
      "X_test.shape is (1742, 1)\n",
      "y_test.shape is (1742, 51)\n"
     ]
    }
   ],
   "source": [
    "print(f\"X_train.shape is {X_train_multi.shape}\")\n",
    "print(f\"y_train.shape is {y_train_multi.shape}\")\n",
    "print(f\"X_test.shape is {X_test.shape}\")\n",
    "print(f\"y_test.shape is {y_test.shape}\")"
   ]
  },
  {
   "cell_type": "code",
   "execution_count": 130,
   "id": "64c47ebd-2e03-4262-8b67-a704b811a355",
   "metadata": {},
   "outputs": [
    {
     "data": {
      "text/plain": [
       "Pipeline(steps=[('preprocessor',\n",
       "                 ColumnTransformer(remainder='passthrough',\n",
       "                                   transformers=[('vetorizer',\n",
       "                                                  TfidfVectorizer(analyzer='char_wb',\n",
       "                                                                  ngram_range=(1,\n",
       "                                                                               3)),\n",
       "                                                  'text')])),\n",
       "                ('clf',\n",
       "                 MultiOutputClassifier(estimator=LogisticRegression(max_iter=10000)))])"
      ]
     },
     "metadata": {},
     "output_type": "display_data"
    }
   ],
   "source": [
    "preprocessor = ColumnTransformer(\n",
    "    [\n",
    "        (\"vetorizer\", TfidfVectorizer(analyzer=\"char_wb\", ngram_range = (1,3)), \"text\")\n",
    "    ],                         \n",
    "    remainder = \"passthrough\"\n",
    ")\n",
    "\n",
    "pipeline_multiout = Pipeline(\n",
    "    [\n",
    "        (\"preprocessor\", preprocessor),\n",
    "        (\"clf\", MultiOutputClassifier(LogisticRegression(max_iter = 10_000))),\n",
    "    ]\n",
    ")\n",
    "display(pipeline_multiout)"
   ]
  },
  {
   "cell_type": "code",
   "execution_count": 131,
   "id": "1378e687-6de9-40fa-9f6a-3f4a1c46162e",
   "metadata": {},
   "outputs": [],
   "source": [
    "cross_valid = cross_validate(pipeline_multiout, \n",
    "                             X_train_multi, y_train_multi, \n",
    "                             cv = 5, scoring = [\"accuracy\"], n_jobs = -1)"
   ]
  },
  {
   "cell_type": "code",
   "execution_count": 132,
   "id": "7b368890-d25d-417a-91c7-50538ae6d4d8",
   "metadata": {},
   "outputs": [
    {
     "name": "stdout",
     "output_type": "stream",
     "text": [
      "test_accuracy: 0.34054938821813463\n"
     ]
    }
   ],
   "source": [
    "print(\"test_accuracy:\", cross_valid[\"test_accuracy\"].mean())"
   ]
  },
  {
   "cell_type": "code",
   "execution_count": 133,
   "id": "349c2011-c987-466b-b390-005a22b2ed1b",
   "metadata": {},
   "outputs": [
    {
     "data": {
      "text/plain": [
       "0.33170618317061834"
      ]
     },
     "execution_count": 133,
     "metadata": {},
     "output_type": "execute_result"
    }
   ],
   "source": [
    "y_pred_multi = cross_val_predict(pipeline_multiout, X_train_multi, y_train_multi, cv = 2)\n",
    "accuracy_score(y_train_multi, y_pred_multi)\n",
    "# print(classification_report(y_train, y_pred, zero_division = 0))"
   ]
  },
  {
   "cell_type": "code",
   "execution_count": 134,
   "id": "94c83c28-04a5-47c8-b134-e906cada085c",
   "metadata": {},
   "outputs": [
    {
     "data": {
      "text/plain": [
       "4302"
      ]
     },
     "execution_count": 134,
     "metadata": {},
     "output_type": "execute_result"
    }
   ],
   "source": [
    "len(y_pred_multi)"
   ]
  },
  {
   "cell_type": "code",
   "execution_count": 135,
   "id": "eef7c552-16e0-4a2f-93cb-4a19883f432f",
   "metadata": {},
   "outputs": [
    {
     "data": {
      "text/plain": [
       "array([[0, 0, 0, ..., 0, 0, 0],\n",
       "       [0, 0, 0, ..., 0, 0, 0],\n",
       "       [0, 0, 0, ..., 0, 0, 0],\n",
       "       ...,\n",
       "       [0, 0, 0, ..., 0, 0, 0],\n",
       "       [0, 0, 0, ..., 0, 0, 0],\n",
       "       [0, 0, 0, ..., 0, 0, 0]], dtype=int64)"
      ]
     },
     "execution_count": 135,
     "metadata": {},
     "output_type": "execute_result"
    }
   ],
   "source": [
    "y_pred_multi"
   ]
  },
  {
   "cell_type": "code",
   "execution_count": 136,
   "id": "c63689dc-62f2-4c44-9baf-d22aa5242bef",
   "metadata": {},
   "outputs": [
    {
     "data": {
      "text/plain": [
       "6966"
      ]
     },
     "execution_count": 136,
     "metadata": {},
     "output_type": "execute_result"
    }
   ],
   "source": [
    "len(y_pred_lr)"
   ]
  },
  {
   "cell_type": "code",
   "execution_count": 137,
   "id": "fe40e8d0-7b36-4c6c-be05-937d9cfba671",
   "metadata": {},
   "outputs": [],
   "source": [
    "pred_main = pd.DataFrame(y_pred_multi)"
   ]
  },
  {
   "cell_type": "code",
   "execution_count": 138,
   "id": "dda90e34-62f0-45df-855e-cdba0645c631",
   "metadata": {},
   "outputs": [],
   "source": [
    "def Insert_row_(row_number, df, row_value):\n",
    "    df1 = df[0:row_number]\n",
    "    df2 = df[row_number:]\n",
    "    df1.loc[row_number]=row_value\n",
    "    df_result = pd.concat([df1, df2])\n",
    "    df_result.index = [*range(df_result.shape[0])]\n",
    "    return df_result"
   ]
  },
  {
   "cell_type": "code",
   "execution_count": 139,
   "id": "1e908932-f4a2-46c1-be3a-0e7282ca11e6",
   "metadata": {},
   "outputs": [],
   "source": [
    "row_value = [0, 0, 0, 0, 0, 0, 0, 0, 0, 0, 0, 0, 0, 0, 0, 0, 0, 0, 0, 0, 0, 0,\n",
    "       0, 0, 0, 0, 0, 0, 0, 0, 0, 0, 0, 0, 0, 0, 0, 0, 0, 0, 0, 0, 0, 0,\n",
    "       0, 0, 0, 0, 0, 0]"
   ]
  },
  {
   "cell_type": "code",
   "execution_count": 140,
   "id": "4c074067-40f5-4a36-9adb-0ad805d880ad",
   "metadata": {},
   "outputs": [],
   "source": [
    "for i in range(len(y_pred_lr)):\n",
    "    if y_pred_lr[i] == 1:\n",
    "        pred_main = Insert_row_(i, pred_main, row_value)"
   ]
  },
  {
   "cell_type": "code",
   "execution_count": 141,
   "id": "d037dfe4-4a36-4ebf-bc42-363a2e7a595f",
   "metadata": {
    "scrolled": true
   },
   "outputs": [],
   "source": [
    "y_train_main = y_train.drop('trend_id_res50', axis=1)"
   ]
  },
  {
   "cell_type": "code",
   "execution_count": 142,
   "id": "244ea86b-5e66-4ad8-87f7-f00557caf5d1",
   "metadata": {},
   "outputs": [],
   "source": [
    "pred_main = pred_main.values"
   ]
  },
  {
   "cell_type": "code",
   "execution_count": 143,
   "id": "2b21acfd-af70-4634-9462-f5654c17d1d1",
   "metadata": {},
   "outputs": [
    {
     "data": {
      "text/plain": [
       "(6966, 50)"
      ]
     },
     "execution_count": 143,
     "metadata": {},
     "output_type": "execute_result"
    }
   ],
   "source": [
    "pred_main.shape"
   ]
  },
  {
   "cell_type": "code",
   "execution_count": 144,
   "id": "915826de-a781-484c-9bb8-ae2d13310a17",
   "metadata": {},
   "outputs": [
    {
     "data": {
      "text/plain": [
       "(6966, 50)"
      ]
     },
     "execution_count": 144,
     "metadata": {},
     "output_type": "execute_result"
    }
   ],
   "source": [
    "y_train_main.shape"
   ]
  },
  {
   "cell_type": "code",
   "execution_count": 145,
   "id": "f59ee25e-b143-4cb5-a2d5-883cff277d11",
   "metadata": {},
   "outputs": [
    {
     "data": {
      "text/plain": [
       "0.5034453057708872"
      ]
     },
     "execution_count": 145,
     "metadata": {},
     "output_type": "execute_result"
    }
   ],
   "source": [
    "accuracy_score(y_train_main, pred_main)"
   ]
  },
  {
   "cell_type": "markdown",
   "id": "4530fa52-b82a-4871-8eb1-189833feba4e",
   "metadata": {},
   "source": [
    "Вывод: Метрика 0.50344. Есть маленкий буст. Мысль верная."
   ]
  },
  {
   "cell_type": "markdown",
   "id": "59e8488f-a62d-484b-bc99-6caa96a1e50e",
   "metadata": {},
   "source": [
    "## Ансамбль v 2.0"
   ]
  },
  {
   "cell_type": "markdown",
   "id": "e4f4db5f-8fac-4da3-b8b7-d44aa6e6e6d3",
   "metadata": {},
   "source": [
    "Суть гепотезы: попробую проредить основной датасет дважды."
   ]
  },
  {
   "cell_type": "code",
   "execution_count": 146,
   "id": "dce24eda-336b-4e2a-a4ff-21b9fc75cafa",
   "metadata": {},
   "outputs": [],
   "source": [
    "df = pd.read_csv(\"train.csv\")"
   ]
  },
  {
   "cell_type": "code",
   "execution_count": 147,
   "id": "0576ff28-32bd-4d47-838f-3447eff03860",
   "metadata": {},
   "outputs": [],
   "source": [
    "df['sum'] = df[[f\"trend_id_res{i}\" for i in range(50)]].sum(axis=1)"
   ]
  },
  {
   "cell_type": "code",
   "execution_count": 148,
   "id": "38bc4f01-e1ca-475a-b839-bbd83117c0ee",
   "metadata": {},
   "outputs": [
    {
     "data": {
      "text/plain": [
       "0    4085\n",
       "1    3012\n",
       "2    1173\n",
       "3     354\n",
       "4      84\n",
       "Name: sum, dtype: int64"
      ]
     },
     "execution_count": 148,
     "metadata": {},
     "output_type": "execute_result"
    }
   ],
   "source": [
    "df['sum'].value_counts()"
   ]
  },
  {
   "cell_type": "code",
   "execution_count": 149,
   "id": "9362e916-f851-4f84-b355-ab0d6e4fed24",
   "metadata": {},
   "outputs": [],
   "source": [
    "df['trend_id_res50'] = 0"
   ]
  },
  {
   "cell_type": "code",
   "execution_count": 150,
   "id": "d54b062c-bb42-402a-944c-7c15da7cfe8b",
   "metadata": {},
   "outputs": [],
   "source": [
    "for i in range(len(df)):\n",
    "    if df.loc[i, 'sum'] == 0:\n",
    "        df.loc[i, 'trend_id_res50'] = 1"
   ]
  },
  {
   "cell_type": "code",
   "execution_count": 151,
   "id": "bcefdae7-04a9-4ac0-bcad-5d44360e3220",
   "metadata": {},
   "outputs": [],
   "source": [
    "X, y = df[[\"text\"]], df[[f\"trend_id_res{i}\" for i in range(51)]]"
   ]
  },
  {
   "cell_type": "code",
   "execution_count": 152,
   "id": "ab4150d8-02f0-4983-a36c-31b232e99806",
   "metadata": {},
   "outputs": [],
   "source": [
    "X = X.astype(\"str\").copy()"
   ]
  },
  {
   "cell_type": "code",
   "execution_count": 153,
   "id": "c6b6976e-a83f-480a-978f-7c9744d5c896",
   "metadata": {},
   "outputs": [
    {
     "name": "stdout",
     "output_type": "stream",
     "text": [
      "X_train.shape is (6966, 1)\n",
      "y_train.shape is (6966, 51)\n",
      "X_test.shape is (1742, 1)\n",
      "y_test.shape is (1742, 51)\n"
     ]
    }
   ],
   "source": [
    "X_train, X_test, y_train, y_test = train_test_split(X, y, test_size = 0.2, random_state = RANDOM_STATE)\n",
    "print(f\"X_train.shape is {X_train.shape}\")\n",
    "print(f\"y_train.shape is {y_train.shape}\")\n",
    "print(f\"X_test.shape is {X_test.shape}\")\n",
    "print(f\"y_test.shape is {y_test.shape}\")"
   ]
  },
  {
   "cell_type": "code",
   "execution_count": 154,
   "id": "39679c1d-2f8b-4c60-ad7c-17bbac98fe30",
   "metadata": {},
   "outputs": [],
   "source": [
    "y_train_lr = y_train['trend_id_res50']\n",
    "y_test_lr = y_test['trend_id_res50']"
   ]
  },
  {
   "cell_type": "code",
   "execution_count": 155,
   "id": "5b0469e5-ad7b-496b-8b33-47ffeb9da04d",
   "metadata": {},
   "outputs": [
    {
     "data": {
      "text/plain": [
       "Pipeline(steps=[('preprocessor',\n",
       "                 ColumnTransformer(remainder='passthrough',\n",
       "                                   transformers=[('vetorizer',\n",
       "                                                  TfidfVectorizer(analyzer='char_wb',\n",
       "                                                                  ngram_range=(1,\n",
       "                                                                               3)),\n",
       "                                                  'text')])),\n",
       "                ('clf', LogisticRegression(max_iter=10000))])"
      ]
     },
     "metadata": {},
     "output_type": "display_data"
    }
   ],
   "source": [
    "preprocessor = ColumnTransformer(\n",
    "    [\n",
    "        (\"vetorizer\", TfidfVectorizer(analyzer=\"char_wb\", ngram_range = (1,3)), \"text\")\n",
    "    ],                         \n",
    "    remainder = \"passthrough\"\n",
    ")\n",
    "\n",
    "pipeline_lr = Pipeline(\n",
    "    [\n",
    "        (\"preprocessor\", preprocessor),\n",
    "        (\"clf\", LogisticRegression(max_iter = 10_000)),\n",
    "    ]\n",
    ")\n",
    "display(pipeline_lr)"
   ]
  },
  {
   "cell_type": "code",
   "execution_count": 156,
   "id": "75a1d9c9-eb56-49ff-85ed-ee7a3a510793",
   "metadata": {},
   "outputs": [],
   "source": [
    "cross_valid = cross_validate(pipeline_lr, \n",
    "                             X_train, y_train_lr, \n",
    "                             cv = 5, scoring = [\"accuracy\"], n_jobs = -1)"
   ]
  },
  {
   "cell_type": "code",
   "execution_count": 157,
   "id": "56c46359-9df7-4e0e-b532-39a26e84abcd",
   "metadata": {},
   "outputs": [
    {
     "name": "stdout",
     "output_type": "stream",
     "text": [
      "test_accuracy: 0.7479170807923611\n"
     ]
    }
   ],
   "source": [
    "print(\"test_accuracy:\", cross_valid[\"test_accuracy\"].mean())"
   ]
  },
  {
   "cell_type": "code",
   "execution_count": 158,
   "id": "f62ab8d7-45f5-4485-b723-35af773f353c",
   "metadata": {},
   "outputs": [
    {
     "data": {
      "text/plain": [
       "0.7469135802469136"
      ]
     },
     "execution_count": 158,
     "metadata": {},
     "output_type": "execute_result"
    }
   ],
   "source": [
    "y_pred_lr = cross_val_predict(pipeline_lr, X_train, y_train_lr, cv = 2)\n",
    "accuracy_score(y_train_lr, y_pred_lr)\n",
    "# print(classification_report(y_train, y_pred, zero_division = 0))"
   ]
  },
  {
   "cell_type": "code",
   "execution_count": 159,
   "id": "810dd327-91ba-47f1-b183-5cf2566d4b36",
   "metadata": {},
   "outputs": [
    {
     "data": {
      "text/plain": [
       "[3589, 395, 4476, 2006, 7053]"
      ]
     },
     "execution_count": 159,
     "metadata": {},
     "output_type": "execute_result"
    }
   ],
   "source": [
    "index_del = []\n",
    "for i in range(len(y_pred_lr)):\n",
    "    if y_pred_lr[i] == 1:\n",
    "        index_del.append(y_train_lr.index[i])\n",
    "index_del[:5]"
   ]
  },
  {
   "cell_type": "code",
   "execution_count": 160,
   "id": "ccbe0aff-6db0-47cb-b398-c2a367c3feea",
   "metadata": {},
   "outputs": [
    {
     "data": {
      "text/plain": [
       "2664"
      ]
     },
     "execution_count": 160,
     "metadata": {},
     "output_type": "execute_result"
    }
   ],
   "source": [
    "len(index_del)"
   ]
  },
  {
   "cell_type": "code",
   "execution_count": 161,
   "id": "a0ef22db-251e-455c-a9fe-cc14a859c1c2",
   "metadata": {},
   "outputs": [],
   "source": [
    "df_tin = df.drop(index_del)"
   ]
  },
  {
   "cell_type": "code",
   "execution_count": 162,
   "id": "53815040-4d4f-4bb6-bbd6-b84b25dcbc0d",
   "metadata": {},
   "outputs": [
    {
     "data": {
      "text/plain": [
       "0    4085\n",
       "1    3012\n",
       "2    1173\n",
       "3     354\n",
       "4      84\n",
       "Name: sum, dtype: int64"
      ]
     },
     "execution_count": 162,
     "metadata": {},
     "output_type": "execute_result"
    }
   ],
   "source": [
    "df['sum'].value_counts()"
   ]
  },
  {
   "cell_type": "code",
   "execution_count": 163,
   "id": "e352328a-4f10-454f-83ba-9e2ad18942cb",
   "metadata": {},
   "outputs": [
    {
     "data": {
      "text/plain": [
       "1    2510\n",
       "0    2005\n",
       "2    1103\n",
       "3     342\n",
       "4      84\n",
       "Name: sum, dtype: int64"
      ]
     },
     "execution_count": 163,
     "metadata": {},
     "output_type": "execute_result"
    }
   ],
   "source": [
    "df_tin['sum'].value_counts()"
   ]
  },
  {
   "cell_type": "code",
   "execution_count": 164,
   "id": "87989be4-2599-40b4-9123-b1e73a8b2fb6",
   "metadata": {},
   "outputs": [],
   "source": [
    "X_train_lrv2 = X_train.drop(index_del)\n",
    "y_train_lrv2 = y_train.drop(index_del)"
   ]
  },
  {
   "cell_type": "code",
   "execution_count": 165,
   "id": "fbdbd5c5-a599-4b21-a13a-53b80cc7fab9",
   "metadata": {},
   "outputs": [
    {
     "name": "stdout",
     "output_type": "stream",
     "text": [
      "X_train.shape is (4302, 1)\n",
      "y_train.shape is (4302, 51)\n",
      "X_test.shape is (1742, 1)\n",
      "y_test.shape is (1742, 51)\n"
     ]
    }
   ],
   "source": [
    "print(f\"X_train.shape is {X_train_lrv2.shape}\")\n",
    "print(f\"y_train.shape is {y_train_lrv2.shape}\")\n",
    "print(f\"X_test.shape is {X_test.shape}\")\n",
    "print(f\"y_test.shape is {y_test.shape}\")"
   ]
  },
  {
   "cell_type": "code",
   "execution_count": 166,
   "id": "339b396a-0e63-46e6-8359-00682a0f4245",
   "metadata": {},
   "outputs": [],
   "source": [
    "y_train_lrv2 = y_train_lrv2['trend_id_res50']"
   ]
  },
  {
   "cell_type": "code",
   "execution_count": 167,
   "id": "83eeed6b-540c-4244-a7f8-729cb76de185",
   "metadata": {},
   "outputs": [
    {
     "data": {
      "text/plain": [
       "0    3123\n",
       "1    1179\n",
       "Name: trend_id_res50, dtype: int64"
      ]
     },
     "execution_count": 167,
     "metadata": {},
     "output_type": "execute_result"
    }
   ],
   "source": [
    "y_train_lrv2.value_counts()"
   ]
  },
  {
   "cell_type": "code",
   "execution_count": 168,
   "id": "538e3b04-4501-459a-b79c-8654823ebf06",
   "metadata": {},
   "outputs": [
    {
     "data": {
      "text/plain": [
       "Pipeline(steps=[('preprocessor',\n",
       "                 ColumnTransformer(remainder='passthrough',\n",
       "                                   transformers=[('vetorizer',\n",
       "                                                  TfidfVectorizer(analyzer='char_wb',\n",
       "                                                                  ngram_range=(1,\n",
       "                                                                               3)),\n",
       "                                                  'text')])),\n",
       "                ('clf', LogisticRegression(max_iter=10000))])"
      ]
     },
     "metadata": {},
     "output_type": "display_data"
    }
   ],
   "source": [
    "preprocessor = ColumnTransformer(\n",
    "    [\n",
    "        (\"vetorizer\", TfidfVectorizer(analyzer=\"char_wb\", ngram_range = (1,3)), \"text\")\n",
    "    ],                         \n",
    "    remainder = \"passthrough\"\n",
    ")\n",
    "\n",
    "pipeline_lrv2 = Pipeline(\n",
    "    [\n",
    "        (\"preprocessor\", preprocessor),\n",
    "        (\"clf\", LogisticRegression(max_iter = 10_000)),\n",
    "    ]\n",
    ")\n",
    "display(pipeline_lrv2)"
   ]
  },
  {
   "cell_type": "code",
   "execution_count": 169,
   "id": "b38cfe79-8898-40e0-9102-9f1f417f3317",
   "metadata": {},
   "outputs": [],
   "source": [
    "cross_valid = cross_validate(pipeline_lrv2, \n",
    "                             X_train_lrv2, y_train_lrv2, \n",
    "                             cv = 5, scoring = [\"accuracy\"], n_jobs = -1)"
   ]
  },
  {
   "cell_type": "code",
   "execution_count": 170,
   "id": "47e6a90e-c38e-4644-a08f-2e925002447c",
   "metadata": {},
   "outputs": [
    {
     "name": "stdout",
     "output_type": "stream",
     "text": [
      "test_accuracy: 0.7252448477973152\n"
     ]
    }
   ],
   "source": [
    "print(\"test_accuracy:\", cross_valid[\"test_accuracy\"].mean())"
   ]
  },
  {
   "cell_type": "code",
   "execution_count": 171,
   "id": "56a4d404-99c1-44ad-b5fe-34a90d9d1e1f",
   "metadata": {},
   "outputs": [
    {
     "data": {
      "text/plain": [
       "0.7254765225476523"
      ]
     },
     "execution_count": 171,
     "metadata": {},
     "output_type": "execute_result"
    }
   ],
   "source": [
    "y_pred_lrv2 = cross_val_predict(pipeline_lrv2, X_train_lrv2, y_train_lrv2, cv = 2)\n",
    "accuracy_score(y_train_lrv2, y_pred_lrv2)\n",
    "# print(classification_report(y_train, y_pred, zero_division = 0))"
   ]
  },
  {
   "cell_type": "code",
   "execution_count": 172,
   "id": "519df648-e372-4b52-948b-af17917be4e3",
   "metadata": {},
   "outputs": [
    {
     "data": {
      "text/plain": [
       "[7400, 1494, 3333, 1987]"
      ]
     },
     "execution_count": 172,
     "metadata": {},
     "output_type": "execute_result"
    }
   ],
   "source": [
    "index_delv2 = []\n",
    "for i in range(len(y_pred_lrv2)):\n",
    "    if y_pred_lrv2[i] == 1:\n",
    "        index_delv2.append(y_train_lrv2.index[i])\n",
    "index_delv2"
   ]
  },
  {
   "cell_type": "code",
   "execution_count": 173,
   "id": "cbb12b4f-5c2e-4a19-beed-8e990806cd66",
   "metadata": {},
   "outputs": [
    {
     "data": {
      "text/plain": [
       "{0: 4298, 1: 4}"
      ]
     },
     "execution_count": 173,
     "metadata": {},
     "output_type": "execute_result"
    }
   ],
   "source": [
    "import numpy\n",
    "unique, counts = numpy.unique(y_pred_lrv2, return_counts=True)\n",
    "dict(zip(unique, counts))"
   ]
  },
  {
   "cell_type": "code",
   "execution_count": 174,
   "id": "a346b15b-79a2-4ff8-a204-dd654badc4c9",
   "metadata": {},
   "outputs": [
    {
     "name": "stdout",
     "output_type": "stream",
     "text": [
      "              precision    recall  f1-score   support\n",
      "\n",
      "           0       0.73      1.00      0.84      3123\n",
      "           1       0.25      0.00      0.00      1179\n",
      "\n",
      "    accuracy                           0.73      4302\n",
      "   macro avg       0.49      0.50      0.42      4302\n",
      "weighted avg       0.60      0.73      0.61      4302\n",
      "\n"
     ]
    }
   ],
   "source": [
    "print(classification_report(y_train_lrv2, y_pred_lrv2, zero_division = 0))"
   ]
  },
  {
   "cell_type": "markdown",
   "id": "37795e63-7dbb-4004-9bde-7580503d03ab",
   "metadata": {},
   "source": [
    "Вывод: второй этап прореживание выявил лишь 4 наблюдения - неэффективен."
   ]
  },
  {
   "attachments": {},
   "cell_type": "markdown",
   "id": "525f0e38-902a-47c8-a077-cac120adc1ae",
   "metadata": {},
   "source": [
    "## Эмбеддинги DeepPavlov  0.47787"
   ]
  },
  {
   "cell_type": "markdown",
   "id": "c5a2ec82-e0f8-4bfd-ad40-9499ff78b9c1",
   "metadata": {},
   "source": [
    "Суть гепотезы: воспользуюсь предобученой моделью DeepPavlov для создание Эмбеддингов"
   ]
  },
  {
   "cell_type": "code",
   "execution_count": 175,
   "id": "b7bb6269-2329-484e-9fc8-90e56fff50b8",
   "metadata": {},
   "outputs": [],
   "source": [
    "df = pd.read_csv(\"train.csv\")"
   ]
  },
  {
   "cell_type": "code",
   "execution_count": 176,
   "id": "51038718-1a5b-4464-9566-0daae0786e00",
   "metadata": {},
   "outputs": [
    {
     "name": "stderr",
     "output_type": "stream",
     "text": [
      "Some weights of the model checkpoint at DeepPavlov/rubert-base-cased were not used when initializing BertModel: ['cls.predictions.bias', 'cls.predictions.decoder.bias', 'cls.predictions.decoder.weight', 'cls.predictions.transform.LayerNorm.bias', 'cls.predictions.transform.LayerNorm.weight', 'cls.predictions.transform.dense.bias', 'cls.predictions.transform.dense.weight', 'cls.seq_relationship.bias', 'cls.seq_relationship.weight']\n",
      "- This IS expected if you are initializing BertModel from the checkpoint of a model trained on another task or with another architecture (e.g. initializing a BertForSequenceClassification model from a BertForPreTraining model).\n",
      "- This IS NOT expected if you are initializing BertModel from the checkpoint of a model that you expect to be exactly identical (initializing a BertForSequenceClassification model from a BertForSequenceClassification model).\n"
     ]
    }
   ],
   "source": [
    "tokenizer = AutoTokenizer.from_pretrained(\"DeepPavlov/rubert-base-cased\")\n",
    "model = AutoModel.from_pretrained(\"DeepPavlov/rubert-base-cased\")"
   ]
  },
  {
   "cell_type": "code",
   "execution_count": 177,
   "id": "31d258eb-4a7f-46e9-949b-5d72aa3dd903",
   "metadata": {},
   "outputs": [],
   "source": [
    "tokenized = df['text'].apply(\n",
    "  lambda x: tokenizer.encode(x, add_special_tokens=True))"
   ]
  },
  {
   "cell_type": "code",
   "execution_count": 178,
   "id": "64cb1e47-b7db-48fb-8a4d-0bedfa0518df",
   "metadata": {},
   "outputs": [],
   "source": [
    "max_len = 0\n",
    "for i in tokenized.values:\n",
    "    if len(i) > max_len:\n",
    "        max_len = len(i)"
   ]
  },
  {
   "cell_type": "code",
   "execution_count": 179,
   "id": "9f668d6e-5846-463c-ad3f-1c5394f4d6fa",
   "metadata": {},
   "outputs": [],
   "source": [
    "padded = np.array([i + [0]*(max_len - len(i)) for i in tokenized.values])"
   ]
  },
  {
   "cell_type": "code",
   "execution_count": 180,
   "id": "93934df3-d324-462c-836d-e932aeaaf507",
   "metadata": {},
   "outputs": [
    {
     "name": "stdout",
     "output_type": "stream",
     "text": [
      "(8708, 97)\n"
     ]
    }
   ],
   "source": [
    "# создаем маску для выделения важных токенов\n",
    "attention_mask = np.where(padded != 0, 1, 0)\n",
    "print(attention_mask.shape)"
   ]
  },
  {
   "cell_type": "code",
   "execution_count": 181,
   "id": "e4b24a16-965c-4ba1-9964-909bb23634b7",
   "metadata": {},
   "outputs": [],
   "source": [
    "batch_size = 100"
   ]
  },
  {
   "cell_type": "code",
   "execution_count": 182,
   "id": "2ec6bb5b-d0ca-4a8f-a6b5-3f303b0ce819",
   "metadata": {},
   "outputs": [
    {
     "data": {
      "application/vnd.jupyter.widget-view+json": {
       "model_id": "1c3f32a878754dee8e65ddb554fd37a7",
       "version_major": 2,
       "version_minor": 0
      },
      "text/plain": [
       "  0%|          | 0/87 [00:00<?, ?it/s]"
      ]
     },
     "metadata": {},
     "output_type": "display_data"
    }
   ],
   "source": [
    "embeddings = []\n",
    "\n",
    "for i in notebook.tqdm(range(padded.shape[0] // batch_size)):\n",
    "    batch = torch.LongTensor(padded[batch_size*i:batch_size*(i+1)])\n",
    "    attention_mask_batch = torch.LongTensor(attention_mask[batch_size*i:batch_size*(i+1)])\n",
    "\n",
    "    with torch.no_grad():\n",
    "        batch_embeddings = model(batch, attention_mask=attention_mask_batch)\n",
    "\n",
    "    embeddings.append(batch_embeddings[0][:,0,:].numpy())"
   ]
  },
  {
   "cell_type": "code",
   "execution_count": 183,
   "id": "1665c1f1-fb5d-4dcb-934a-dc631cb2e656",
   "metadata": {},
   "outputs": [
    {
     "data": {
      "text/plain": [
       "(8700, 768)"
      ]
     },
     "metadata": {},
     "output_type": "display_data"
    }
   ],
   "source": [
    "features = np.concatenate(embeddings)\n",
    "display(features.shape)"
   ]
  },
  {
   "cell_type": "code",
   "execution_count": 184,
   "id": "074fd62a-9302-4402-b25d-734beda9452a",
   "metadata": {},
   "outputs": [],
   "source": [
    "X, y = features, df[[f\"trend_id_res{i}\" for i in range(50)]]"
   ]
  },
  {
   "cell_type": "code",
   "execution_count": 185,
   "id": "d4118ade-11e1-42d6-8446-9851fde2a9bc",
   "metadata": {},
   "outputs": [],
   "source": [
    "y = y.iloc[:8700]"
   ]
  },
  {
   "cell_type": "code",
   "execution_count": 186,
   "id": "a69cf028-b3cc-4ab4-915a-2c3b98d30a35",
   "metadata": {},
   "outputs": [
    {
     "name": "stdout",
     "output_type": "stream",
     "text": [
      "X_train.shape is (6960, 768)\n",
      "y_train.shape is (6960, 50)\n",
      "X_test.shape is (1740, 768)\n",
      "y_test.shape is (1740, 50)\n"
     ]
    }
   ],
   "source": [
    "X_train, X_test, y_train, y_test = train_test_split(X, y, test_size = 0.2, random_state = RANDOM_STATE)\n",
    "print(f\"X_train.shape is {X_train.shape}\")\n",
    "print(f\"y_train.shape is {y_train.shape}\")\n",
    "print(f\"X_test.shape is {X_test.shape}\")\n",
    "print(f\"y_test.shape is {y_test.shape}\")"
   ]
  },
  {
   "cell_type": "code",
   "execution_count": 187,
   "id": "0b2cd4f9-2d31-4c90-aa03-9f15dfe04c56",
   "metadata": {},
   "outputs": [],
   "source": [
    "model = MultiOutputClassifier(estimator=LogisticRegression(max_iter=10000))"
   ]
  },
  {
   "cell_type": "code",
   "execution_count": 188,
   "id": "b81ee943-0f2d-4013-9582-4a700fb1f351",
   "metadata": {},
   "outputs": [],
   "source": [
    "cross_valid = cross_validate(model, \n",
    "                             X_train, y_train, \n",
    "                             cv = 5, scoring = [\"accuracy\"], n_jobs = -1)"
   ]
  },
  {
   "cell_type": "code",
   "execution_count": 189,
   "id": "6d87cd15-858c-4929-8cc1-54b2974a2b66",
   "metadata": {},
   "outputs": [
    {
     "name": "stdout",
     "output_type": "stream",
     "text": [
      "test_accuracy: 0.47959770114942535\n"
     ]
    }
   ],
   "source": [
    "print(\"test_accuracy:\", cross_valid[\"test_accuracy\"].mean())"
   ]
  },
  {
   "cell_type": "code",
   "execution_count": 190,
   "id": "0ae558c3-9a58-4c1b-ad31-310b8319bce0",
   "metadata": {},
   "outputs": [],
   "source": [
    "y_pred = cross_val_predict(model, X_train, y_train, cv = 2)"
   ]
  },
  {
   "cell_type": "code",
   "execution_count": 191,
   "id": "e2745280-936e-451a-a211-3eb832029b96",
   "metadata": {},
   "outputs": [
    {
     "data": {
      "text/plain": [
       "0.4778735632183908"
      ]
     },
     "execution_count": 191,
     "metadata": {},
     "output_type": "execute_result"
    }
   ],
   "source": [
    "# Посмотрим на целевую метрику\n",
    "accuracy_score(y_train, y_pred)"
   ]
  },
  {
   "cell_type": "markdown",
   "id": "e0c249d5-d683-4774-957b-192fbd0b179c",
   "metadata": {},
   "source": [
    "Вывод: Метрика 0.47787"
   ]
  },
  {
   "cell_type": "markdown",
   "id": "adcf7dc8-3a14-40d6-9b37-858678269dfe",
   "metadata": {},
   "source": [
    "## DeepPavlov + Ансамбль "
   ]
  },
  {
   "cell_type": "markdown",
   "id": "01506b5c-1698-4bbe-855f-649000e9ed9b",
   "metadata": {},
   "source": [
    "Суть гепотезы: попробую с помощью DeepPavlov Эмбеддинги осуществить прореживание Датасета"
   ]
  },
  {
   "cell_type": "code",
   "execution_count": 192,
   "id": "1eb32803-35fe-4589-bc13-d166b4108639",
   "metadata": {},
   "outputs": [],
   "source": [
    "df['sum'] = df[[f\"trend_id_res{i}\" for i in range(50)]].sum(axis=1)"
   ]
  },
  {
   "cell_type": "code",
   "execution_count": 193,
   "id": "08181ec0-13ca-40a2-bebd-8eb27fa5c49e",
   "metadata": {},
   "outputs": [
    {
     "data": {
      "text/plain": [
       "0    4085\n",
       "1    3012\n",
       "2    1173\n",
       "3     354\n",
       "4      84\n",
       "Name: sum, dtype: int64"
      ]
     },
     "execution_count": 193,
     "metadata": {},
     "output_type": "execute_result"
    }
   ],
   "source": [
    "df['sum'].value_counts()"
   ]
  },
  {
   "cell_type": "code",
   "execution_count": 194,
   "id": "9a2f8c6c-40d2-4a26-9a3e-babdcf5c8f14",
   "metadata": {},
   "outputs": [],
   "source": [
    "df['trend_id_res50'] = 0"
   ]
  },
  {
   "cell_type": "code",
   "execution_count": 195,
   "id": "1b4a9a97-a677-4aa7-a7c5-411171aa078e",
   "metadata": {},
   "outputs": [],
   "source": [
    "for i in range(len(df)):\n",
    "    if df.loc[i, 'sum'] == 0:\n",
    "        df.loc[i, 'trend_id_res50'] = 1"
   ]
  },
  {
   "cell_type": "code",
   "execution_count": 196,
   "id": "d44652c7-6aba-43e8-9fc5-b37d0af7287a",
   "metadata": {},
   "outputs": [],
   "source": [
    "X, y = features, df[[f\"trend_id_res{i}\" for i in range(51)]]"
   ]
  },
  {
   "cell_type": "code",
   "execution_count": 197,
   "id": "d6c39bcf-46da-42f6-930b-2b7e19d32498",
   "metadata": {},
   "outputs": [],
   "source": [
    "y = y.iloc[:8700]"
   ]
  },
  {
   "cell_type": "code",
   "execution_count": 198,
   "id": "d2205484-6b9c-481c-9838-83920c495a22",
   "metadata": {},
   "outputs": [
    {
     "name": "stdout",
     "output_type": "stream",
     "text": [
      "X_train.shape is (6960, 768)\n",
      "y_train.shape is (6960, 51)\n",
      "X_test.shape is (1740, 768)\n",
      "y_test.shape is (1740, 51)\n"
     ]
    }
   ],
   "source": [
    "X_train, X_test, y_train, y_test = train_test_split(X, y, test_size = 0.2, random_state = RANDOM_STATE)\n",
    "print(f\"X_train.shape is {X_train.shape}\")\n",
    "print(f\"y_train.shape is {y_train.shape}\")\n",
    "print(f\"X_test.shape is {X_test.shape}\")\n",
    "print(f\"y_test.shape is {y_test.shape}\")"
   ]
  },
  {
   "cell_type": "code",
   "execution_count": 199,
   "id": "0354ecd1-53ef-4baf-bb4c-e21d78ec6a45",
   "metadata": {},
   "outputs": [],
   "source": [
    "y_train_lr = y_train['trend_id_res50']\n",
    "y_test_lr = y_test['trend_id_res50']"
   ]
  },
  {
   "cell_type": "code",
   "execution_count": 200,
   "id": "18dbba19-c874-4f38-b502-5603f6b8c1a7",
   "metadata": {},
   "outputs": [],
   "source": [
    "model_lr = LogisticRegression(max_iter = 10_000)"
   ]
  },
  {
   "cell_type": "code",
   "execution_count": 201,
   "id": "43868062-b7f5-48cb-904a-cb51fc0e8de0",
   "metadata": {},
   "outputs": [],
   "source": [
    "cross_valid = cross_validate(model_lr, \n",
    "                             X_train, y_train_lr, \n",
    "                             cv = 5, scoring = [\"accuracy\"], n_jobs = -1)"
   ]
  },
  {
   "cell_type": "code",
   "execution_count": 202,
   "id": "d55f83c7-bc19-4677-aef2-8c8a53190874",
   "metadata": {},
   "outputs": [
    {
     "name": "stdout",
     "output_type": "stream",
     "text": [
      "test_accuracy: 0.7119252873563219\n"
     ]
    }
   ],
   "source": [
    "print(\"test_accuracy:\", cross_valid[\"test_accuracy\"].mean())"
   ]
  },
  {
   "cell_type": "markdown",
   "id": "7574e6e5-d4cf-4159-b396-bad838156324",
   "metadata": {},
   "source": [
    "Вывод: промежуточная метрика не улучшилась."
   ]
  },
  {
   "cell_type": "markdown",
   "id": "84302e8f-ddeb-462f-b558-2ea9d1400b2f",
   "metadata": {},
   "source": [
    "## Глубокое обучения с применением эпох"
   ]
  },
  {
   "cell_type": "markdown",
   "id": "8dd8d28d-9ad9-4435-b2c6-62b9f1ab53f7",
   "metadata": {},
   "source": [
    "Суть гепоттезы: использую Torch и глубокое обучение для нахождении \"нулевых\" наблюдений"
   ]
  },
  {
   "cell_type": "markdown",
   "id": "ad317372-bd5d-4409-87d1-405db19cbb82",
   "metadata": {},
   "source": [
    "### 10 эпох"
   ]
  },
  {
   "cell_type": "code",
   "execution_count": 207,
   "id": "61842c79-4ba8-4381-bf74-7fc7c08a624f",
   "metadata": {},
   "outputs": [],
   "source": [
    "df = pd.read_csv(\"train.csv\")"
   ]
  },
  {
   "cell_type": "code",
   "execution_count": 208,
   "id": "86069e90-6a1f-4194-ac69-c16f6af98b57",
   "metadata": {},
   "outputs": [],
   "source": [
    "df['sum'] = df[[f\"trend_id_res{i}\" for i in range(50)]].sum(axis=1)"
   ]
  },
  {
   "cell_type": "code",
   "execution_count": 209,
   "id": "e21a3bae-ed3c-421f-99c2-df7b6cacf814",
   "metadata": {},
   "outputs": [
    {
     "data": {
      "text/plain": [
       "0    4085\n",
       "1    3012\n",
       "2    1173\n",
       "3     354\n",
       "4      84\n",
       "Name: sum, dtype: int64"
      ]
     },
     "execution_count": 209,
     "metadata": {},
     "output_type": "execute_result"
    }
   ],
   "source": [
    "df['sum'].value_counts()"
   ]
  },
  {
   "cell_type": "code",
   "execution_count": 210,
   "id": "d9016a00-e468-4a67-a3fd-cf1c64d8a1b7",
   "metadata": {},
   "outputs": [],
   "source": [
    "df['trend_id_res50'] = 0"
   ]
  },
  {
   "cell_type": "code",
   "execution_count": 211,
   "id": "0a31191a-d71d-4122-bf17-4ea5e43669db",
   "metadata": {},
   "outputs": [],
   "source": [
    "for i in range(len(df)):\n",
    "    if df.loc[i, 'sum'] == 0:\n",
    "        df.loc[i, 'trend_id_res50'] = 1"
   ]
  },
  {
   "cell_type": "code",
   "execution_count": 212,
   "id": "9a95def9-6867-4597-84ef-d2da40927ee2",
   "metadata": {},
   "outputs": [],
   "source": [
    "X, y = df[[\"text\"]], df[['trend_id_res50']]"
   ]
  },
  {
   "cell_type": "code",
   "execution_count": 213,
   "id": "409990dd-7e11-443e-82a7-48389fb6b782",
   "metadata": {},
   "outputs": [],
   "source": [
    "X = X.astype(\"str\").copy()"
   ]
  },
  {
   "cell_type": "code",
   "execution_count": 216,
   "id": "7fb3d77d-19bf-4145-bc87-f705faffe76b",
   "metadata": {},
   "outputs": [
    {
     "data": {
      "text/plain": [
       "count    7760.000000\n",
       "mean       67.012113\n",
       "std        57.205381\n",
       "min         6.000000\n",
       "25%        22.000000\n",
       "50%        49.000000\n",
       "75%        95.000000\n",
       "max       240.000000\n",
       "Name: seqlen, dtype: float64"
      ]
     },
     "execution_count": 216,
     "metadata": {},
     "output_type": "execute_result"
    }
   ],
   "source": [
    "df['seqlen'] = df['text'].apply(lambda x: len(x))\n",
    "q1 = df['seqlen'].quantile(.05)\n",
    "q2 = df['seqlen'].quantile(.95)\n",
    "df = df.loc[(df['seqlen'] > q1) & (df['seqlen'] < q2)]\n",
    "df['seqlen'].describe()"
   ]
  },
  {
   "cell_type": "code",
   "execution_count": 217,
   "id": "7109026f-3aa1-41f2-a50b-0df010377dc1",
   "metadata": {},
   "outputs": [],
   "source": [
    "df = df.drop(['seqlen'], axis=1)"
   ]
  },
  {
   "cell_type": "code",
   "execution_count": 218,
   "id": "09d1ca32-9380-4dd6-b32d-a72eeb3e23c2",
   "metadata": {},
   "outputs": [],
   "source": [
    "class VacClass(Dataset):\n",
    "    def __init__(self, annotations, thr: list):\n",
    "        self.annotations = annotations\n",
    "        self.threshold = thr\n",
    "\n",
    "    def __getitem__(self, idx):\n",
    "        txt_ = self.annotations['text'].values[idx]\n",
    "        target = self.annotations['trend_id_res50'].values[idx]\n",
    "        if target == 0:\n",
    "            target = 0\n",
    "        else:\n",
    "            target = 1\n",
    "        return [txt_], torch.tensor(target)\n",
    "\n",
    "    def __len__(self):\n",
    "        return len(self.annotations)"
   ]
  },
  {
   "cell_type": "code",
   "execution_count": 219,
   "id": "93b585eb-36cd-4873-b76b-7cc2c531be41",
   "metadata": {},
   "outputs": [
    {
     "data": {
      "text/plain": [
       "tensor([0.5249, 0.4751])"
      ]
     },
     "execution_count": 219,
     "metadata": {},
     "output_type": "execute_result"
    }
   ],
   "source": [
    "w = []\n",
    "for c in df['trend_id_res50'].unique():\n",
    "    w.append(len(df.loc[df['trend_id_res50'] == c]) / len(df))\n",
    "\n",
    "weights = torch.FloatTensor(w)\n",
    "weights"
   ]
  },
  {
   "cell_type": "code",
   "execution_count": 220,
   "id": "b573a970-04e3-452c-9f66-7f8471e5d598",
   "metadata": {},
   "outputs": [
    {
     "name": "stdout",
     "output_type": "stream",
     "text": [
      "device: cpu\n"
     ]
    }
   ],
   "source": [
    "device = torch.device('cuda') if torch.cuda.is_available() else torch.device('cpu')\n",
    "print('device:', device)\n",
    "SEED = torch.Generator().manual_seed(RANDOM_STATE)\n",
    "BATCH_SIZE = 100"
   ]
  },
  {
   "cell_type": "code",
   "execution_count": 221,
   "id": "5a9c5d24-72a6-424c-bfbf-80c72ed34373",
   "metadata": {},
   "outputs": [],
   "source": [
    "vac = VacClass(df, [0, 1])\n",
    "train_ru, valid_ru = torch.utils.data.random_split(vac, [.8, .2], generator=SEED)\n",
    "train_dataloader_ru = torch.utils.data.DataLoader(train_ru, batch_size=BATCH_SIZE, shuffle=True, num_workers=0)\n",
    "valid_dataloader_ru = torch.utils.data.DataLoader(valid_ru, batch_size=BATCH_SIZE, shuffle=False, num_workers=0)"
   ]
  },
  {
   "cell_type": "code",
   "execution_count": 222,
   "id": "051d1e81-24b9-4263-bd5b-df8db85afdfa",
   "metadata": {},
   "outputs": [],
   "source": [
    "class TransformerRegrModel(nn.Module):\n",
    "    def __init__(self, base_transformer_model: str, num_classes: int):\n",
    "        super().__init__()\n",
    "        self.tr_model = base_transformer_model\n",
    "        self.num = num_classes\n",
    "\n",
    "        if self.tr_model not in  ['rubert', 'base']:\n",
    "            raise Exception('unknown model')\n",
    "        elif self.tr_model == 'rubert':\n",
    "            self.tokenizer = AutoTokenizer.from_pretrained(\"cointegrated/rubert-tiny2\")\n",
    "            self.config = BertConfig.from_pretrained(\"cointegrated/rubert-tiny2\", output_hidden_states=True, output_attentions=True)\n",
    "        elif self.tr_model == 'base':\n",
    "            self.tokenizer = AutoTokenizer.from_pretrained(\"ai-forever/ruBert-base\", model_max_length=512)\n",
    "            self.config = BertConfig.from_pretrained(\"ai-forever/ruBert-base\", output_hidden_states=True, output_attentions=True)\n",
    "        self.model = AutoModel.from_config(self.config)\n",
    "        self.a1 = nn.ReLU()\n",
    "        self.classifier_1 = nn.Linear(self.model.pooler.dense.out_features, self.num)\n",
    "        # self.classifier_dropout = nn.Dropout(p=0.2)\n",
    "        # self.classifier_2 = nn.Linear(128, self.num)\n",
    "\n",
    "    def forward(self, inputs):\n",
    "        t = self.tokenizer(inputs, padding=True, truncation=True, return_tensors='pt')\n",
    "        tokens = self.tokenizer.convert_ids_to_tokens(t['input_ids'][0])\n",
    "        model_output = self.model(**{k: v.to(device) for k, v in t.items()})\n",
    "        attentions = torch.cat(model_output['attentions']).to('cpu')\n",
    "        embeddings = model_output.last_hidden_state[:, 0, :]\n",
    "        embeddings = torch.nn.functional.normalize(embeddings)\n",
    "        outputs = self.a1(embeddings)\n",
    "        outputs = self.classifier_1(outputs)\n",
    "        # outputs = self.classifier_dropout(outputs)\n",
    "        # outputs = self.a1(outputs)\n",
    "        # outputs = self.classifier_dropout(outputs)\n",
    "        # outputs = self.classifier_2(outputs)\n",
    "\n",
    "        return outputs, tokens, attentions"
   ]
  },
  {
   "cell_type": "code",
   "execution_count": 223,
   "id": "a3e38dd3-1585-464c-85c4-3bb092ec2fa5",
   "metadata": {
    "scrolled": true
   },
   "outputs": [],
   "source": [
    "rubert = TransformerRegrModel('rubert', 2)"
   ]
  },
  {
   "cell_type": "code",
   "execution_count": 224,
   "id": "29a6b3de-191a-4090-9d97-c302746795db",
   "metadata": {},
   "outputs": [
    {
     "name": "stderr",
     "output_type": "stream",
     "text": [
      "BertSdpaSelfAttention is used but `torch.nn.functional.scaled_dot_product_attention` does not support non-absolute `position_embedding_type` or `output_attentions=True` or `head_mask`. Falling back to the manual attention implementation, but specifying the manual implementation will be required from Transformers version v5.0.0 onwards. This warning can be removed using the argument `attn_implementation=\"eager\"` when loading the model.\n"
     ]
    },
    {
     "data": {
      "text/plain": [
       "tensor([[-0.0590,  0.0137],\n",
       "        [-0.0599,  0.0123],\n",
       "        [-0.0590,  0.0149],\n",
       "        [-0.0589,  0.0121],\n",
       "        [-0.0588,  0.0118],\n",
       "        [-0.0592,  0.0145],\n",
       "        [-0.0602,  0.0134],\n",
       "        [-0.0590,  0.0116],\n",
       "        [-0.0592,  0.0135],\n",
       "        [-0.0589,  0.0119],\n",
       "        [-0.0585,  0.0146],\n",
       "        [-0.0593,  0.0122],\n",
       "        [-0.0586,  0.0110],\n",
       "        [-0.0591,  0.0117],\n",
       "        [-0.0593,  0.0110],\n",
       "        [-0.0610,  0.0149],\n",
       "        [-0.0584,  0.0127],\n",
       "        [-0.0597,  0.0119],\n",
       "        [-0.0575,  0.0133],\n",
       "        [-0.0573,  0.0133],\n",
       "        [-0.0577,  0.0136],\n",
       "        [-0.0583,  0.0125],\n",
       "        [-0.0569,  0.0131],\n",
       "        [-0.0588,  0.0133],\n",
       "        [-0.0578,  0.0116],\n",
       "        [-0.0589,  0.0114],\n",
       "        [-0.0599,  0.0126],\n",
       "        [-0.0597,  0.0115],\n",
       "        [-0.0590,  0.0113],\n",
       "        [-0.0592,  0.0113],\n",
       "        [-0.0568,  0.0106],\n",
       "        [-0.0578,  0.0108],\n",
       "        [-0.0604,  0.0136],\n",
       "        [-0.0589,  0.0131],\n",
       "        [-0.0581,  0.0116],\n",
       "        [-0.0593,  0.0137],\n",
       "        [-0.0579,  0.0139],\n",
       "        [-0.0584,  0.0112],\n",
       "        [-0.0577,  0.0128],\n",
       "        [-0.0580,  0.0153],\n",
       "        [-0.0597,  0.0113],\n",
       "        [-0.0581,  0.0126],\n",
       "        [-0.0587,  0.0141],\n",
       "        [-0.0595,  0.0124],\n",
       "        [-0.0595,  0.0124],\n",
       "        [-0.0584,  0.0116],\n",
       "        [-0.0593,  0.0113],\n",
       "        [-0.0587,  0.0145],\n",
       "        [-0.0594,  0.0119],\n",
       "        [-0.0585,  0.0146],\n",
       "        [-0.0575,  0.0112],\n",
       "        [-0.0570,  0.0119],\n",
       "        [-0.0593,  0.0114],\n",
       "        [-0.0578,  0.0129],\n",
       "        [-0.0559,  0.0125],\n",
       "        [-0.0590,  0.0109],\n",
       "        [-0.0582,  0.0115],\n",
       "        [-0.0598,  0.0125],\n",
       "        [-0.0586,  0.0131],\n",
       "        [-0.0580,  0.0130],\n",
       "        [-0.0597,  0.0122],\n",
       "        [-0.0583,  0.0119],\n",
       "        [-0.0585,  0.0113],\n",
       "        [-0.0582,  0.0149],\n",
       "        [-0.0583,  0.0136],\n",
       "        [-0.0595,  0.0157],\n",
       "        [-0.0584,  0.0113],\n",
       "        [-0.0584,  0.0129],\n",
       "        [-0.0593,  0.0110],\n",
       "        [-0.0585,  0.0137],\n",
       "        [-0.0582,  0.0135],\n",
       "        [-0.0589,  0.0111],\n",
       "        [-0.0595,  0.0107],\n",
       "        [-0.0582,  0.0123],\n",
       "        [-0.0594,  0.0147],\n",
       "        [-0.0610,  0.0149],\n",
       "        [-0.0589,  0.0117],\n",
       "        [-0.0582,  0.0131],\n",
       "        [-0.0580,  0.0133],\n",
       "        [-0.0592,  0.0109],\n",
       "        [-0.0584,  0.0116],\n",
       "        [-0.0590,  0.0114],\n",
       "        [-0.0585,  0.0132],\n",
       "        [-0.0582,  0.0114],\n",
       "        [-0.0594,  0.0131],\n",
       "        [-0.0598,  0.0121],\n",
       "        [-0.0590,  0.0147],\n",
       "        [-0.0576,  0.0123],\n",
       "        [-0.0578,  0.0134],\n",
       "        [-0.0584,  0.0120],\n",
       "        [-0.0595,  0.0115],\n",
       "        [-0.0568,  0.0125],\n",
       "        [-0.0586,  0.0138],\n",
       "        [-0.0595,  0.0140],\n",
       "        [-0.0595,  0.0125],\n",
       "        [-0.0589,  0.0118],\n",
       "        [-0.0599,  0.0127],\n",
       "        [-0.0592,  0.0117],\n",
       "        [-0.0591,  0.0134],\n",
       "        [-0.0572,  0.0130]], grad_fn=<AddmmBackward0>)"
      ]
     },
     "execution_count": 224,
     "metadata": {},
     "output_type": "execute_result"
    }
   ],
   "source": [
    "txts, labels = next(iter(train_dataloader_ru))\n",
    "rubert.to(device)\n",
    "rubert.eval()\n",
    "res, tokens, attentions = rubert(txts[0])\n",
    "res"
   ]
  },
  {
   "cell_type": "code",
   "execution_count": 225,
   "id": "9dd94d3b-8a16-422f-8da4-113e19b4bb69",
   "metadata": {},
   "outputs": [],
   "source": [
    "def fit_epoch(model, train_loader, criterion, optimizer, scheduler_down, scheduler_up):\n",
    "    model.train()\n",
    "    running_loss = 0.0\n",
    "    running_corrects = 0\n",
    "    processed_data = 0\n",
    "\n",
    "    for inputs, labels in train_loader:\n",
    "\n",
    "        # inputs = inputs[0].to(device)\n",
    "        labels = labels.to(device)\n",
    "        optimizer.zero_grad()\n",
    "\n",
    "        outputs, _, _ = model(inputs[0])\n",
    "        loss = criterion(outputs, labels)\n",
    "        loss.backward()\n",
    "        optimizer.step()\n",
    "        preds = torch.argmax(outputs, 1)\n",
    "        running_loss += loss.item() * len(inputs[0])\n",
    "        running_corrects += torch.sum(preds == labels.data)\n",
    "        processed_data += len(inputs[0])\n",
    "\n",
    "    scheduler_down.step()\n",
    "    # scheduler_up.step()\n",
    "    train_loss = running_loss / processed_data\n",
    "    train_acc = running_corrects.cpu().numpy() / processed_data\n",
    "    rate = optimizer.param_groups[0][\"lr\"]\n",
    "    return train_loss, train_acc, rate"
   ]
  },
  {
   "cell_type": "code",
   "execution_count": 226,
   "id": "0cebd28e-9233-4cda-a804-b80bef5e976f",
   "metadata": {},
   "outputs": [],
   "source": [
    "def eval_epoch(model, val_loader, criterion):\n",
    "    model.eval()\n",
    "    running_loss = 0.0\n",
    "    running_corrects = 0\n",
    "    processed_size = 0\n",
    "\n",
    "    for inputs, labels in val_loader:\n",
    "        # inputs = inputs[0].to(device)\n",
    "        labels = labels.to(device)\n",
    "\n",
    "        with torch.set_grad_enabled(False):\n",
    "            outputs, _, _ = model(inputs[0])\n",
    "            loss = criterion(outputs, labels)\n",
    "            preds = torch.argmax(outputs, 1)\n",
    "\n",
    "        running_loss += loss.item() * len(inputs[0])\n",
    "        running_corrects += torch.sum(preds == labels.data)\n",
    "        processed_size += len(inputs[0])\n",
    "    val_loss = running_loss / processed_size\n",
    "    val_acc = running_corrects.cpu().numpy() / processed_size\n",
    "    return val_loss, val_acc"
   ]
  },
  {
   "cell_type": "code",
   "execution_count": 227,
   "id": "21e89b83-7cd5-495e-ab80-2c8e5af7c786",
   "metadata": {},
   "outputs": [],
   "source": [
    "def predict(model, test_loader):\n",
    "    running_corrects = 0\n",
    "    processed_size = 0\n",
    "    with torch.no_grad():\n",
    "        logits = []\n",
    "        preds = []\n",
    "        answers = []\n",
    "        seqs = []\n",
    "\n",
    "        for inputs, labels in test_loader:\n",
    "            labels = labels.to(device)\n",
    "            model.eval()\n",
    "            outputs, _, _ = model(inputs[0])\n",
    "            seqs.extend(inputs[0])\n",
    "            logits.append(outputs.cpu())\n",
    "            preds.append(torch.argmax(outputs, 1).cpu())\n",
    "            answers.append(labels.cpu())\n",
    "            running_corrects += torch.sum(torch.argmax(outputs, 1) == labels.data)\n",
    "            processed_size += len(inputs[0])\n",
    "\n",
    "    probs = nn.functional.softmax(torch.cat(logits), dim=-1).numpy()\n",
    "    preds = torch.cat(preds, dim=-1).numpy()\n",
    "    answers = torch.cat(answers, dim=-1).numpy()\n",
    "    test_acc = running_corrects.cpu().numpy() / processed_size\n",
    "    return answers, preds, probs, test_acc, seqs"
   ]
  },
  {
   "cell_type": "code",
   "execution_count": 228,
   "id": "4f541cee-0e65-49fa-a753-c999348adbd5",
   "metadata": {},
   "outputs": [],
   "source": [
    "def vizualize(h, model):\n",
    "    loss, acc, val_loss, val_acc, rate = zip(*h)\n",
    "    plt.figure(figsize=(15, 9))\n",
    "    plt.plot(loss, label=\"train_loss\")\n",
    "    plt.plot(val_loss, label=\"val_loss\")\n",
    "    plt.legend(loc='best')\n",
    "    plt.xlabel(\"epochs\")\n",
    "    plt.ylabel(\"loss\")\n",
    "    plt.show()\n",
    "    plt.plot(acc, label=\"train_accuracy\")\n",
    "    plt.plot(val_acc, label=\"validation_accuracy\")\n",
    "    plt.legend(loc='best')\n",
    "    plt.xlabel(\"epochs\")\n",
    "    plt.ylabel(\"accuracy\")\n",
    "    plt.show()\n",
    "    plt.plot(np.log(rate), label=\"learning_rate\", color='green')\n",
    "    plt.legend(loc='best')\n",
    "    plt.xlabel(\"epochs\")\n",
    "    plt.ylabel(\"learning rate (log scale)\")\n",
    "    plt.show()"
   ]
  },
  {
   "cell_type": "code",
   "execution_count": 229,
   "id": "64a873c4-b2ed-490b-90d1-bbeb84f36d1f",
   "metadata": {},
   "outputs": [],
   "source": [
    "def freeze_model(model):\n",
    "    for name, param in model.named_parameters():\n",
    "        if 'classifier' not in name:\n",
    "            param.requires_grad = False\n",
    "    return model"
   ]
  },
  {
   "cell_type": "code",
   "execution_count": 230,
   "id": "5f2a8279-0317-49e6-a61b-39065b3c0bd3",
   "metadata": {},
   "outputs": [],
   "source": [
    "def train_transformer(train, val, model, epochs, rate, criterion, freeze):\n",
    "    model_ = copy.copy(model)\n",
    "    if freeze:\n",
    "        model_ = freeze_model(model_)\n",
    "    history = []\n",
    "    log_template = \"\\nEpoch {ep:03d} train_loss: {t_loss:0.4f} \\\n",
    "    val_loss {v_loss:0.4f} train_acc {t_acc:0.4f} val_acc {v_acc:0.4f}, learning rate {r}\"\n",
    "\n",
    "    with tqdm(desc=\"epoch\", total=epochs) as pbar_outer:\n",
    "        opt = torch.optim.Adam(model_.parameters(), lr=rate)\n",
    "        # sch = StepLR(opt, step_size=5, gamma=0.1)\n",
    "        sch_down = StepLR(opt, step_size=25, gamma=0.2)\n",
    "        sch_up = StepLR(opt, step_size=10, gamma=200)\n",
    "\n",
    "        val_acc_p = 0\n",
    "\n",
    "        for epoch in range(epochs):\n",
    "            train_loss, train_acc, rate = fit_epoch(model_, train, criterion, opt, sch_down, sch_up)\n",
    "\n",
    "            val_loss, val_acc = eval_epoch(model_, val, criterion)\n",
    "            if val_acc > val_acc_p and epoch != 0:\n",
    "                torch.save(model_.state_dict(), \"tiny.pt\")\n",
    "                print(f'save best model for {epoch} epoch')\n",
    "                val_acc_p = val_acc\n",
    "            history.append((train_loss, train_acc, val_loss, val_acc, rate))\n",
    "\n",
    "            pbar_outer.update(1)\n",
    "            tqdm.write(log_template.format(ep=epoch+1, t_loss=train_loss,\\\n",
    "                                           v_loss=val_loss, t_acc=train_acc, v_acc=val_acc, r=rate))\n",
    "\n",
    "    return history, model_"
   ]
  },
  {
   "cell_type": "code",
   "execution_count": 231,
   "id": "2d990cad-f87b-4cbd-b74b-4be2a05e1392",
   "metadata": {},
   "outputs": [],
   "source": [
    "bce = nn.CrossEntropyLoss(weight=weights.to(device))\n",
    "lr = 3e-4"
   ]
  },
  {
   "cell_type": "code",
   "execution_count": 233,
   "id": "29f3bea6-3a4e-4354-a8a6-c179a49999c6",
   "metadata": {},
   "outputs": [],
   "source": [
    "from tqdm import tqdm"
   ]
  },
  {
   "cell_type": "code",
   "execution_count": 234,
   "id": "441f7176-397b-46ad-a02b-98109099ef1f",
   "metadata": {},
   "outputs": [
    {
     "name": "stderr",
     "output_type": "stream",
     "text": [
      "epoch:  10%|███████▌                                                                    | 1/10 [00:41<06:10, 41.19s/it]"
     ]
    },
    {
     "name": "stdout",
     "output_type": "stream",
     "text": [
      "\n",
      "Epoch 001 train_loss: 0.6398     val_loss 0.5891 train_acc 0.6474 val_acc 0.7294, learning rate 0.0003\n"
     ]
    },
    {
     "name": "stderr",
     "output_type": "stream",
     "text": [
      "epoch:  20%|███████████████▏                                                            | 2/10 [01:23<05:37, 42.13s/it]"
     ]
    },
    {
     "name": "stdout",
     "output_type": "stream",
     "text": [
      "save best model for 1 epoch\n",
      "\n",
      "Epoch 002 train_loss: 0.5544     val_loss 0.5631 train_acc 0.7650 val_acc 0.7448, learning rate 0.0003\n"
     ]
    },
    {
     "name": "stderr",
     "output_type": "stream",
     "text": [
      "epoch:  30%|██████████████████████▊                                                     | 3/10 [02:04<04:50, 41.46s/it]"
     ]
    },
    {
     "name": "stdout",
     "output_type": "stream",
     "text": [
      "\n",
      "Epoch 003 train_loss: 0.5151     val_loss 0.5485 train_acc 0.7879 val_acc 0.7448, learning rate 0.0003\n"
     ]
    },
    {
     "name": "stderr",
     "output_type": "stream",
     "text": [
      "epoch:  40%|██████████████████████████████▍                                             | 4/10 [02:44<04:05, 40.90s/it]"
     ]
    },
    {
     "name": "stdout",
     "output_type": "stream",
     "text": [
      "\n",
      "Epoch 004 train_loss: 0.4634     val_loss 0.5577 train_acc 0.8231 val_acc 0.7423, learning rate 0.0003\n"
     ]
    },
    {
     "name": "stderr",
     "output_type": "stream",
     "text": [
      "epoch:  50%|██████████████████████████████████████                                      | 5/10 [03:26<03:26, 41.22s/it]"
     ]
    },
    {
     "name": "stdout",
     "output_type": "stream",
     "text": [
      "\n",
      "Epoch 005 train_loss: 0.4103     val_loss 0.5973 train_acc 0.8547 val_acc 0.7191, learning rate 0.0003\n"
     ]
    },
    {
     "name": "stderr",
     "output_type": "stream",
     "text": [
      "epoch:  60%|█████████████████████████████████████████████▌                              | 6/10 [04:08<02:46, 41.61s/it]"
     ]
    },
    {
     "name": "stdout",
     "output_type": "stream",
     "text": [
      "\n",
      "Epoch 006 train_loss: 0.3729     val_loss 0.6046 train_acc 0.8748 val_acc 0.7274, learning rate 0.0003\n"
     ]
    },
    {
     "name": "stderr",
     "output_type": "stream",
     "text": [
      "epoch:  70%|█████████████████████████████████████████████████████▏                      | 7/10 [04:47<02:01, 40.65s/it]"
     ]
    },
    {
     "name": "stdout",
     "output_type": "stream",
     "text": [
      "\n",
      "Epoch 007 train_loss: 0.3470     val_loss 0.6620 train_acc 0.8839 val_acc 0.7017, learning rate 0.0003\n"
     ]
    },
    {
     "name": "stderr",
     "output_type": "stream",
     "text": [
      "epoch:  80%|████████████████████████████████████████████████████████████▊               | 8/10 [05:26<01:20, 40.05s/it]"
     ]
    },
    {
     "name": "stdout",
     "output_type": "stream",
     "text": [
      "\n",
      "Epoch 008 train_loss: 0.3111     val_loss 0.6982 train_acc 0.9037 val_acc 0.7068, learning rate 0.0003\n"
     ]
    },
    {
     "name": "stderr",
     "output_type": "stream",
     "text": [
      "epoch:  90%|████████████████████████████████████████████████████████████████████▍       | 9/10 [06:08<00:40, 40.63s/it]"
     ]
    },
    {
     "name": "stdout",
     "output_type": "stream",
     "text": [
      "\n",
      "Epoch 009 train_loss: 0.3070     val_loss 0.7386 train_acc 0.9037 val_acc 0.6985, learning rate 0.0003\n"
     ]
    },
    {
     "name": "stderr",
     "output_type": "stream",
     "text": [
      "epoch: 100%|███████████████████████████████████████████████████████████████████████████| 10/10 [06:47<00:00, 40.75s/it]"
     ]
    },
    {
     "name": "stdout",
     "output_type": "stream",
     "text": [
      "\n",
      "Epoch 010 train_loss: 0.2951     val_loss 0.6863 train_acc 0.9085 val_acc 0.7171, learning rate 0.0003\n"
     ]
    },
    {
     "name": "stderr",
     "output_type": "stream",
     "text": [
      "\n"
     ]
    }
   ],
   "source": [
    "rubert = rubert.to(device)\n",
    "graphs, trained_model = train_transformer(train_dataloader_ru, valid_dataloader_ru,\n",
    "                                                                rubert, epochs=10,\n",
    "                                                                rate=lr, criterion=bce, freeze=False)"
   ]
  },
  {
   "cell_type": "code",
   "execution_count": 349,
   "id": "bd47e7b3-ae33-4656-a6c7-1be49a708137",
   "metadata": {},
   "outputs": [
    {
     "data": {
      "image/png": "[encoded data removed]",
      "text/plain": [
       "<Figure size 1500x900 with 1 Axes>"
      ]
     },
     "metadata": {},
     "output_type": "display_data"
    },
    {
     "data": {
      "image/png": "[encoded data removed]",
      "text/plain": [
       "<Figure size 640x480 with 1 Axes>"
      ]
     },
     "metadata": {},
     "output_type": "display_data"
    },
    {
     "data": {
      "image/png": "[encoded data removed]",
      "text/plain": [
       "<Figure size 640x480 with 1 Axes>"
      ]
     },
     "metadata": {},
     "output_type": "display_data"
    }
   ],
   "source": [
    "vizualize(graphs, 'RuBert')"
   ]
  },
  {
   "cell_type": "code",
   "execution_count": 350,
   "id": "d9490b9b-e6f8-476a-ac16-835884727cd0",
   "metadata": {},
   "outputs": [],
   "source": [
    "tbert = TransformerRegrModel('rubert', 2)\n",
    "model_path = \"tiny.pt\"\n",
    "tbert.load_state_dict(torch.load(model_path, map_location=torch.device(device)))\n",
    "tbert.to(device)\n",
    "tbert.eval()\n",
    "result = predict(tbert, valid_dataloader_ru)"
   ]
  },
  {
   "cell_type": "code",
   "execution_count": 351,
   "id": "745bf452-65db-47a0-af8b-788721908323",
   "metadata": {},
   "outputs": [],
   "source": [
    "CLASSES = {'low': 0,\n",
    "           'high': 1\n",
    "}"
   ]
  },
  {
   "cell_type": "code",
   "execution_count": 352,
   "id": "39ff8762-bf8d-4545-bb61-8b388ecbe79c",
   "metadata": {},
   "outputs": [
    {
     "data": {
      "image/png": "[encoded data removed]",
      "text/plain": [
       "<Figure size 1000x1000 with 2 Axes>"
      ]
     },
     "metadata": {},
     "output_type": "display_data"
    }
   ],
   "source": [
    "conf_mx = pd.DataFrame(confusion_matrix(result[1], result[0]))\n",
    "\n",
    "fig, ax = plt.subplots(figsize=(10,10))\n",
    "ax = sns.heatmap(conf_mx, annot= True , fmt=\"d\",  cmap='YlGnBu', ax=ax)\n",
    "\n",
    "ax.set_title('Confusion Matrix');\n",
    "ax.set_xlabel('Predicted Values')\n",
    "ax.set_ylabel('Actual Values ');\n",
    "\n",
    "ax.xaxis.set_ticklabels(list(CLASSES.keys()))\n",
    "ax.yaxis.set_ticklabels(list(CLASSES.keys()))\n",
    "plt.show()"
   ]
  },
  {
   "cell_type": "code",
   "execution_count": 353,
   "id": "48c1d277-25c4-4eaa-a301-07f2880fc09d",
   "metadata": {
    "scrolled": true
   },
   "outputs": [
    {
     "data": {
      "image/png": "[encoded data removed]",
      "text/plain": [
       "<Figure size 1000x1000 with 1 Axes>"
      ]
     },
     "metadata": {},
     "output_type": "display_data"
    }
   ],
   "source": [
    "fig, ax = plt.subplots(figsize=(10,10))\n",
    "fpr = dict()\n",
    "tpr = dict()\n",
    "roc_auc = dict()\n",
    "classes = list(CLASSES.values())\n",
    "labels = list(CLASSES.keys())\n",
    "label_test = label_binarize(result[0], classes=classes)\n",
    "n_classes = label_test.shape[1]\n",
    "y_score = result[2]\n",
    "\n",
    "for i in range(n_classes):\n",
    "    fpr[i], tpr[i], _ = roc_curve(label_test[:, i], y_score[:, i])\n",
    "    roc_auc[i] = auc(fpr[i], tpr[i])\n",
    "\n",
    "for i in range(n_classes):\n",
    "    plt.plot(fpr[i], tpr[i], lw=2,\n",
    "             label='ROC curve of class {0} (area = {1:0.2f})'\n",
    "             ''.format(labels[i], roc_auc[i]))\n",
    "\n",
    "\n",
    "plt.plot([0, 1], [0, 1], 'k--', lw=2)\n",
    "plt.xlim([-0.05, 1.0])\n",
    "plt.ylim([0.0, 1.05])\n",
    "plt.xlabel('False Positive Rate')\n",
    "plt.ylabel('True Positive Rate')\n",
    "plt.title('Receiver operating characteristic for different classes')\n",
    "plt.legend(loc=\"lower right\")\n",
    "plt.show()"
   ]
  },
  {
   "cell_type": "markdown",
   "id": "c552a45d-6e83-41f9-93a6-65d83933f3f7",
   "metadata": {},
   "source": [
    "### Torch 30 эпох"
   ]
  },
  {
   "cell_type": "code",
   "execution_count": 355,
   "id": "10e86334-d4fe-4357-b65c-a49fd7fa036d",
   "metadata": {},
   "outputs": [
    {
     "name": "stderr",
     "output_type": "stream",
     "text": [
      "epoch:   3%|██▌                                                                         | 1/30 [00:15<07:29, 15.50s/it]"
     ]
    },
    {
     "name": "stdout",
     "output_type": "stream",
     "text": [
      "\n",
      "Epoch 001 train_loss: 0.2841     val_loss 0.7938 train_acc 0.9132 val_acc 0.6875, learning rate 0.0003\n"
     ]
    },
    {
     "name": "stderr",
     "output_type": "stream",
     "text": [
      "epoch:   7%|█████                                                                       | 2/30 [00:31<07:21, 15.78s/it]"
     ]
    },
    {
     "name": "stdout",
     "output_type": "stream",
     "text": [
      "save best model for 1 epoch\n",
      "\n",
      "Epoch 002 train_loss: 0.2828     val_loss 0.7934 train_acc 0.9120 val_acc 0.6881, learning rate 0.0003\n"
     ]
    },
    {
     "name": "stderr",
     "output_type": "stream",
     "text": [
      "epoch:  10%|███████▌                                                                    | 3/30 [00:47<07:14, 16.08s/it]"
     ]
    },
    {
     "name": "stdout",
     "output_type": "stream",
     "text": [
      "save best model for 2 epoch\n",
      "\n",
      "Epoch 003 train_loss: 0.2829     val_loss 0.7898 train_acc 0.9122 val_acc 0.6888, learning rate 0.0003\n"
     ]
    },
    {
     "name": "stderr",
     "output_type": "stream",
     "text": [
      "epoch:  13%|██████████▏                                                                 | 4/30 [01:03<06:53, 15.91s/it]"
     ]
    },
    {
     "name": "stdout",
     "output_type": "stream",
     "text": [
      "\n",
      "Epoch 004 train_loss: 0.2825     val_loss 0.7892 train_acc 0.9129 val_acc 0.6881, learning rate 0.0003\n"
     ]
    },
    {
     "name": "stderr",
     "output_type": "stream",
     "text": [
      "epoch:  17%|████████████▋                                                               | 5/30 [01:19<06:37, 15.89s/it]"
     ]
    },
    {
     "name": "stdout",
     "output_type": "stream",
     "text": [
      "\n",
      "Epoch 005 train_loss: 0.2821     val_loss 0.7869 train_acc 0.9145 val_acc 0.6881, learning rate 0.0003\n"
     ]
    },
    {
     "name": "stderr",
     "output_type": "stream",
     "text": [
      "epoch:  20%|███████████████▏                                                            | 6/30 [01:34<06:18, 15.76s/it]"
     ]
    },
    {
     "name": "stdout",
     "output_type": "stream",
     "text": [
      "\n",
      "Epoch 006 train_loss: 0.2828     val_loss 0.7905 train_acc 0.9122 val_acc 0.6881, learning rate 0.0003\n"
     ]
    },
    {
     "name": "stderr",
     "output_type": "stream",
     "text": [
      "epoch:  23%|█████████████████▋                                                          | 7/30 [01:50<06:03, 15.81s/it]"
     ]
    },
    {
     "name": "stdout",
     "output_type": "stream",
     "text": [
      "\n",
      "Epoch 007 train_loss: 0.2825     val_loss 0.7853 train_acc 0.9140 val_acc 0.6869, learning rate 0.0003\n"
     ]
    },
    {
     "name": "stderr",
     "output_type": "stream",
     "text": [
      "epoch:  27%|████████████████████▎                                                       | 8/30 [02:06<05:45, 15.72s/it]"
     ]
    },
    {
     "name": "stdout",
     "output_type": "stream",
     "text": [
      "\n",
      "Epoch 008 train_loss: 0.2815     val_loss 0.7880 train_acc 0.9143 val_acc 0.6862, learning rate 0.0003\n"
     ]
    },
    {
     "name": "stderr",
     "output_type": "stream",
     "text": [
      "epoch:  30%|██████████████████████▊                                                     | 9/30 [02:22<05:29, 15.71s/it]"
     ]
    },
    {
     "name": "stdout",
     "output_type": "stream",
     "text": [
      "\n",
      "Epoch 009 train_loss: 0.2805     val_loss 0.7856 train_acc 0.9156 val_acc 0.6869, learning rate 0.0003\n"
     ]
    },
    {
     "name": "stderr",
     "output_type": "stream",
     "text": [
      "epoch:  33%|█████████████████████████                                                  | 10/30 [02:37<05:12, 15.61s/it]"
     ]
    },
    {
     "name": "stdout",
     "output_type": "stream",
     "text": [
      "\n",
      "Epoch 010 train_loss: 0.2806     val_loss 0.7883 train_acc 0.9140 val_acc 0.6875, learning rate 0.0003\n"
     ]
    },
    {
     "name": "stderr",
     "output_type": "stream",
     "text": [
      "epoch:  37%|███████████████████████████▍                                               | 11/30 [02:53<04:57, 15.66s/it]"
     ]
    },
    {
     "name": "stdout",
     "output_type": "stream",
     "text": [
      "\n",
      "Epoch 011 train_loss: 0.2797     val_loss 0.7891 train_acc 0.9145 val_acc 0.6875, learning rate 0.0003\n"
     ]
    },
    {
     "name": "stderr",
     "output_type": "stream",
     "text": [
      "epoch:  40%|██████████████████████████████                                             | 12/30 [03:09<04:42, 15.72s/it]"
     ]
    },
    {
     "name": "stdout",
     "output_type": "stream",
     "text": [
      "save best model for 11 epoch\n",
      "\n",
      "Epoch 012 train_loss: 0.2800     val_loss 0.7898 train_acc 0.9140 val_acc 0.6894, learning rate 0.0003\n"
     ]
    },
    {
     "name": "stderr",
     "output_type": "stream",
     "text": [
      "epoch:  43%|████████████████████████████████▌                                          | 13/30 [03:25<04:28, 15.81s/it]"
     ]
    },
    {
     "name": "stdout",
     "output_type": "stream",
     "text": [
      "save best model for 12 epoch\n",
      "\n",
      "Epoch 013 train_loss: 0.2810     val_loss 0.7870 train_acc 0.9137 val_acc 0.6901, learning rate 0.0003\n"
     ]
    },
    {
     "name": "stderr",
     "output_type": "stream",
     "text": [
      "epoch:  47%|███████████████████████████████████                                        | 14/30 [03:41<04:15, 15.94s/it]"
     ]
    },
    {
     "name": "stdout",
     "output_type": "stream",
     "text": [
      "save best model for 13 epoch\n",
      "\n",
      "Epoch 014 train_loss: 0.2795     val_loss 0.7898 train_acc 0.9149 val_acc 0.6914, learning rate 0.0003\n"
     ]
    },
    {
     "name": "stderr",
     "output_type": "stream",
     "text": [
      "epoch:  50%|█████████████████████████████████████▌                                     | 15/30 [03:56<03:57, 15.83s/it]"
     ]
    },
    {
     "name": "stdout",
     "output_type": "stream",
     "text": [
      "\n",
      "Epoch 015 train_loss: 0.2799     val_loss 0.7843 train_acc 0.9141 val_acc 0.6914, learning rate 0.0003\n"
     ]
    },
    {
     "name": "stderr",
     "output_type": "stream",
     "text": [
      "epoch:  53%|████████████████████████████████████████                                   | 16/30 [04:12<03:42, 15.88s/it]"
     ]
    },
    {
     "name": "stdout",
     "output_type": "stream",
     "text": [
      "\n",
      "Epoch 016 train_loss: 0.2801     val_loss 0.7861 train_acc 0.9149 val_acc 0.6914, learning rate 0.0003\n"
     ]
    },
    {
     "name": "stderr",
     "output_type": "stream",
     "text": [
      "epoch:  57%|██████████████████████████████████████████▌                                | 17/30 [04:29<03:27, 15.96s/it]"
     ]
    },
    {
     "name": "stdout",
     "output_type": "stream",
     "text": [
      "save best model for 16 epoch\n",
      "\n",
      "Epoch 017 train_loss: 0.2790     val_loss 0.7863 train_acc 0.9151 val_acc 0.6920, learning rate 0.0003\n"
     ]
    },
    {
     "name": "stderr",
     "output_type": "stream",
     "text": [
      "epoch:  60%|█████████████████████████████████████████████                              | 18/30 [04:45<03:12, 16.08s/it]"
     ]
    },
    {
     "name": "stdout",
     "output_type": "stream",
     "text": [
      "\n",
      "Epoch 018 train_loss: 0.2784     val_loss 0.7867 train_acc 0.9148 val_acc 0.6920, learning rate 0.0003\n"
     ]
    },
    {
     "name": "stderr",
     "output_type": "stream",
     "text": [
      "epoch:  63%|███████████████████████████████████████████████▌                           | 19/30 [05:00<02:54, 15.89s/it]"
     ]
    },
    {
     "name": "stdout",
     "output_type": "stream",
     "text": [
      "\n",
      "Epoch 019 train_loss: 0.2777     val_loss 0.7886 train_acc 0.9166 val_acc 0.6920, learning rate 0.0003\n"
     ]
    },
    {
     "name": "stderr",
     "output_type": "stream",
     "text": [
      "epoch:  67%|██████████████████████████████████████████████████                         | 20/30 [05:17<02:39, 15.98s/it]"
     ]
    },
    {
     "name": "stdout",
     "output_type": "stream",
     "text": [
      "save best model for 19 epoch\n",
      "\n",
      "Epoch 020 train_loss: 0.2794     val_loss 0.7904 train_acc 0.9145 val_acc 0.6927, learning rate 0.0003\n"
     ]
    },
    {
     "name": "stderr",
     "output_type": "stream",
     "text": [
      "epoch:  70%|████████████████████████████████████████████████████▌                      | 21/30 [05:32<02:23, 15.90s/it]"
     ]
    },
    {
     "name": "stdout",
     "output_type": "stream",
     "text": [
      "\n",
      "Epoch 021 train_loss: 0.2791     val_loss 0.7921 train_acc 0.9143 val_acc 0.6927, learning rate 0.0003\n"
     ]
    },
    {
     "name": "stderr",
     "output_type": "stream",
     "text": [
      "epoch:  73%|██████████████████████████████████████████████████████▉                    | 22/30 [05:48<02:06, 15.86s/it]"
     ]
    },
    {
     "name": "stdout",
     "output_type": "stream",
     "text": [
      "\n",
      "Epoch 022 train_loss: 0.2790     val_loss 0.7863 train_acc 0.9146 val_acc 0.6920, learning rate 0.0003\n"
     ]
    },
    {
     "name": "stderr",
     "output_type": "stream",
     "text": [
      "epoch:  77%|█████████████████████████████████████████████████████████▌                 | 23/30 [06:04<01:50, 15.82s/it]"
     ]
    },
    {
     "name": "stdout",
     "output_type": "stream",
     "text": [
      "\n",
      "Epoch 023 train_loss: 0.2781     val_loss 0.7891 train_acc 0.9149 val_acc 0.6927, learning rate 0.0003\n"
     ]
    },
    {
     "name": "stderr",
     "output_type": "stream",
     "text": [
      "epoch:  80%|████████████████████████████████████████████████████████████               | 24/30 [06:20<01:34, 15.82s/it]"
     ]
    },
    {
     "name": "stdout",
     "output_type": "stream",
     "text": [
      "save best model for 23 epoch\n",
      "\n",
      "Epoch 024 train_loss: 0.2770     val_loss 0.7867 train_acc 0.9158 val_acc 0.6939, learning rate 0.0003\n"
     ]
    },
    {
     "name": "stderr",
     "output_type": "stream",
     "text": [
      "epoch:  83%|██████████████████████████████████████████████████████████████▌            | 25/30 [06:35<01:18, 15.74s/it]"
     ]
    },
    {
     "name": "stdout",
     "output_type": "stream",
     "text": [
      "\n",
      "Epoch 025 train_loss: 0.2779     val_loss 0.7841 train_acc 0.9154 val_acc 0.6927, learning rate 5.9999999999999995e-05\n"
     ]
    },
    {
     "name": "stderr",
     "output_type": "stream",
     "text": [
      "epoch:  87%|█████████████████████████████████████████████████████████████████          | 26/30 [06:51<01:02, 15.73s/it]"
     ]
    },
    {
     "name": "stdout",
     "output_type": "stream",
     "text": [
      "\n",
      "Epoch 026 train_loss: 0.2772     val_loss 0.7846 train_acc 0.9151 val_acc 0.6927, learning rate 5.9999999999999995e-05\n"
     ]
    },
    {
     "name": "stderr",
     "output_type": "stream",
     "text": [
      "epoch:  90%|███████████████████████████████████████████████████████████████████▌       | 27/30 [07:07<00:47, 15.76s/it]"
     ]
    },
    {
     "name": "stdout",
     "output_type": "stream",
     "text": [
      "\n",
      "Epoch 027 train_loss: 0.2773     val_loss 0.7846 train_acc 0.9153 val_acc 0.6927, learning rate 5.9999999999999995e-05\n"
     ]
    },
    {
     "name": "stderr",
     "output_type": "stream",
     "text": [
      "epoch:  93%|██████████████████████████████████████████████████████████████████████     | 28/30 [07:22<00:31, 15.72s/it]"
     ]
    },
    {
     "name": "stdout",
     "output_type": "stream",
     "text": [
      "\n",
      "Epoch 028 train_loss: 0.2783     val_loss 0.7848 train_acc 0.9154 val_acc 0.6927, learning rate 5.9999999999999995e-05\n"
     ]
    },
    {
     "name": "stderr",
     "output_type": "stream",
     "text": [
      "epoch:  97%|████████████████████████████████████████████████████████████████████████▌  | 29/30 [07:38<00:15, 15.65s/it]"
     ]
    },
    {
     "name": "stdout",
     "output_type": "stream",
     "text": [
      "\n",
      "Epoch 029 train_loss: 0.2773     val_loss 0.7857 train_acc 0.9164 val_acc 0.6927, learning rate 5.9999999999999995e-05\n"
     ]
    },
    {
     "name": "stderr",
     "output_type": "stream",
     "text": [
      "epoch: 100%|███████████████████████████████████████████████████████████████████████████| 30/30 [07:54<00:00, 15.80s/it]"
     ]
    },
    {
     "name": "stdout",
     "output_type": "stream",
     "text": [
      "\n",
      "Epoch 030 train_loss: 0.2785     val_loss 0.7858 train_acc 0.9156 val_acc 0.6933, learning rate 5.9999999999999995e-05\n"
     ]
    },
    {
     "name": "stderr",
     "output_type": "stream",
     "text": [
      "\n"
     ]
    }
   ],
   "source": [
    "rubert = rubert.to(device)\n",
    "graphs, trained_model = train_transformer(train_dataloader_ru, valid_dataloader_ru,\n",
    "                                                                rubert, epochs=30,\n",
    "                                                                rate=lr, criterion=bce, freeze=False)"
   ]
  },
  {
   "cell_type": "code",
   "execution_count": 356,
   "id": "4c9e303d-31d5-468c-80f5-e3472f98961b",
   "metadata": {},
   "outputs": [
    {
     "data": {
      "image/png": "[encoded data removed]",
      "text/plain": [
       "<Figure size 1500x900 with 1 Axes>"
      ]
     },
     "metadata": {},
     "output_type": "display_data"
    },
    {
     "data": {
      "image/png": "[encoded data removed]",
      "text/plain": [
       "<Figure size 640x480 with 1 Axes>"
      ]
     },
     "metadata": {},
     "output_type": "display_data"
    },
    {
     "data": {
      "image/png": "[encoded data removed]",
      "text/plain": [
       "<Figure size 640x480 with 1 Axes>"
      ]
     },
     "metadata": {},
     "output_type": "display_data"
    }
   ],
   "source": [
    "vizualize(graphs, 'RuBert')"
   ]
  },
  {
   "cell_type": "code",
   "execution_count": 357,
   "id": "70f188d9-7e81-40dc-b950-58c777406fa1",
   "metadata": {},
   "outputs": [],
   "source": [
    "tbert = TransformerRegrModel('rubert', 2)\n",
    "model_path = \"tiny.pt\"\n",
    "tbert.load_state_dict(torch.load(model_path, map_location=torch.device(device)))\n",
    "tbert.to(device)\n",
    "tbert.eval()\n",
    "result = predict(tbert, valid_dataloader_ru)"
   ]
  },
  {
   "cell_type": "code",
   "execution_count": null,
   "id": "261dbb29-da6a-4228-904b-1cb8f41376fd",
   "metadata": {},
   "outputs": [],
   "source": []
  },
  {
   "cell_type": "code",
   "execution_count": 375,
   "id": "71f9eb24-ec03-41d5-afbc-dc99b3224f43",
   "metadata": {},
   "outputs": [
    {
     "data": {
      "text/plain": [
       "1552"
      ]
     },
     "execution_count": 375,
     "metadata": {},
     "output_type": "execute_result"
    }
   ],
   "source": [
    "len(result[1])"
   ]
  },
  {
   "cell_type": "code",
   "execution_count": 358,
   "id": "3542a1b0-5e86-4550-adf7-8becb7967410",
   "metadata": {},
   "outputs": [],
   "source": [
    "CLASSES = {'low': 0,\n",
    "           'high': 1\n",
    "}"
   ]
  },
  {
   "cell_type": "code",
   "execution_count": 359,
   "id": "1ddd2583-ad64-4b69-b738-f982a0bd3757",
   "metadata": {},
   "outputs": [
    {
     "data": {
      "image/png": "[encoded data removed]",
      "text/plain": [
       "<Figure size 1000x1000 with 2 Axes>"
      ]
     },
     "metadata": {},
     "output_type": "display_data"
    }
   ],
   "source": [
    "conf_mx = pd.DataFrame(confusion_matrix(result[1], result[0]))\n",
    "\n",
    "fig, ax = plt.subplots(figsize=(10,10))\n",
    "ax = sns.heatmap(conf_mx, annot= True , fmt=\"d\",  cmap='YlGnBu', ax=ax)\n",
    "\n",
    "ax.set_title('Confusion Matrix');\n",
    "ax.set_xlabel('Predicted Values')\n",
    "ax.set_ylabel('Actual Values ');\n",
    "\n",
    "ax.xaxis.set_ticklabels(list(CLASSES.keys()))\n",
    "ax.yaxis.set_ticklabels(list(CLASSES.keys()))\n",
    "plt.show()"
   ]
  },
  {
   "cell_type": "code",
   "execution_count": 360,
   "id": "a0af53e8-6bea-4854-8e6d-4488d8086144",
   "metadata": {
    "scrolled": true
   },
   "outputs": [
    {
     "data": {
      "image/png": "[encoded data removed]",
      "text/plain": [
       "<Figure size 1000x1000 with 1 Axes>"
      ]
     },
     "metadata": {},
     "output_type": "display_data"
    }
   ],
   "source": [
    "fig, ax = plt.subplots(figsize=(10,10))\n",
    "fpr = dict()\n",
    "tpr = dict()\n",
    "roc_auc = dict()\n",
    "classes = list(CLASSES.values())\n",
    "labels = list(CLASSES.keys())\n",
    "label_test = label_binarize(result[0], classes=classes)\n",
    "n_classes = label_test.shape[1]\n",
    "y_score = result[2]\n",
    "\n",
    "for i in range(n_classes):\n",
    "    fpr[i], tpr[i], _ = roc_curve(label_test[:, i], y_score[:, i])\n",
    "    roc_auc[i] = auc(fpr[i], tpr[i])\n",
    "\n",
    "for i in range(n_classes):\n",
    "    plt.plot(fpr[i], tpr[i], lw=2,\n",
    "             label='ROC curve of class {0} (area = {1:0.2f})'\n",
    "             ''.format(labels[i], roc_auc[i]))\n",
    "\n",
    "\n",
    "plt.plot([0, 1], [0, 1], 'k--', lw=2)\n",
    "plt.xlim([-0.05, 1.0])\n",
    "plt.ylim([0.0, 1.05])\n",
    "plt.xlabel('False Positive Rate')\n",
    "plt.ylabel('True Positive Rate')\n",
    "plt.title('Receiver operating characteristic for different classes')\n",
    "plt.legend(loc=\"lower right\")\n",
    "plt.show()"
   ]
  },
  {
   "cell_type": "code",
   "execution_count": 369,
   "id": "10d1a2fb-9686-4a2c-b465-9e7309a77fc3",
   "metadata": {},
   "outputs": [
    {
     "data": {
      "text/plain": [
       "tensor([[-1.3003,  1.1920],\n",
       "        [ 1.1854, -1.3319],\n",
       "        [-1.3126,  1.2045],\n",
       "        [-1.3021,  1.1942],\n",
       "        [-1.3003,  1.1920],\n",
       "        [ 1.1922, -1.3393],\n",
       "        [ 1.1862, -1.3338],\n",
       "        [-1.3112,  1.2033],\n",
       "        [ 1.1892, -1.3374],\n",
       "        [-1.2944,  1.1871],\n",
       "        [-1.3060,  1.1984],\n",
       "        [ 1.1914, -1.3367],\n",
       "        [ 1.1945, -1.3335],\n",
       "        [ 1.1870, -1.3333],\n",
       "        [ 1.2009, -1.3465],\n",
       "        [ 1.1848, -1.3318],\n",
       "        [-1.3129,  1.2051],\n",
       "        [ 1.1858, -1.3322],\n",
       "        [ 1.2125, -1.3567],\n",
       "        [-1.3046,  1.1972],\n",
       "        [ 1.1966, -1.3430],\n",
       "        [ 1.1922, -1.3375],\n",
       "        [-1.3130,  1.2050],\n",
       "        [-1.3145,  1.2065],\n",
       "        [ 0.2398, -0.3736],\n",
       "        [-1.3102,  1.2022],\n",
       "        [ 1.1882, -1.3347],\n",
       "        [ 1.1865, -1.3328],\n",
       "        [ 1.1846, -1.3311],\n",
       "        [ 1.1991, -1.3455],\n",
       "        [ 1.1865, -1.3331],\n",
       "        [-1.3050,  1.1967],\n",
       "        [ 1.1839, -1.3301],\n",
       "        [-1.3116,  1.2036],\n",
       "        [ 1.1921, -1.3384],\n",
       "        [-1.3076,  1.1995],\n",
       "        [ 1.1886, -1.3351],\n",
       "        [ 1.1877, -1.3349],\n",
       "        [-1.3132,  1.2053],\n",
       "        [-1.3135,  1.2055],\n",
       "        [ 1.1902, -1.3361],\n",
       "        [ 1.1922, -1.3372],\n",
       "        [-1.3125,  1.2052],\n",
       "        [ 1.1929, -1.3381],\n",
       "        [ 1.1919, -1.3374],\n",
       "        [ 1.1931, -1.3381],\n",
       "        [-1.3162,  1.2083],\n",
       "        [ 1.1883, -1.3345],\n",
       "        [ 1.1866, -1.3332],\n",
       "        [ 1.1901, -1.3358],\n",
       "        [ 1.2177, -1.3593],\n",
       "        [ 1.1906, -1.3372],\n",
       "        [ 1.1951, -1.3404],\n",
       "        [-1.3103,  1.2027],\n",
       "        [ 1.2016, -1.3462],\n",
       "        [-1.3114,  1.2034],\n",
       "        [-1.2921,  1.1851],\n",
       "        [-1.3136,  1.2057],\n",
       "        [-1.3112,  1.2042],\n",
       "        [ 1.1922, -1.3373],\n",
       "        [ 1.2042, -1.3491],\n",
       "        [ 1.1903, -1.3361],\n",
       "        [ 1.1906, -1.3373],\n",
       "        [ 0.2230, -0.3534],\n",
       "        [ 1.1963, -1.3416],\n",
       "        [-1.3112,  1.2031],\n",
       "        [-1.3116,  1.2036],\n",
       "        [ 1.1925, -1.3383],\n",
       "        [ 1.1866, -1.3332],\n",
       "        [-1.3060,  1.1981],\n",
       "        [ 1.1919, -1.3383],\n",
       "        [ 1.1935, -1.3403],\n",
       "        [ 1.1868, -1.3333],\n",
       "        [-1.3050,  1.1978],\n",
       "        [ 1.2060, -1.3499],\n",
       "        [-1.3086,  1.2005],\n",
       "        [ 1.1942, -1.3401],\n",
       "        [ 1.1970, -1.3423],\n",
       "        [ 1.1882, -1.3362],\n",
       "        [-1.2967,  1.1890],\n",
       "        [ 1.1922, -1.3364],\n",
       "        [ 1.1876, -1.3336],\n",
       "        [-1.3161,  1.2081],\n",
       "        [-1.3141,  1.2062],\n",
       "        [ 1.1882, -1.3342],\n",
       "        [-1.3075,  1.1995],\n",
       "        [ 0.2462, -0.3531],\n",
       "        [ 1.1852, -1.3316],\n",
       "        [-1.3099,  1.2023],\n",
       "        [ 1.1901, -1.3368],\n",
       "        [-1.3114,  1.2035],\n",
       "        [-1.3062,  1.1982],\n",
       "        [ 1.1874, -1.3340],\n",
       "        [-1.3143,  1.2064],\n",
       "        [-1.3166,  1.2086],\n",
       "        [-1.2875,  1.1794],\n",
       "        [-1.3068,  1.1991],\n",
       "        [ 1.2021, -1.3465],\n",
       "        [-1.3058,  1.1978],\n",
       "        [-1.3034,  1.1955]], grad_fn=<AddmmBackward0>)"
      ]
     },
     "execution_count": 369,
     "metadata": {},
     "output_type": "execute_result"
    }
   ],
   "source": [
    "txts, labels = next(iter(train_dataloader_ru))\n",
    "rubert.to(device)\n",
    "rubert.eval()\n",
    "res, tokens, attentions = rubert(txts[0])\n",
    "res"
   ]
  },
  {
   "cell_type": "markdown",
   "id": "c6f24fe7-fa5f-4384-952e-4bd41f5a246d",
   "metadata": {},
   "source": [
    "### Torch 30 эпох freeze"
   ]
  },
  {
   "cell_type": "code",
   "execution_count": 376,
   "id": "1df0b03e-1b2e-4787-b804-5a11f13a3f87",
   "metadata": {},
   "outputs": [
    {
     "name": "stderr",
     "output_type": "stream",
     "text": [
      "epoch:   3%|██▌                                                                         | 1/30 [00:15<07:32, 15.61s/it]"
     ]
    },
    {
     "name": "stdout",
     "output_type": "stream",
     "text": [
      "\n",
      "Epoch 001 train_loss: 0.2772     val_loss 0.7878 train_acc 0.9151 val_acc 0.6927, learning rate 0.0003\n"
     ]
    },
    {
     "name": "stderr",
     "output_type": "stream",
     "text": [
      "epoch:   7%|█████                                                                       | 2/30 [00:32<07:30, 16.11s/it]"
     ]
    },
    {
     "name": "stdout",
     "output_type": "stream",
     "text": [
      "save best model for 1 epoch\n",
      "\n",
      "Epoch 002 train_loss: 0.2769     val_loss 0.7893 train_acc 0.9162 val_acc 0.6933, learning rate 0.0003\n"
     ]
    },
    {
     "name": "stderr",
     "output_type": "stream",
     "text": [
      "epoch:  10%|███████▌                                                                    | 3/30 [00:48<07:19, 16.26s/it]"
     ]
    },
    {
     "name": "stdout",
     "output_type": "stream",
     "text": [
      "\n",
      "Epoch 003 train_loss: 0.2771     val_loss 0.7887 train_acc 0.9164 val_acc 0.6933, learning rate 0.0003\n"
     ]
    },
    {
     "name": "stderr",
     "output_type": "stream",
     "text": [
      "epoch:  13%|██████████▏                                                                 | 4/30 [01:04<07:02, 16.24s/it]"
     ]
    },
    {
     "name": "stdout",
     "output_type": "stream",
     "text": [
      "\n",
      "Epoch 004 train_loss: 0.2787     val_loss 0.7841 train_acc 0.9153 val_acc 0.6927, learning rate 0.0003\n"
     ]
    },
    {
     "name": "stderr",
     "output_type": "stream",
     "text": [
      "epoch:  17%|████████████▋                                                               | 5/30 [01:21<06:49, 16.39s/it]"
     ]
    },
    {
     "name": "stdout",
     "output_type": "stream",
     "text": [
      "save best model for 4 epoch\n",
      "\n",
      "Epoch 005 train_loss: 0.2778     val_loss 0.7850 train_acc 0.9161 val_acc 0.6939, learning rate 0.0003\n"
     ]
    },
    {
     "name": "stderr",
     "output_type": "stream",
     "text": [
      "epoch:  20%|███████████████▏                                                            | 6/30 [01:37<06:32, 16.37s/it]"
     ]
    },
    {
     "name": "stdout",
     "output_type": "stream",
     "text": [
      "\n",
      "Epoch 006 train_loss: 0.2767     val_loss 0.7877 train_acc 0.9154 val_acc 0.6933, learning rate 0.0003\n"
     ]
    },
    {
     "name": "stderr",
     "output_type": "stream",
     "text": [
      "epoch:  23%|█████████████████▋                                                          | 7/30 [01:54<06:22, 16.62s/it]"
     ]
    },
    {
     "name": "stdout",
     "output_type": "stream",
     "text": [
      "\n",
      "Epoch 007 train_loss: 0.2770     val_loss 0.7878 train_acc 0.9161 val_acc 0.6933, learning rate 0.0003\n"
     ]
    },
    {
     "name": "stderr",
     "output_type": "stream",
     "text": [
      "epoch:  27%|████████████████████▎                                                       | 8/30 [02:12<06:12, 16.91s/it]"
     ]
    },
    {
     "name": "stdout",
     "output_type": "stream",
     "text": [
      "\n",
      "Epoch 008 train_loss: 0.2769     val_loss 0.7844 train_acc 0.9166 val_acc 0.6939, learning rate 0.0003\n"
     ]
    },
    {
     "name": "stderr",
     "output_type": "stream",
     "text": [
      "epoch:  30%|██████████████████████▊                                                     | 9/30 [02:29<05:53, 16.85s/it]"
     ]
    },
    {
     "name": "stdout",
     "output_type": "stream",
     "text": [
      "\n",
      "Epoch 009 train_loss: 0.2773     val_loss 0.7854 train_acc 0.9162 val_acc 0.6933, learning rate 0.0003\n"
     ]
    },
    {
     "name": "stderr",
     "output_type": "stream",
     "text": [
      "epoch:  33%|█████████████████████████                                                  | 10/30 [02:44<05:30, 16.50s/it]"
     ]
    },
    {
     "name": "stdout",
     "output_type": "stream",
     "text": [
      "\n",
      "Epoch 010 train_loss: 0.2767     val_loss 0.7818 train_acc 0.9149 val_acc 0.6933, learning rate 0.0003\n"
     ]
    },
    {
     "name": "stderr",
     "output_type": "stream",
     "text": [
      "epoch:  37%|███████████████████████████▍                                               | 11/30 [03:01<05:14, 16.54s/it]"
     ]
    },
    {
     "name": "stdout",
     "output_type": "stream",
     "text": [
      "\n",
      "Epoch 011 train_loss: 0.2760     val_loss 0.7839 train_acc 0.9166 val_acc 0.6933, learning rate 0.0003\n"
     ]
    },
    {
     "name": "stderr",
     "output_type": "stream",
     "text": [
      "epoch:  40%|██████████████████████████████                                             | 12/30 [03:16<04:52, 16.24s/it]"
     ]
    },
    {
     "name": "stdout",
     "output_type": "stream",
     "text": [
      "\n",
      "Epoch 012 train_loss: 0.2766     val_loss 0.7840 train_acc 0.9167 val_acc 0.6933, learning rate 0.0003\n"
     ]
    },
    {
     "name": "stderr",
     "output_type": "stream",
     "text": [
      "epoch:  43%|████████████████████████████████▌                                          | 13/30 [03:33<04:39, 16.41s/it]"
     ]
    },
    {
     "name": "stdout",
     "output_type": "stream",
     "text": [
      "\n",
      "Epoch 013 train_loss: 0.2764     val_loss 0.7858 train_acc 0.9164 val_acc 0.6933, learning rate 0.0003\n"
     ]
    },
    {
     "name": "stderr",
     "output_type": "stream",
     "text": [
      "epoch:  47%|███████████████████████████████████                                        | 14/30 [03:50<04:24, 16.55s/it]"
     ]
    },
    {
     "name": "stdout",
     "output_type": "stream",
     "text": [
      "\n",
      "Epoch 014 train_loss: 0.2765     val_loss 0.7896 train_acc 0.9162 val_acc 0.6933, learning rate 0.0003\n"
     ]
    },
    {
     "name": "stderr",
     "output_type": "stream",
     "text": [
      "epoch:  50%|█████████████████████████████████████▌                                     | 15/30 [04:06<04:05, 16.39s/it]"
     ]
    },
    {
     "name": "stdout",
     "output_type": "stream",
     "text": [
      "\n",
      "Epoch 015 train_loss: 0.2755     val_loss 0.7872 train_acc 0.9174 val_acc 0.6933, learning rate 0.0003\n"
     ]
    },
    {
     "name": "stderr",
     "output_type": "stream",
     "text": [
      "epoch:  53%|████████████████████████████████████████                                   | 16/30 [04:24<03:55, 16.84s/it]"
     ]
    },
    {
     "name": "stdout",
     "output_type": "stream",
     "text": [
      "\n",
      "Epoch 016 train_loss: 0.2753     val_loss 0.7875 train_acc 0.9159 val_acc 0.6933, learning rate 0.0003\n"
     ]
    },
    {
     "name": "stderr",
     "output_type": "stream",
     "text": [
      "epoch:  57%|██████████████████████████████████████████▌                                | 17/30 [04:41<03:39, 16.86s/it]"
     ]
    },
    {
     "name": "stdout",
     "output_type": "stream",
     "text": [
      "\n",
      "Epoch 017 train_loss: 0.2762     val_loss 0.7855 train_acc 0.9162 val_acc 0.6933, learning rate 0.0003\n"
     ]
    },
    {
     "name": "stderr",
     "output_type": "stream",
     "text": [
      "epoch:  60%|█████████████████████████████████████████████                              | 18/30 [04:57<03:18, 16.57s/it]"
     ]
    },
    {
     "name": "stdout",
     "output_type": "stream",
     "text": [
      "\n",
      "Epoch 018 train_loss: 0.2770     val_loss 0.7871 train_acc 0.9164 val_acc 0.6933, learning rate 0.0003\n"
     ]
    },
    {
     "name": "stderr",
     "output_type": "stream",
     "text": [
      "epoch:  63%|███████████████████████████████████████████████▌                           | 19/30 [05:13<02:59, 16.30s/it]"
     ]
    },
    {
     "name": "stdout",
     "output_type": "stream",
     "text": [
      "\n",
      "Epoch 019 train_loss: 0.2752     val_loss 0.7868 train_acc 0.9172 val_acc 0.6920, learning rate 0.0003\n"
     ]
    },
    {
     "name": "stderr",
     "output_type": "stream",
     "text": [
      "epoch:  67%|██████████████████████████████████████████████████                         | 20/30 [05:28<02:40, 16.06s/it]"
     ]
    },
    {
     "name": "stdout",
     "output_type": "stream",
     "text": [
      "\n",
      "Epoch 020 train_loss: 0.2749     val_loss 0.7863 train_acc 0.9170 val_acc 0.6920, learning rate 0.0003\n"
     ]
    },
    {
     "name": "stderr",
     "output_type": "stream",
     "text": [
      "epoch:  70%|████████████████████████████████████████████████████▌                      | 21/30 [05:44<02:24, 16.05s/it]"
     ]
    },
    {
     "name": "stdout",
     "output_type": "stream",
     "text": [
      "\n",
      "Epoch 021 train_loss: 0.2764     val_loss 0.7863 train_acc 0.9162 val_acc 0.6933, learning rate 0.0003\n"
     ]
    },
    {
     "name": "stderr",
     "output_type": "stream",
     "text": [
      "epoch:  73%|██████████████████████████████████████████████████████▉                    | 22/30 [06:00<02:08, 16.11s/it]"
     ]
    },
    {
     "name": "stdout",
     "output_type": "stream",
     "text": [
      "\n",
      "Epoch 022 train_loss: 0.2755     val_loss 0.7870 train_acc 0.9169 val_acc 0.6927, learning rate 0.0003\n"
     ]
    },
    {
     "name": "stderr",
     "output_type": "stream",
     "text": [
      "epoch:  77%|█████████████████████████████████████████████████████████▌                 | 23/30 [06:16<01:51, 15.96s/it]"
     ]
    },
    {
     "name": "stdout",
     "output_type": "stream",
     "text": [
      "\n",
      "Epoch 023 train_loss: 0.2752     val_loss 0.7877 train_acc 0.9164 val_acc 0.6927, learning rate 0.0003\n"
     ]
    },
    {
     "name": "stderr",
     "output_type": "stream",
     "text": [
      "epoch:  80%|████████████████████████████████████████████████████████████               | 24/30 [06:31<01:35, 15.84s/it]"
     ]
    },
    {
     "name": "stdout",
     "output_type": "stream",
     "text": [
      "\n",
      "Epoch 024 train_loss: 0.2753     val_loss 0.7857 train_acc 0.9159 val_acc 0.6939, learning rate 0.0003\n"
     ]
    },
    {
     "name": "stderr",
     "output_type": "stream",
     "text": [
      "epoch:  83%|██████████████████████████████████████████████████████████████▌            | 25/30 [06:47<01:18, 15.78s/it]"
     ]
    },
    {
     "name": "stdout",
     "output_type": "stream",
     "text": [
      "\n",
      "Epoch 025 train_loss: 0.2763     val_loss 0.7894 train_acc 0.9167 val_acc 0.6939, learning rate 5.9999999999999995e-05\n"
     ]
    },
    {
     "name": "stderr",
     "output_type": "stream",
     "text": [
      "epoch:  87%|█████████████████████████████████████████████████████████████████          | 26/30 [07:04<01:03, 15.99s/it]"
     ]
    },
    {
     "name": "stdout",
     "output_type": "stream",
     "text": [
      "save best model for 25 epoch\n",
      "\n",
      "Epoch 026 train_loss: 0.2764     val_loss 0.7893 train_acc 0.9162 val_acc 0.6946, learning rate 5.9999999999999995e-05\n"
     ]
    },
    {
     "name": "stderr",
     "output_type": "stream",
     "text": [
      "epoch:  90%|███████████████████████████████████████████████████████████████████▌       | 27/30 [07:19<00:47, 15.85s/it]"
     ]
    },
    {
     "name": "stdout",
     "output_type": "stream",
     "text": [
      "\n",
      "Epoch 027 train_loss: 0.2754     val_loss 0.7888 train_acc 0.9156 val_acc 0.6946, learning rate 5.9999999999999995e-05\n"
     ]
    },
    {
     "name": "stderr",
     "output_type": "stream",
     "text": [
      "epoch:  93%|██████████████████████████████████████████████████████████████████████     | 28/30 [07:35<00:31, 15.73s/it]"
     ]
    },
    {
     "name": "stdout",
     "output_type": "stream",
     "text": [
      "\n",
      "Epoch 028 train_loss: 0.2737     val_loss 0.7896 train_acc 0.9177 val_acc 0.6946, learning rate 5.9999999999999995e-05\n"
     ]
    },
    {
     "name": "stderr",
     "output_type": "stream",
     "text": [
      "epoch:  97%|████████████████████████████████████████████████████████████████████████▌  | 29/30 [07:50<00:15, 15.68s/it]"
     ]
    },
    {
     "name": "stdout",
     "output_type": "stream",
     "text": [
      "\n",
      "Epoch 029 train_loss: 0.2744     val_loss 0.7897 train_acc 0.9166 val_acc 0.6946, learning rate 5.9999999999999995e-05\n"
     ]
    },
    {
     "name": "stderr",
     "output_type": "stream",
     "text": [
      "epoch: 100%|███████████████████████████████████████████████████████████████████████████| 30/30 [08:06<00:00, 16.21s/it]"
     ]
    },
    {
     "name": "stdout",
     "output_type": "stream",
     "text": [
      "\n",
      "Epoch 030 train_loss: 0.2758     val_loss 0.7890 train_acc 0.9169 val_acc 0.6939, learning rate 5.9999999999999995e-05\n"
     ]
    },
    {
     "name": "stderr",
     "output_type": "stream",
     "text": [
      "\n"
     ]
    }
   ],
   "source": [
    "rubert = rubert.to(device)\n",
    "graphs, trained_model = train_transformer(train_dataloader_ru, valid_dataloader_ru,\n",
    "                                                                rubert, epochs=30,\n",
    "                                                                rate=lr, criterion=bce, freeze=True)"
   ]
  },
  {
   "cell_type": "markdown",
   "id": "1edc5864-f9e2-4c71-aa23-42b5b7aa92e1",
   "metadata": {},
   "source": [
    "### Torch 100 эпох"
   ]
  },
  {
   "cell_type": "code",
   "execution_count": 377,
   "id": "e7c9a5ff-3b2d-4659-89c6-a3448c55df44",
   "metadata": {},
   "outputs": [
    {
     "name": "stderr",
     "output_type": "stream",
     "text": [
      "epoch:   1%|▊                                                                          | 1/100 [00:16<27:41, 16.79s/it]"
     ]
    },
    {
     "name": "stdout",
     "output_type": "stream",
     "text": [
      "\n",
      "Epoch 001 train_loss: 0.2756     val_loss 0.7851 train_acc 0.9172 val_acc 0.6933, learning rate 0.0003\n"
     ]
    },
    {
     "name": "stderr",
     "output_type": "stream",
     "text": [
      "epoch:   2%|█▌                                                                         | 2/100 [00:33<26:55, 16.48s/it]"
     ]
    },
    {
     "name": "stdout",
     "output_type": "stream",
     "text": [
      "save best model for 1 epoch\n",
      "\n",
      "Epoch 002 train_loss: 0.2737     val_loss 0.7864 train_acc 0.9174 val_acc 0.6933, learning rate 0.0003\n"
     ]
    },
    {
     "name": "stderr",
     "output_type": "stream",
     "text": [
      "epoch:   3%|██▎                                                                        | 3/100 [00:49<26:33, 16.43s/it]"
     ]
    },
    {
     "name": "stdout",
     "output_type": "stream",
     "text": [
      "\n",
      "Epoch 003 train_loss: 0.2743     val_loss 0.7858 train_acc 0.9177 val_acc 0.6933, learning rate 0.0003\n"
     ]
    },
    {
     "name": "stderr",
     "output_type": "stream",
     "text": [
      "epoch:   4%|███                                                                        | 4/100 [01:05<25:47, 16.12s/it]"
     ]
    },
    {
     "name": "stdout",
     "output_type": "stream",
     "text": [
      "\n",
      "Epoch 004 train_loss: 0.2750     val_loss 0.7871 train_acc 0.9172 val_acc 0.6933, learning rate 0.0003\n"
     ]
    },
    {
     "name": "stderr",
     "output_type": "stream",
     "text": [
      "epoch:   5%|███▊                                                                       | 5/100 [01:20<25:11, 15.91s/it]"
     ]
    },
    {
     "name": "stdout",
     "output_type": "stream",
     "text": [
      "\n",
      "Epoch 005 train_loss: 0.2751     val_loss 0.7887 train_acc 0.9172 val_acc 0.6933, learning rate 0.0003\n"
     ]
    },
    {
     "name": "stderr",
     "output_type": "stream",
     "text": [
      "epoch:   6%|████▌                                                                      | 6/100 [01:36<25:04, 16.01s/it]"
     ]
    },
    {
     "name": "stdout",
     "output_type": "stream",
     "text": [
      "save best model for 5 epoch\n",
      "\n",
      "Epoch 006 train_loss: 0.2748     val_loss 0.7857 train_acc 0.9170 val_acc 0.6939, learning rate 0.0003\n"
     ]
    },
    {
     "name": "stderr",
     "output_type": "stream",
     "text": [
      "epoch:   7%|█████▎                                                                     | 7/100 [01:52<24:37, 15.89s/it]"
     ]
    },
    {
     "name": "stdout",
     "output_type": "stream",
     "text": [
      "\n",
      "Epoch 007 train_loss: 0.2763     val_loss 0.7866 train_acc 0.9170 val_acc 0.6939, learning rate 0.0003\n"
     ]
    },
    {
     "name": "stderr",
     "output_type": "stream",
     "text": [
      "epoch:   8%|██████                                                                     | 8/100 [02:08<24:17, 15.84s/it]"
     ]
    },
    {
     "name": "stdout",
     "output_type": "stream",
     "text": [
      "\n",
      "Epoch 008 train_loss: 0.2759     val_loss 0.7872 train_acc 0.9164 val_acc 0.6939, learning rate 0.0003\n"
     ]
    },
    {
     "name": "stderr",
     "output_type": "stream",
     "text": [
      "epoch:   9%|██████▊                                                                    | 9/100 [02:24<24:02, 15.85s/it]"
     ]
    },
    {
     "name": "stdout",
     "output_type": "stream",
     "text": [
      "save best model for 8 epoch\n",
      "\n",
      "Epoch 009 train_loss: 0.2756     val_loss 0.7876 train_acc 0.9172 val_acc 0.6946, learning rate 0.0003\n"
     ]
    },
    {
     "name": "stderr",
     "output_type": "stream",
     "text": [
      "epoch:  10%|███████▍                                                                  | 10/100 [02:40<24:01, 16.02s/it]"
     ]
    },
    {
     "name": "stdout",
     "output_type": "stream",
     "text": [
      "save best model for 9 epoch\n",
      "\n",
      "Epoch 010 train_loss: 0.2753     val_loss 0.7884 train_acc 0.9159 val_acc 0.6952, learning rate 0.0003\n"
     ]
    },
    {
     "name": "stderr",
     "output_type": "stream",
     "text": [
      "epoch:  11%|████████▏                                                                 | 11/100 [02:56<23:37, 15.92s/it]"
     ]
    },
    {
     "name": "stdout",
     "output_type": "stream",
     "text": [
      "\n",
      "Epoch 011 train_loss: 0.2744     val_loss 0.7902 train_acc 0.9174 val_acc 0.6946, learning rate 0.0003\n"
     ]
    },
    {
     "name": "stderr",
     "output_type": "stream",
     "text": [
      "epoch:  12%|████████▉                                                                 | 12/100 [03:11<23:16, 15.87s/it]"
     ]
    },
    {
     "name": "stdout",
     "output_type": "stream",
     "text": [
      "\n",
      "Epoch 012 train_loss: 0.2750     val_loss 0.7879 train_acc 0.9170 val_acc 0.6952, learning rate 0.0003\n"
     ]
    },
    {
     "name": "stderr",
     "output_type": "stream",
     "text": [
      "epoch:  13%|█████████▌                                                                | 13/100 [03:27<22:50, 15.76s/it]"
     ]
    },
    {
     "name": "stdout",
     "output_type": "stream",
     "text": [
      "\n",
      "Epoch 013 train_loss: 0.2748     val_loss 0.7913 train_acc 0.9166 val_acc 0.6952, learning rate 0.0003\n"
     ]
    },
    {
     "name": "stderr",
     "output_type": "stream",
     "text": [
      "epoch:  14%|██████████▎                                                               | 14/100 [03:43<22:41, 15.83s/it]"
     ]
    },
    {
     "name": "stdout",
     "output_type": "stream",
     "text": [
      "\n",
      "Epoch 014 train_loss: 0.2747     val_loss 0.7892 train_acc 0.9162 val_acc 0.6952, learning rate 0.0003\n"
     ]
    },
    {
     "name": "stderr",
     "output_type": "stream",
     "text": [
      "epoch:  15%|███████████                                                               | 15/100 [03:59<22:23, 15.81s/it]"
     ]
    },
    {
     "name": "stdout",
     "output_type": "stream",
     "text": [
      "\n",
      "Epoch 015 train_loss: 0.2749     val_loss 0.7864 train_acc 0.9167 val_acc 0.6952, learning rate 0.0003\n"
     ]
    },
    {
     "name": "stderr",
     "output_type": "stream",
     "text": [
      "epoch:  16%|███████████▊                                                              | 16/100 [04:17<23:07, 16.52s/it]"
     ]
    },
    {
     "name": "stdout",
     "output_type": "stream",
     "text": [
      "save best model for 15 epoch\n",
      "\n",
      "Epoch 016 train_loss: 0.2746     val_loss 0.7866 train_acc 0.9167 val_acc 0.6959, learning rate 0.0003\n"
     ]
    },
    {
     "name": "stderr",
     "output_type": "stream",
     "text": [
      "epoch:  17%|████████████▌                                                             | 17/100 [04:33<22:33, 16.31s/it]"
     ]
    },
    {
     "name": "stdout",
     "output_type": "stream",
     "text": [
      "\n",
      "Epoch 017 train_loss: 0.2747     val_loss 0.7895 train_acc 0.9172 val_acc 0.6959, learning rate 0.0003\n"
     ]
    },
    {
     "name": "stderr",
     "output_type": "stream",
     "text": [
      "epoch:  18%|█████████████▎                                                            | 18/100 [04:49<22:11, 16.24s/it]"
     ]
    },
    {
     "name": "stdout",
     "output_type": "stream",
     "text": [
      "\n",
      "Epoch 018 train_loss: 0.2759     val_loss 0.7886 train_acc 0.9162 val_acc 0.6959, learning rate 0.0003\n"
     ]
    },
    {
     "name": "stderr",
     "output_type": "stream",
     "text": [
      "epoch:  19%|██████████████                                                            | 19/100 [05:05<21:48, 16.16s/it]"
     ]
    },
    {
     "name": "stdout",
     "output_type": "stream",
     "text": [
      "\n",
      "Epoch 019 train_loss: 0.2752     val_loss 0.7908 train_acc 0.9154 val_acc 0.6959, learning rate 0.0003\n"
     ]
    },
    {
     "name": "stderr",
     "output_type": "stream",
     "text": [
      "epoch:  20%|██████████████▊                                                           | 20/100 [05:20<21:18, 15.98s/it]"
     ]
    },
    {
     "name": "stdout",
     "output_type": "stream",
     "text": [
      "\n",
      "Epoch 020 train_loss: 0.2741     val_loss 0.7899 train_acc 0.9174 val_acc 0.6959, learning rate 0.0003\n"
     ]
    },
    {
     "name": "stderr",
     "output_type": "stream",
     "text": [
      "epoch:  21%|███████████████▌                                                          | 21/100 [05:36<21:04, 16.01s/it]"
     ]
    },
    {
     "name": "stdout",
     "output_type": "stream",
     "text": [
      "\n",
      "Epoch 021 train_loss: 0.2757     val_loss 0.7880 train_acc 0.9167 val_acc 0.6959, learning rate 0.0003\n"
     ]
    },
    {
     "name": "stderr",
     "output_type": "stream",
     "text": [
      "epoch:  22%|████████████████▎                                                         | 22/100 [05:52<20:40, 15.91s/it]"
     ]
    },
    {
     "name": "stdout",
     "output_type": "stream",
     "text": [
      "\n",
      "Epoch 022 train_loss: 0.2741     val_loss 0.7903 train_acc 0.9174 val_acc 0.6952, learning rate 0.0003\n"
     ]
    },
    {
     "name": "stderr",
     "output_type": "stream",
     "text": [
      "epoch:  23%|█████████████████                                                         | 23/100 [06:08<20:16, 15.80s/it]"
     ]
    },
    {
     "name": "stdout",
     "output_type": "stream",
     "text": [
      "\n",
      "Epoch 023 train_loss: 0.2748     val_loss 0.7868 train_acc 0.9170 val_acc 0.6959, learning rate 0.0003\n"
     ]
    },
    {
     "name": "stderr",
     "output_type": "stream",
     "text": [
      "epoch:  24%|█████████████████▊                                                        | 24/100 [06:23<19:56, 15.75s/it]"
     ]
    },
    {
     "name": "stdout",
     "output_type": "stream",
     "text": [
      "\n",
      "Epoch 024 train_loss: 0.2729     val_loss 0.7918 train_acc 0.9169 val_acc 0.6952, learning rate 0.0003\n"
     ]
    },
    {
     "name": "stderr",
     "output_type": "stream",
     "text": [
      "epoch:  25%|██████████████████▌                                                       | 25/100 [06:39<19:41, 15.76s/it]"
     ]
    },
    {
     "name": "stdout",
     "output_type": "stream",
     "text": [
      "\n",
      "Epoch 025 train_loss: 0.2749     val_loss 0.7899 train_acc 0.9159 val_acc 0.6959, learning rate 5.9999999999999995e-05\n"
     ]
    },
    {
     "name": "stderr",
     "output_type": "stream",
     "text": [
      "epoch:  26%|███████████████████▏                                                      | 26/100 [06:54<19:20, 15.68s/it]"
     ]
    },
    {
     "name": "stdout",
     "output_type": "stream",
     "text": [
      "\n",
      "Epoch 026 train_loss: 0.2737     val_loss 0.7899 train_acc 0.9175 val_acc 0.6959, learning rate 5.9999999999999995e-05\n"
     ]
    },
    {
     "name": "stderr",
     "output_type": "stream",
     "text": [
      "epoch:  27%|███████████████████▉                                                      | 27/100 [07:10<19:02, 15.65s/it]"
     ]
    },
    {
     "name": "stdout",
     "output_type": "stream",
     "text": [
      "\n",
      "Epoch 027 train_loss: 0.2726     val_loss 0.7902 train_acc 0.9167 val_acc 0.6959, learning rate 5.9999999999999995e-05\n"
     ]
    },
    {
     "name": "stderr",
     "output_type": "stream",
     "text": [
      "epoch:  28%|████████████████████▋                                                     | 28/100 [07:27<19:07, 15.94s/it]"
     ]
    },
    {
     "name": "stdout",
     "output_type": "stream",
     "text": [
      "\n",
      "Epoch 028 train_loss: 0.2736     val_loss 0.7891 train_acc 0.9175 val_acc 0.6959, learning rate 5.9999999999999995e-05\n"
     ]
    },
    {
     "name": "stderr",
     "output_type": "stream",
     "text": [
      "epoch:  29%|█████████████████████▍                                                    | 29/100 [07:43<18:52, 15.95s/it]"
     ]
    },
    {
     "name": "stdout",
     "output_type": "stream",
     "text": [
      "\n",
      "Epoch 029 train_loss: 0.2745     val_loss 0.7894 train_acc 0.9167 val_acc 0.6959, learning rate 5.9999999999999995e-05\n"
     ]
    },
    {
     "name": "stderr",
     "output_type": "stream",
     "text": [
      "epoch:  30%|██████████████████████▏                                                   | 30/100 [07:58<18:33, 15.91s/it]"
     ]
    },
    {
     "name": "stdout",
     "output_type": "stream",
     "text": [
      "\n",
      "Epoch 030 train_loss: 0.2731     val_loss 0.7895 train_acc 0.9177 val_acc 0.6959, learning rate 5.9999999999999995e-05\n"
     ]
    },
    {
     "name": "stderr",
     "output_type": "stream",
     "text": [
      "epoch:  31%|██████████████████████▉                                                   | 31/100 [08:14<18:11, 15.82s/it]"
     ]
    },
    {
     "name": "stdout",
     "output_type": "stream",
     "text": [
      "\n",
      "Epoch 031 train_loss: 0.2745     val_loss 0.7899 train_acc 0.9170 val_acc 0.6959, learning rate 5.9999999999999995e-05\n"
     ]
    },
    {
     "name": "stderr",
     "output_type": "stream",
     "text": [
      "epoch:  32%|███████████████████████▋                                                  | 32/100 [08:30<17:53, 15.79s/it]"
     ]
    },
    {
     "name": "stdout",
     "output_type": "stream",
     "text": [
      "\n",
      "Epoch 032 train_loss: 0.2748     val_loss 0.7898 train_acc 0.9164 val_acc 0.6959, learning rate 5.9999999999999995e-05\n"
     ]
    },
    {
     "name": "stderr",
     "output_type": "stream",
     "text": [
      "epoch:  33%|████████████████████████▍                                                 | 33/100 [08:45<17:36, 15.77s/it]"
     ]
    },
    {
     "name": "stdout",
     "output_type": "stream",
     "text": [
      "\n",
      "Epoch 033 train_loss: 0.2735     val_loss 0.7888 train_acc 0.9177 val_acc 0.6952, learning rate 5.9999999999999995e-05\n"
     ]
    },
    {
     "name": "stderr",
     "output_type": "stream",
     "text": [
      "epoch:  34%|█████████████████████████▏                                                | 34/100 [09:01<17:20, 15.77s/it]"
     ]
    },
    {
     "name": "stdout",
     "output_type": "stream",
     "text": [
      "\n",
      "Epoch 034 train_loss: 0.2723     val_loss 0.7897 train_acc 0.9183 val_acc 0.6952, learning rate 5.9999999999999995e-05\n"
     ]
    },
    {
     "name": "stderr",
     "output_type": "stream",
     "text": [
      "epoch:  35%|█████████████████████████▉                                                | 35/100 [09:17<17:03, 15.75s/it]"
     ]
    },
    {
     "name": "stdout",
     "output_type": "stream",
     "text": [
      "\n",
      "Epoch 035 train_loss: 0.2719     val_loss 0.7904 train_acc 0.9183 val_acc 0.6952, learning rate 5.9999999999999995e-05\n"
     ]
    },
    {
     "name": "stderr",
     "output_type": "stream",
     "text": [
      "epoch:  36%|██████████████████████████▋                                               | 36/100 [09:33<16:46, 15.73s/it]"
     ]
    },
    {
     "name": "stdout",
     "output_type": "stream",
     "text": [
      "\n",
      "Epoch 036 train_loss: 0.2736     val_loss 0.7911 train_acc 0.9175 val_acc 0.6959, learning rate 5.9999999999999995e-05\n"
     ]
    },
    {
     "name": "stderr",
     "output_type": "stream",
     "text": [
      "epoch:  37%|███████████████████████████▍                                              | 37/100 [09:48<16:29, 15.71s/it]"
     ]
    },
    {
     "name": "stdout",
     "output_type": "stream",
     "text": [
      "\n",
      "Epoch 037 train_loss: 0.2738     val_loss 0.7913 train_acc 0.9170 val_acc 0.6952, learning rate 5.9999999999999995e-05\n"
     ]
    },
    {
     "name": "stderr",
     "output_type": "stream",
     "text": [
      "epoch:  38%|████████████████████████████                                              | 38/100 [10:04<16:10, 15.66s/it]"
     ]
    },
    {
     "name": "stdout",
     "output_type": "stream",
     "text": [
      "\n",
      "Epoch 038 train_loss: 0.2743     val_loss 0.7910 train_acc 0.9174 val_acc 0.6952, learning rate 5.9999999999999995e-05\n"
     ]
    },
    {
     "name": "stderr",
     "output_type": "stream",
     "text": [
      "epoch:  39%|████████████████████████████▊                                             | 39/100 [10:19<15:52, 15.61s/it]"
     ]
    },
    {
     "name": "stdout",
     "output_type": "stream",
     "text": [
      "\n",
      "Epoch 039 train_loss: 0.2726     val_loss 0.7914 train_acc 0.9170 val_acc 0.6952, learning rate 5.9999999999999995e-05\n"
     ]
    },
    {
     "name": "stderr",
     "output_type": "stream",
     "text": [
      "epoch:  40%|█████████████████████████████▌                                            | 40/100 [10:35<15:40, 15.68s/it]"
     ]
    },
    {
     "name": "stdout",
     "output_type": "stream",
     "text": [
      "\n",
      "Epoch 040 train_loss: 0.2739     val_loss 0.7907 train_acc 0.9178 val_acc 0.6952, learning rate 5.9999999999999995e-05\n"
     ]
    },
    {
     "name": "stderr",
     "output_type": "stream",
     "text": [
      "epoch:  41%|██████████████████████████████▎                                           | 41/100 [10:51<15:26, 15.70s/it]"
     ]
    },
    {
     "name": "stdout",
     "output_type": "stream",
     "text": [
      "\n",
      "Epoch 041 train_loss: 0.2734     val_loss 0.7912 train_acc 0.9162 val_acc 0.6952, learning rate 5.9999999999999995e-05\n"
     ]
    },
    {
     "name": "stderr",
     "output_type": "stream",
     "text": [
      "epoch:  42%|███████████████████████████████                                           | 42/100 [11:07<15:10, 15.69s/it]"
     ]
    },
    {
     "name": "stdout",
     "output_type": "stream",
     "text": [
      "\n",
      "Epoch 042 train_loss: 0.2738     val_loss 0.7915 train_acc 0.9164 val_acc 0.6952, learning rate 5.9999999999999995e-05\n"
     ]
    },
    {
     "name": "stderr",
     "output_type": "stream",
     "text": [
      "epoch:  43%|███████████████████████████████▊                                          | 43/100 [11:22<14:53, 15.68s/it]"
     ]
    },
    {
     "name": "stdout",
     "output_type": "stream",
     "text": [
      "\n",
      "Epoch 043 train_loss: 0.2725     val_loss 0.7911 train_acc 0.9174 val_acc 0.6952, learning rate 5.9999999999999995e-05\n"
     ]
    },
    {
     "name": "stderr",
     "output_type": "stream",
     "text": [
      "epoch:  44%|████████████████████████████████▌                                         | 44/100 [11:38<14:41, 15.75s/it]"
     ]
    },
    {
     "name": "stdout",
     "output_type": "stream",
     "text": [
      "\n",
      "Epoch 044 train_loss: 0.2738     val_loss 0.7915 train_acc 0.9172 val_acc 0.6952, learning rate 5.9999999999999995e-05\n"
     ]
    },
    {
     "name": "stderr",
     "output_type": "stream",
     "text": [
      "epoch:  45%|█████████████████████████████████▎                                        | 45/100 [11:54<14:29, 15.81s/it]"
     ]
    },
    {
     "name": "stdout",
     "output_type": "stream",
     "text": [
      "\n",
      "Epoch 045 train_loss: 0.2733     val_loss 0.7913 train_acc 0.9175 val_acc 0.6952, learning rate 5.9999999999999995e-05\n"
     ]
    },
    {
     "name": "stderr",
     "output_type": "stream",
     "text": [
      "epoch:  46%|██████████████████████████████████                                        | 46/100 [12:10<14:15, 15.85s/it]"
     ]
    },
    {
     "name": "stdout",
     "output_type": "stream",
     "text": [
      "\n",
      "Epoch 046 train_loss: 0.2754     val_loss 0.7918 train_acc 0.9161 val_acc 0.6952, learning rate 5.9999999999999995e-05\n"
     ]
    },
    {
     "name": "stderr",
     "output_type": "stream",
     "text": [
      "epoch:  47%|██████████████████████████████████▊                                       | 47/100 [12:26<13:55, 15.76s/it]"
     ]
    },
    {
     "name": "stdout",
     "output_type": "stream",
     "text": [
      "\n",
      "Epoch 047 train_loss: 0.2739     val_loss 0.7919 train_acc 0.9172 val_acc 0.6952, learning rate 5.9999999999999995e-05\n"
     ]
    },
    {
     "name": "stderr",
     "output_type": "stream",
     "text": [
      "epoch:  48%|███████████████████████████████████▌                                      | 48/100 [12:42<13:45, 15.87s/it]"
     ]
    },
    {
     "name": "stdout",
     "output_type": "stream",
     "text": [
      "\n",
      "Epoch 048 train_loss: 0.2738     val_loss 0.7924 train_acc 0.9167 val_acc 0.6952, learning rate 5.9999999999999995e-05\n"
     ]
    },
    {
     "name": "stderr",
     "output_type": "stream",
     "text": [
      "epoch:  49%|████████████████████████████████████▎                                     | 49/100 [12:58<13:29, 15.87s/it]"
     ]
    },
    {
     "name": "stdout",
     "output_type": "stream",
     "text": [
      "\n",
      "Epoch 049 train_loss: 0.2733     val_loss 0.7913 train_acc 0.9172 val_acc 0.6952, learning rate 5.9999999999999995e-05\n"
     ]
    },
    {
     "name": "stderr",
     "output_type": "stream",
     "text": [
      "epoch:  50%|█████████████████████████████████████                                     | 50/100 [13:13<13:08, 15.77s/it]"
     ]
    },
    {
     "name": "stdout",
     "output_type": "stream",
     "text": [
      "\n",
      "Epoch 050 train_loss: 0.2736     val_loss 0.7912 train_acc 0.9175 val_acc 0.6952, learning rate 1.2e-05\n"
     ]
    },
    {
     "name": "stderr",
     "output_type": "stream",
     "text": [
      "epoch:  51%|█████████████████████████████████████▋                                    | 51/100 [13:29<12:49, 15.70s/it]"
     ]
    },
    {
     "name": "stdout",
     "output_type": "stream",
     "text": [
      "\n",
      "Epoch 051 train_loss: 0.2727     val_loss 0.7910 train_acc 0.9174 val_acc 0.6952, learning rate 1.2e-05\n"
     ]
    },
    {
     "name": "stderr",
     "output_type": "stream",
     "text": [
      "epoch:  52%|██████████████████████████████████████▍                                   | 52/100 [13:44<12:35, 15.74s/it]"
     ]
    },
    {
     "name": "stdout",
     "output_type": "stream",
     "text": [
      "\n",
      "Epoch 052 train_loss: 0.2751     val_loss 0.7910 train_acc 0.9162 val_acc 0.6952, learning rate 1.2e-05\n"
     ]
    },
    {
     "name": "stderr",
     "output_type": "stream",
     "text": [
      "epoch:  53%|███████████████████████████████████████▏                                  | 53/100 [14:00<12:13, 15.61s/it]"
     ]
    },
    {
     "name": "stdout",
     "output_type": "stream",
     "text": [
      "\n",
      "Epoch 053 train_loss: 0.2727     val_loss 0.7911 train_acc 0.9187 val_acc 0.6952, learning rate 1.2e-05\n"
     ]
    },
    {
     "name": "stderr",
     "output_type": "stream",
     "text": [
      "epoch:  54%|███████████████████████████████████████▉                                  | 54/100 [14:15<11:56, 15.58s/it]"
     ]
    },
    {
     "name": "stdout",
     "output_type": "stream",
     "text": [
      "\n",
      "Epoch 054 train_loss: 0.2751     val_loss 0.7911 train_acc 0.9167 val_acc 0.6952, learning rate 1.2e-05\n"
     ]
    },
    {
     "name": "stderr",
     "output_type": "stream",
     "text": [
      "epoch:  55%|████████████████████████████████████████▋                                 | 55/100 [14:31<11:44, 15.66s/it]"
     ]
    },
    {
     "name": "stdout",
     "output_type": "stream",
     "text": [
      "\n",
      "Epoch 055 train_loss: 0.2722     val_loss 0.7912 train_acc 0.9174 val_acc 0.6952, learning rate 1.2e-05\n"
     ]
    },
    {
     "name": "stderr",
     "output_type": "stream",
     "text": [
      "epoch:  56%|█████████████████████████████████████████▍                                | 56/100 [14:47<11:34, 15.78s/it]"
     ]
    },
    {
     "name": "stdout",
     "output_type": "stream",
     "text": [
      "\n",
      "Epoch 056 train_loss: 0.2730     val_loss 0.7913 train_acc 0.9172 val_acc 0.6952, learning rate 1.2e-05\n"
     ]
    },
    {
     "name": "stderr",
     "output_type": "stream",
     "text": [
      "epoch:  57%|██████████████████████████████████████████▏                               | 57/100 [15:03<11:14, 15.68s/it]"
     ]
    },
    {
     "name": "stdout",
     "output_type": "stream",
     "text": [
      "\n",
      "Epoch 057 train_loss: 0.2741     val_loss 0.7911 train_acc 0.9166 val_acc 0.6952, learning rate 1.2e-05\n"
     ]
    },
    {
     "name": "stderr",
     "output_type": "stream",
     "text": [
      "epoch:  58%|██████████████████████████████████████████▉                               | 58/100 [15:18<10:58, 15.67s/it]"
     ]
    },
    {
     "name": "stdout",
     "output_type": "stream",
     "text": [
      "\n",
      "Epoch 058 train_loss: 0.2748     val_loss 0.7911 train_acc 0.9170 val_acc 0.6952, learning rate 1.2e-05\n"
     ]
    },
    {
     "name": "stderr",
     "output_type": "stream",
     "text": [
      "epoch:  59%|███████████████████████████████████████████▋                              | 59/100 [15:34<10:42, 15.67s/it]"
     ]
    },
    {
     "name": "stdout",
     "output_type": "stream",
     "text": [
      "\n",
      "Epoch 059 train_loss: 0.2742     val_loss 0.7911 train_acc 0.9167 val_acc 0.6952, learning rate 1.2e-05\n"
     ]
    },
    {
     "name": "stderr",
     "output_type": "stream",
     "text": [
      "epoch:  60%|████████████████████████████████████████████▍                             | 60/100 [15:50<10:27, 15.68s/it]"
     ]
    },
    {
     "name": "stdout",
     "output_type": "stream",
     "text": [
      "\n",
      "Epoch 060 train_loss: 0.2739     val_loss 0.7910 train_acc 0.9167 val_acc 0.6952, learning rate 1.2e-05\n"
     ]
    },
    {
     "name": "stderr",
     "output_type": "stream",
     "text": [
      "epoch:  61%|█████████████████████████████████████████████▏                            | 61/100 [16:05<10:12, 15.70s/it]"
     ]
    },
    {
     "name": "stdout",
     "output_type": "stream",
     "text": [
      "\n",
      "Epoch 061 train_loss: 0.2719     val_loss 0.7911 train_acc 0.9185 val_acc 0.6952, learning rate 1.2e-05\n"
     ]
    },
    {
     "name": "stderr",
     "output_type": "stream",
     "text": [
      "epoch:  62%|█████████████████████████████████████████████▉                            | 62/100 [16:21<09:55, 15.66s/it]"
     ]
    },
    {
     "name": "stdout",
     "output_type": "stream",
     "text": [
      "\n",
      "Epoch 062 train_loss: 0.2736     val_loss 0.7910 train_acc 0.9174 val_acc 0.6952, learning rate 1.2e-05\n"
     ]
    },
    {
     "name": "stderr",
     "output_type": "stream",
     "text": [
      "epoch:  63%|██████████████████████████████████████████████▌                           | 63/100 [16:37<09:46, 15.86s/it]"
     ]
    },
    {
     "name": "stdout",
     "output_type": "stream",
     "text": [
      "\n",
      "Epoch 063 train_loss: 0.2748     val_loss 0.7911 train_acc 0.9169 val_acc 0.6952, learning rate 1.2e-05\n"
     ]
    },
    {
     "name": "stderr",
     "output_type": "stream",
     "text": [
      "epoch:  64%|███████████████████████████████████████████████▎                          | 64/100 [16:53<09:30, 15.84s/it]"
     ]
    },
    {
     "name": "stdout",
     "output_type": "stream",
     "text": [
      "\n",
      "Epoch 064 train_loss: 0.2724     val_loss 0.7909 train_acc 0.9178 val_acc 0.6952, learning rate 1.2e-05\n"
     ]
    },
    {
     "name": "stderr",
     "output_type": "stream",
     "text": [
      "epoch:  65%|████████████████████████████████████████████████                          | 65/100 [17:09<09:11, 15.75s/it]"
     ]
    },
    {
     "name": "stdout",
     "output_type": "stream",
     "text": [
      "\n",
      "Epoch 065 train_loss: 0.2735     val_loss 0.7910 train_acc 0.9174 val_acc 0.6952, learning rate 1.2e-05\n"
     ]
    },
    {
     "name": "stderr",
     "output_type": "stream",
     "text": [
      "epoch:  66%|████████████████████████████████████████████████▊                         | 66/100 [17:24<08:53, 15.70s/it]"
     ]
    },
    {
     "name": "stdout",
     "output_type": "stream",
     "text": [
      "\n",
      "Epoch 066 train_loss: 0.2748     val_loss 0.7910 train_acc 0.9161 val_acc 0.6952, learning rate 1.2e-05\n"
     ]
    },
    {
     "name": "stderr",
     "output_type": "stream",
     "text": [
      "epoch:  67%|█████████████████████████████████████████████████▌                        | 67/100 [17:40<08:40, 15.77s/it]"
     ]
    },
    {
     "name": "stdout",
     "output_type": "stream",
     "text": [
      "\n",
      "Epoch 067 train_loss: 0.2741     val_loss 0.7910 train_acc 0.9162 val_acc 0.6952, learning rate 1.2e-05\n"
     ]
    },
    {
     "name": "stderr",
     "output_type": "stream",
     "text": [
      "epoch:  68%|██████████████████████████████████████████████████▎                       | 68/100 [17:56<08:24, 15.76s/it]"
     ]
    },
    {
     "name": "stdout",
     "output_type": "stream",
     "text": [
      "\n",
      "Epoch 068 train_loss: 0.2750     val_loss 0.7910 train_acc 0.9164 val_acc 0.6952, learning rate 1.2e-05\n"
     ]
    },
    {
     "name": "stderr",
     "output_type": "stream",
     "text": [
      "epoch:  69%|███████████████████████████████████████████████████                       | 69/100 [18:11<08:06, 15.70s/it]"
     ]
    },
    {
     "name": "stdout",
     "output_type": "stream",
     "text": [
      "\n",
      "Epoch 069 train_loss: 0.2738     val_loss 0.7910 train_acc 0.9178 val_acc 0.6952, learning rate 1.2e-05\n"
     ]
    },
    {
     "name": "stderr",
     "output_type": "stream",
     "text": [
      "epoch:  70%|███████████████████████████████████████████████████▊                      | 70/100 [18:27<07:49, 15.65s/it]"
     ]
    },
    {
     "name": "stdout",
     "output_type": "stream",
     "text": [
      "\n",
      "Epoch 070 train_loss: 0.2727     val_loss 0.7911 train_acc 0.9169 val_acc 0.6952, learning rate 1.2e-05\n"
     ]
    },
    {
     "name": "stderr",
     "output_type": "stream",
     "text": [
      "epoch:  71%|████████████████████████████████████████████████████▌                     | 71/100 [18:43<07:35, 15.70s/it]"
     ]
    },
    {
     "name": "stdout",
     "output_type": "stream",
     "text": [
      "\n",
      "Epoch 071 train_loss: 0.2743     val_loss 0.7911 train_acc 0.9167 val_acc 0.6952, learning rate 1.2e-05\n"
     ]
    },
    {
     "name": "stderr",
     "output_type": "stream",
     "text": [
      "epoch:  72%|█████████████████████████████████████████████████████▎                    | 72/100 [18:58<07:17, 15.63s/it]"
     ]
    },
    {
     "name": "stdout",
     "output_type": "stream",
     "text": [
      "\n",
      "Epoch 072 train_loss: 0.2733     val_loss 0.7912 train_acc 0.9164 val_acc 0.6952, learning rate 1.2e-05\n"
     ]
    },
    {
     "name": "stderr",
     "output_type": "stream",
     "text": [
      "epoch:  73%|██████████████████████████████████████████████████████                    | 73/100 [19:14<07:02, 15.63s/it]"
     ]
    },
    {
     "name": "stdout",
     "output_type": "stream",
     "text": [
      "\n",
      "Epoch 073 train_loss: 0.2720     val_loss 0.7911 train_acc 0.9178 val_acc 0.6952, learning rate 1.2e-05\n"
     ]
    },
    {
     "name": "stderr",
     "output_type": "stream",
     "text": [
      "epoch:  74%|██████████████████████████████████████████████████████▊                   | 74/100 [19:30<06:46, 15.62s/it]"
     ]
    },
    {
     "name": "stdout",
     "output_type": "stream",
     "text": [
      "\n",
      "Epoch 074 train_loss: 0.2744     val_loss 0.7911 train_acc 0.9170 val_acc 0.6952, learning rate 1.2e-05\n"
     ]
    },
    {
     "name": "stderr",
     "output_type": "stream",
     "text": [
      "epoch:  75%|███████████████████████████████████████████████████████▌                  | 75/100 [19:45<06:31, 15.68s/it]"
     ]
    },
    {
     "name": "stdout",
     "output_type": "stream",
     "text": [
      "\n",
      "Epoch 075 train_loss: 0.2734     val_loss 0.7911 train_acc 0.9174 val_acc 0.6952, learning rate 2.4000000000000003e-06\n"
     ]
    },
    {
     "name": "stderr",
     "output_type": "stream",
     "text": [
      "epoch:  76%|████████████████████████████████████████████████████████▏                 | 76/100 [20:01<06:19, 15.80s/it]"
     ]
    },
    {
     "name": "stdout",
     "output_type": "stream",
     "text": [
      "\n",
      "Epoch 076 train_loss: 0.2750     val_loss 0.7911 train_acc 0.9166 val_acc 0.6952, learning rate 2.4000000000000003e-06\n"
     ]
    },
    {
     "name": "stderr",
     "output_type": "stream",
     "text": [
      "epoch:  77%|████████████████████████████████████████████████████████▉                 | 77/100 [20:17<06:03, 15.79s/it]"
     ]
    },
    {
     "name": "stdout",
     "output_type": "stream",
     "text": [
      "\n",
      "Epoch 077 train_loss: 0.2738     val_loss 0.7912 train_acc 0.9174 val_acc 0.6952, learning rate 2.4000000000000003e-06\n"
     ]
    },
    {
     "name": "stderr",
     "output_type": "stream",
     "text": [
      "epoch:  78%|█████████████████████████████████████████████████████████▋                | 78/100 [20:33<05:47, 15.81s/it]"
     ]
    },
    {
     "name": "stdout",
     "output_type": "stream",
     "text": [
      "\n",
      "Epoch 078 train_loss: 0.2734     val_loss 0.7911 train_acc 0.9162 val_acc 0.6952, learning rate 2.4000000000000003e-06\n"
     ]
    },
    {
     "name": "stderr",
     "output_type": "stream",
     "text": [
      "epoch:  79%|██████████████████████████████████████████████████████████▍               | 79/100 [20:49<05:32, 15.81s/it]"
     ]
    },
    {
     "name": "stdout",
     "output_type": "stream",
     "text": [
      "\n",
      "Epoch 079 train_loss: 0.2746     val_loss 0.7912 train_acc 0.9167 val_acc 0.6952, learning rate 2.4000000000000003e-06\n"
     ]
    },
    {
     "name": "stderr",
     "output_type": "stream",
     "text": [
      "epoch:  80%|███████████████████████████████████████████████████████████▏              | 80/100 [21:05<05:15, 15.77s/it]"
     ]
    },
    {
     "name": "stdout",
     "output_type": "stream",
     "text": [
      "\n",
      "Epoch 080 train_loss: 0.2726     val_loss 0.7912 train_acc 0.9183 val_acc 0.6952, learning rate 2.4000000000000003e-06\n"
     ]
    },
    {
     "name": "stderr",
     "output_type": "stream",
     "text": [
      "epoch:  81%|███████████████████████████████████████████████████████████▉              | 81/100 [21:20<04:58, 15.70s/it]"
     ]
    },
    {
     "name": "stdout",
     "output_type": "stream",
     "text": [
      "\n",
      "Epoch 081 train_loss: 0.2744     val_loss 0.7911 train_acc 0.9164 val_acc 0.6952, learning rate 2.4000000000000003e-06\n"
     ]
    },
    {
     "name": "stderr",
     "output_type": "stream",
     "text": [
      "epoch:  82%|████████████████████████████████████████████████████████████▋             | 82/100 [21:36<04:44, 15.80s/it]"
     ]
    },
    {
     "name": "stdout",
     "output_type": "stream",
     "text": [
      "\n",
      "Epoch 082 train_loss: 0.2723     val_loss 0.7911 train_acc 0.9175 val_acc 0.6952, learning rate 2.4000000000000003e-06\n"
     ]
    },
    {
     "name": "stderr",
     "output_type": "stream",
     "text": [
      "epoch:  83%|█████████████████████████████████████████████████████████████▍            | 83/100 [21:52<04:27, 15.75s/it]"
     ]
    },
    {
     "name": "stdout",
     "output_type": "stream",
     "text": [
      "\n",
      "Epoch 083 train_loss: 0.2744     val_loss 0.7911 train_acc 0.9169 val_acc 0.6952, learning rate 2.4000000000000003e-06\n"
     ]
    },
    {
     "name": "stderr",
     "output_type": "stream",
     "text": [
      "epoch:  84%|██████████████████████████████████████████████████████████████▏           | 84/100 [22:07<04:10, 15.68s/it]"
     ]
    },
    {
     "name": "stdout",
     "output_type": "stream",
     "text": [
      "\n",
      "Epoch 084 train_loss: 0.2729     val_loss 0.7911 train_acc 0.9180 val_acc 0.6952, learning rate 2.4000000000000003e-06\n"
     ]
    },
    {
     "name": "stderr",
     "output_type": "stream",
     "text": [
      "epoch:  85%|██████████████████████████████████████████████████████████████▉           | 85/100 [22:23<03:54, 15.65s/it]"
     ]
    },
    {
     "name": "stdout",
     "output_type": "stream",
     "text": [
      "\n",
      "Epoch 085 train_loss: 0.2725     val_loss 0.7912 train_acc 0.9170 val_acc 0.6952, learning rate 2.4000000000000003e-06\n"
     ]
    },
    {
     "name": "stderr",
     "output_type": "stream",
     "text": [
      "epoch:  86%|███████████████████████████████████████████████████████████████▋          | 86/100 [22:39<03:40, 15.73s/it]"
     ]
    },
    {
     "name": "stdout",
     "output_type": "stream",
     "text": [
      "\n",
      "Epoch 086 train_loss: 0.2733     val_loss 0.7912 train_acc 0.9169 val_acc 0.6952, learning rate 2.4000000000000003e-06\n"
     ]
    },
    {
     "name": "stderr",
     "output_type": "stream",
     "text": [
      "epoch:  87%|████████████████████████████████████████████████████████████████▍         | 87/100 [22:54<03:23, 15.69s/it]"
     ]
    },
    {
     "name": "stdout",
     "output_type": "stream",
     "text": [
      "\n",
      "Epoch 087 train_loss: 0.2736     val_loss 0.7912 train_acc 0.9175 val_acc 0.6952, learning rate 2.4000000000000003e-06\n"
     ]
    },
    {
     "name": "stderr",
     "output_type": "stream",
     "text": [
      "epoch:  88%|█████████████████████████████████████████████████████████████████         | 88/100 [23:11<03:11, 16.00s/it]"
     ]
    },
    {
     "name": "stdout",
     "output_type": "stream",
     "text": [
      "\n",
      "Epoch 088 train_loss: 0.2728     val_loss 0.7912 train_acc 0.9169 val_acc 0.6952, learning rate 2.4000000000000003e-06\n"
     ]
    },
    {
     "name": "stderr",
     "output_type": "stream",
     "text": [
      "epoch:  89%|█████████████████████████████████████████████████████████████████▊        | 89/100 [23:27<02:55, 15.94s/it]"
     ]
    },
    {
     "name": "stdout",
     "output_type": "stream",
     "text": [
      "\n",
      "Epoch 089 train_loss: 0.2729     val_loss 0.7912 train_acc 0.9177 val_acc 0.6952, learning rate 2.4000000000000003e-06\n"
     ]
    },
    {
     "name": "stderr",
     "output_type": "stream",
     "text": [
      "epoch:  90%|██████████████████████████████████████████████████████████████████▌       | 90/100 [23:43<02:39, 15.94s/it]"
     ]
    },
    {
     "name": "stdout",
     "output_type": "stream",
     "text": [
      "\n",
      "Epoch 090 train_loss: 0.2747     val_loss 0.7912 train_acc 0.9167 val_acc 0.6952, learning rate 2.4000000000000003e-06\n"
     ]
    },
    {
     "name": "stderr",
     "output_type": "stream",
     "text": [
      "epoch:  91%|███████████████████████████████████████████████████████████████████▎      | 91/100 [23:58<02:22, 15.79s/it]"
     ]
    },
    {
     "name": "stdout",
     "output_type": "stream",
     "text": [
      "\n",
      "Epoch 091 train_loss: 0.2751     val_loss 0.7912 train_acc 0.9162 val_acc 0.6952, learning rate 2.4000000000000003e-06\n"
     ]
    },
    {
     "name": "stderr",
     "output_type": "stream",
     "text": [
      "epoch:  92%|████████████████████████████████████████████████████████████████████      | 92/100 [24:14<02:05, 15.74s/it]"
     ]
    },
    {
     "name": "stdout",
     "output_type": "stream",
     "text": [
      "\n",
      "Epoch 092 train_loss: 0.2748     val_loss 0.7912 train_acc 0.9162 val_acc 0.6952, learning rate 2.4000000000000003e-06\n"
     ]
    },
    {
     "name": "stderr",
     "output_type": "stream",
     "text": [
      "epoch:  93%|████████████████████████████████████████████████████████████████████▊     | 93/100 [24:30<01:50, 15.75s/it]"
     ]
    },
    {
     "name": "stdout",
     "output_type": "stream",
     "text": [
      "\n",
      "Epoch 093 train_loss: 0.2735     val_loss 0.7912 train_acc 0.9177 val_acc 0.6952, learning rate 2.4000000000000003e-06\n"
     ]
    },
    {
     "name": "stderr",
     "output_type": "stream",
     "text": [
      "epoch:  94%|█████████████████████████████████████████████████████████████████████▌    | 94/100 [24:45<01:34, 15.77s/it]"
     ]
    },
    {
     "name": "stdout",
     "output_type": "stream",
     "text": [
      "\n",
      "Epoch 094 train_loss: 0.2734     val_loss 0.7912 train_acc 0.9167 val_acc 0.6952, learning rate 2.4000000000000003e-06\n"
     ]
    },
    {
     "name": "stderr",
     "output_type": "stream",
     "text": [
      "epoch:  95%|██████████████████████████████████████████████████████████████████████▎   | 95/100 [25:01<01:18, 15.75s/it]"
     ]
    },
    {
     "name": "stdout",
     "output_type": "stream",
     "text": [
      "\n",
      "Epoch 095 train_loss: 0.2730     val_loss 0.7912 train_acc 0.9177 val_acc 0.6952, learning rate 2.4000000000000003e-06\n"
     ]
    },
    {
     "name": "stderr",
     "output_type": "stream",
     "text": [
      "epoch:  96%|███████████████████████████████████████████████████████████████████████   | 96/100 [25:17<01:02, 15.70s/it]"
     ]
    },
    {
     "name": "stdout",
     "output_type": "stream",
     "text": [
      "\n",
      "Epoch 096 train_loss: 0.2750     val_loss 0.7912 train_acc 0.9170 val_acc 0.6952, learning rate 2.4000000000000003e-06\n"
     ]
    },
    {
     "name": "stderr",
     "output_type": "stream",
     "text": [
      "epoch:  97%|███████████████████████████████████████████████████████████████████████▊  | 97/100 [25:33<00:47, 15.74s/it]"
     ]
    },
    {
     "name": "stdout",
     "output_type": "stream",
     "text": [
      "\n",
      "Epoch 097 train_loss: 0.2737     val_loss 0.7912 train_acc 0.9167 val_acc 0.6952, learning rate 2.4000000000000003e-06\n"
     ]
    },
    {
     "name": "stderr",
     "output_type": "stream",
     "text": [
      "epoch:  98%|████████████████████████████████████████████████████████████████████████▌ | 98/100 [25:48<00:31, 15.78s/it]"
     ]
    },
    {
     "name": "stdout",
     "output_type": "stream",
     "text": [
      "\n",
      "Epoch 098 train_loss: 0.2740     val_loss 0.7912 train_acc 0.9174 val_acc 0.6952, learning rate 2.4000000000000003e-06\n"
     ]
    },
    {
     "name": "stderr",
     "output_type": "stream",
     "text": [
      "epoch:  99%|█████████████████████████████████████████████████████████████████████████▎| 99/100 [26:04<00:15, 15.71s/it]"
     ]
    },
    {
     "name": "stdout",
     "output_type": "stream",
     "text": [
      "\n",
      "Epoch 099 train_loss: 0.2709     val_loss 0.7912 train_acc 0.9190 val_acc 0.6952, learning rate 2.4000000000000003e-06\n"
     ]
    },
    {
     "name": "stderr",
     "output_type": "stream",
     "text": [
      "epoch: 100%|█████████████████████████████████████████████████████████████████████████| 100/100 [26:20<00:00, 15.80s/it]"
     ]
    },
    {
     "name": "stdout",
     "output_type": "stream",
     "text": [
      "\n",
      "Epoch 100 train_loss: 0.2729     val_loss 0.7912 train_acc 0.9178 val_acc 0.6952, learning rate 4.800000000000001e-07\n"
     ]
    },
    {
     "name": "stderr",
     "output_type": "stream",
     "text": [
      "\n"
     ]
    }
   ],
   "source": [
    "rubert = rubert.to(device)\n",
    "graphs, trained_model = train_transformer(train_dataloader_ru, valid_dataloader_ru,\n",
    "                                                                rubert, epochs=100,\n",
    "                                                                rate=lr, criterion=bce, freeze=False)"
   ]
  },
  {
   "cell_type": "markdown",
   "id": "70761315-465d-416f-986b-7f5be952ef76",
   "metadata": {},
   "source": [
    "Вывод: при использовании Torch и глубокое обучение для нахождении \"нулевых\" наблюдений промежуточная метрика для Ансамбля не превышает 0,7."
   ]
  },
  {
   "cell_type": "markdown",
   "id": "411a5b15-efa5-4c7c-a4c4-49cedcf00ee6",
   "metadata": {},
   "source": [
    "# Общий вывод"
   ]
  },
  {
   "cell_type": "markdown",
   "id": "e59ed9a8-8a4f-4aba-9b3f-556741db3c09",
   "metadata": {},
   "source": [
    "Анализ данных: На входе имеем датасет из 8708 наблюдений. Внутри есть непосредственно комментарии текстом. Теги отмеченые пользователем при комментировании - их можно будет попробывать использовать при обучении. Разметка состоит из 50 котегорий 0 и 1. Полностью нулевых разметок 4085 из 8708. Эти наблюдения будут сильно мешать обучению, но и убирать их нельзя, так как \"пустые\" комментарии - неотемлимая часть подобных сервисов. Некоторые тематики имеют очень мало меток: большенство до 50 шт. 46я тематека всего 7 шт. При таком соотношении я считаю, что модели при обучении мудут стремится отметить 'нули' - это видно метрике в baseline (0,500) против полностью нулевых значений (0.4691). В ходе поверхностной проверке разметка сделано адекватна. Однако мною замечены среди \"нулевых\" разметок информативные комментарии, которые остались без меток. Дупликатов и пропусков нет.\n",
    "\n",
    "Обучение: \n",
    "При обучении моделей было использовано множество подходов. Хочется выделить применения Ансамля моделей.\n",
    "Суть гепотезы: Необходимо проредить основной датасет с помощью модели логистической регресии для нахождение \"нулевых\" наблюдений. Потом учимся класически на прореженных данных. Основную метрику считаю с учетом принудительно \"обнуленных\" наблюдений выделенных в первом этапе.\n",
    "Полученый результат: Метрика 0.50344. Есть маленкий буст.\n",
    "\n",
    "Вывод: В проекте я сделал упор на выявления именно \"нулевых\" наблюдений. Считаю, что при эффективном их выявлении можно добится каких-то результатов. \n",
    "\n",
    "Недостатки входящих данных:\n",
    "* задача на 50 тематик очень сложная для маленького несбалансированного датасета\n",
    "* разметка не идеальна: среди \"нулевых\" разметок есть информативные комментарии\n",
    "\n",
    "Рекомендации:\n",
    "* увеличить количество наблюдений для обучения\n",
    "* улучшить качество разметки\n",
    "* нужен баланс между тематиками\n",
    "* большенство тематик представлены в выборке в количестве до 50 наблюдений - это очень мало. \n"
   ]
  }
 ],
 "metadata": {
  "kernelspec": {
   "display_name": "Python 3 (ipykernel)",
   "language": "python",
   "name": "python3"
  },
  "language_info": {
   "codemirror_mode": {
    "name": "ipython",
    "version": 3
   },
   "file_extension": ".py",
   "mimetype": "text/x-python",
   "name": "python",
   "nbconvert_exporter": "python",
   "pygments_lexer": "ipython3",
   "version": "3.9.21"
  }
 },
 "nbformat": 4,
 "nbformat_minor": 5
}
